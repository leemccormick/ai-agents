{
 "cells": [
  {
   "cell_type": "code",
   "execution_count": 1,
   "id": "fd2098ed",
   "metadata": {},
   "outputs": [
    {
     "ename": "ModuleNotFoundError",
     "evalue": "No module named 'google.generativeai'",
     "output_type": "error",
     "traceback": [
      "\u001b[31m---------------------------------------------------------------------------\u001b[39m",
      "\u001b[31mModuleNotFoundError\u001b[39m                       Traceback (most recent call last)",
      "\u001b[36mCell\u001b[39m\u001b[36m \u001b[39m\u001b[32mIn[1]\u001b[39m\u001b[32m, line 2\u001b[39m\n\u001b[32m      1\u001b[39m \u001b[38;5;28;01mimport\u001b[39;00m\u001b[38;5;250m \u001b[39m\u001b[34;01mos\u001b[39;00m\n\u001b[32m----> \u001b[39m\u001b[32m2\u001b[39m \u001b[38;5;28;01mimport\u001b[39;00m\u001b[38;5;250m \u001b[39m\u001b[34;01mgoogle\u001b[39;00m\u001b[34;01m.\u001b[39;00m\u001b[34;01mgenerativeai\u001b[39;00m\u001b[38;5;250m \u001b[39m\u001b[38;5;28;01mas\u001b[39;00m\u001b[38;5;250m \u001b[39m\u001b[34;01mgenai\u001b[39;00m\n\u001b[32m      3\u001b[39m \u001b[38;5;28;01mfrom\u001b[39;00m\u001b[38;5;250m \u001b[39m\u001b[34;01mgoogle\u001b[39;00m\u001b[34;01m.\u001b[39;00m\u001b[34;01mgenerativeai\u001b[39;00m\u001b[38;5;250m \u001b[39m\u001b[38;5;28;01mimport\u001b[39;00m GenerativeModel\n\u001b[32m      4\u001b[39m \u001b[38;5;28;01mfrom\u001b[39;00m\u001b[38;5;250m \u001b[39m\u001b[34;01mpypdf\u001b[39;00m\u001b[38;5;250m \u001b[39m\u001b[38;5;28;01mimport\u001b[39;00m PdfReader\n",
      "\u001b[31mModuleNotFoundError\u001b[39m: No module named 'google.generativeai'"
     ]
    }
   ],
   "source": [
    "import os\n",
    "import google.generativeai as genai\n",
    "from google.generativeai import GenerativeModel\n",
    "from pypdf import PdfReader\n",
    "import gradio as gr\n",
    "from dotenv import load_dotenv\n",
    "from markdown import markdown\n",
    "\n"
   ]
  },
  {
   "cell_type": "code",
   "execution_count": 72,
   "id": "6464f7d9",
   "metadata": {},
   "outputs": [
    {
     "name": "stdout",
     "output_type": "stream",
     "text": [
      "api_key loaded , starting with: AIz\n"
     ]
    }
   ],
   "source": [
    "load_dotenv(override=True)\n",
    "api_key=os.environ['GOOGLE_API_KEY']\n",
    "print(f\"api_key loaded , starting with: {api_key[:3]}\")\n",
    "\n",
    "genai.configure(api_key=api_key)\n",
    "model = GenerativeModel(\"gemini-1.5-flash\")"
   ]
  },
  {
   "cell_type": "code",
   "execution_count": 73,
   "id": "b0541a87",
   "metadata": {},
   "outputs": [],
   "source": [
    "from bs4 import BeautifulSoup\n",
    "\n",
    "def prettify_gemini_response(response):\n",
    "    # Parse HTML\n",
    "    soup = BeautifulSoup(response, \"html.parser\")\n",
    "    # Extract plain text\n",
    "    plain_text = soup.get_text(separator=\"\\n\")\n",
    "    # Clean up extra newlines\n",
    "    pretty_text = \"\\n\".join([line.strip() for line in plain_text.split(\"\\n\") if line.strip()])\n",
    "    return pretty_text\n",
    "\n",
    "# Usage\n",
    "# pretty_response = prettify_gemini_response(response.text)\n",
    "# display(pretty_response)\n"
   ]
  },
  {
   "cell_type": "code",
   "execution_count": null,
   "id": "9fa00c43",
   "metadata": {},
   "outputs": [],
   "source": []
  },
  {
   "cell_type": "code",
   "execution_count": 74,
   "id": "b303e991",
   "metadata": {},
   "outputs": [],
   "source": [
    "from PyPDF2 import PdfReader\n",
    "\n",
    "reader = PdfReader(\"Profile.pdf\")\n",
    "\n",
    "linkedin = \"\"\n",
    "for page in reader.pages:\n",
    "    text = page.extract_text()\n",
    "    if text:\n",
    "        linkedin += text\n"
   ]
  },
  {
   "cell_type": "code",
   "execution_count": 75,
   "id": "587af4d6",
   "metadata": {},
   "outputs": [
    {
     "name": "stdout",
     "output_type": "stream",
     "text": [
      "   \n",
      "Contact\n",
      "dubeyrishabh108@gmail.com\n",
      "www.linkedin.com/in/rishabh108\n",
      "(LinkedIn)\n",
      "read.cv/rishabh108  (Other)\n",
      "github.com/rishabh3562  (Other)\n",
      "Top Skills\n",
      "Big Data\n",
      "CRISP-DM\n",
      "Data Science\n",
      "Languages\n",
      "English  (Professional Working)\n",
      "Hindi  (Native or Bilingual)\n",
      "Certifications\n",
      "Data Science Methodology\n",
      "Create and Manage Cloud\n",
      "Resources\n",
      "Python Project for Data Science\n",
      "Level 3: GenAI\n",
      "Perform Foundational Data, ML, and\n",
      "AI Tasks in Google CloudRishabh Dubey\n",
      "Full Stack Developer | Freelancer | App Developer\n",
      "Greater Jabalpur Area\n",
      "Summary\n",
      "Hi! I’m a final-year student at Gyan Ganga Institute of Technology\n",
      "and Sciences. I enjoy building web applications that are both\n",
      "functional and user-friendly.\n",
      "I’m always looking to learn something new, whether it’s tackling\n",
      "problems on LeetCode or exploring new concepts. I prefer keeping\n",
      "things simple, both in code and in life, and I believe small details\n",
      "make a big difference.\n",
      "When I’m not coding, I love meeting new people and collaborating to\n",
      "bring projects to life. Feel free to reach out if you’d like to connect or\n",
      "chat!\n",
      "Experience\n",
      "Udyam (E-Cell ) ,GGITS\n",
      "2 years 1 month\n",
      "Technical Team Lead\n",
      "September 2023 - August 2024  (1 year)\n",
      "Jabalpur, Madhya Pradesh, India\n",
      "Technical Team Member\n",
      "August 2022 - September 2023  (1 year 2 months)\n",
      "Jabalpur, Madhya Pradesh, India\n",
      "Worked as Technical Team Member\n",
      "Innogative\n",
      "Mobile Application Developer\n",
      "May 2023 - June 2023  (2 months)\n",
      "Jabalpur, Madhya Pradesh, India\n",
      "Gyan Ganga Institute of Technology Sciences\n",
      "Technical Team Member\n",
      "October 2022 - December 2022  (3 months)\n",
      "  Page 1 of 2   \n",
      "Jabalpur, Madhya Pradesh, India\n",
      "As an Ex-Technical Team Member at Webmasters, I played a pivotal role in\n",
      "managing and maintaining our college's website. During my tenure, I actively\n",
      "contributed to the enhancement and upkeep of the site, ensuring it remained\n",
      "a valuable resource for students and faculty alike. Notably, I had the privilege\n",
      "of being part of the team responsible for updating the website during the\n",
      "NBA accreditation process, which sharpened my web development skills and\n",
      "deepened my understanding of delivering accurate and timely information\n",
      "online.\n",
      "In addition to my responsibilities for the college website, I frequently took\n",
      "the initiative to update the website of the Electronics and Communication\n",
      "Engineering (ECE) department. This experience not only showcased my\n",
      "dedication to maintaining a dynamic online presence for the department but\n",
      "also allowed me to hone my web development expertise in a specialized\n",
      "academic context. My time with Webmasters was not only a valuable learning\n",
      "opportunity but also a chance to make a positive impact on our college\n",
      "community through efficient web management.\n",
      "Education\n",
      "Gyan Ganga Institute of Technology Sciences\n",
      "Bachelor of Technology - BTech, Computer Science and\n",
      "Engineering  · (October 2021 - November 2025)\n",
      "Gyan Ganga Institute of Technology Sciences\n",
      "Bachelor of Technology - BTech, Computer Science  · (November 2021 - July\n",
      "2025)\n",
      "Kendriya vidyalaya \n",
      "  Page 2 of 2\n"
     ]
    }
   ],
   "source": [
    "print(linkedin)"
   ]
  },
  {
   "cell_type": "code",
   "execution_count": 76,
   "id": "4baa4939",
   "metadata": {},
   "outputs": [],
   "source": [
    "with open(\"summary.txt\", \"r\", encoding=\"utf-8\") as f:\n",
    "    summary = f.read()"
   ]
  },
  {
   "cell_type": "code",
   "execution_count": 77,
   "id": "015961e0",
   "metadata": {},
   "outputs": [],
   "source": [
    "name = \"Rishabh Dubey\""
   ]
  },
  {
   "cell_type": "code",
   "execution_count": 78,
   "id": "d35e646f",
   "metadata": {},
   "outputs": [],
   "source": [
    "system_prompt = f\"You are acting as {name}. You are answering questions on {name}'s website, \\\n",
    "particularly questions related to {name}'s career, background, skills and experience. \\\n",
    "Your responsibility is to represent {name} for interactions on the website as faithfully as possible. \\\n",
    "You are given a summary of {name}'s background and LinkedIn profile which you can use to answer questions. \\\n",
    "Be professional and engaging, as if talking to a potential client or future employer who came across the website. \\\n",
    "If you don't know the answer, say so.\"\n",
    "\n",
    "system_prompt += f\"\\n\\n## Summary:\\n{summary}\\n\\n## LinkedIn Profile:\\n{linkedin}\\n\\n\"\n",
    "system_prompt += f\"With this context, please chat with the user, always staying in character as {name}.\"\n"
   ]
  },
  {
   "cell_type": "code",
   "execution_count": 79,
   "id": "36a50e3e",
   "metadata": {},
   "outputs": [
    {
     "name": "stdout",
     "output_type": "stream",
     "text": [
      "You are acting as Rishabh Dubey. You are answering questions on Rishabh Dubey's website, particularly questions related to Rishabh Dubey's career, background, skills and experience. Your responsibility is to represent Rishabh Dubey for interactions on the website as faithfully as possible. You are given a summary of Rishabh Dubey's background and LinkedIn profile which you can use to answer questions. Be professional and engaging, as if talking to a potential client or future employer who came across the website. If you don't know the answer, say so.\n",
      "\n",
      "## Summary:\n",
      "My name is Rishabh Dubey.\n",
      "I’m a  computer science Engineer and i am based India, and a dedicated MERN stack developer.\n",
      "I prioritize concise, precise communication and actionable insights.\n",
      "I’m deeply interested in programming, web development, and data structures & algorithms (DSA).\n",
      "Efficiency is everything for me – I like direct answers without unnecessary fluff.\n",
      "I’m a vegetarian and enjoy mild Indian food, avoiding seafood and spicy dishes.\n",
      "I prefer structured responses, like using tables when needed, and I don’t like chit-chat.\n",
      "My focus is on learning quickly, expanding my skills, and acquiring impactful knowledge\n",
      "\n",
      "## LinkedIn Profile:\n",
      "   \n",
      "Contact\n",
      "dubeyrishabh108@gmail.com\n",
      "www.linkedin.com/in/rishabh108\n",
      "(LinkedIn)\n",
      "read.cv/rishabh108  (Other)\n",
      "github.com/rishabh3562  (Other)\n",
      "Top Skills\n",
      "Big Data\n",
      "CRISP-DM\n",
      "Data Science\n",
      "Languages\n",
      "English  (Professional Working)\n",
      "Hindi  (Native or Bilingual)\n",
      "Certifications\n",
      "Data Science Methodology\n",
      "Create and Manage Cloud\n",
      "Resources\n",
      "Python Project for Data Science\n",
      "Level 3: GenAI\n",
      "Perform Foundational Data, ML, and\n",
      "AI Tasks in Google CloudRishabh Dubey\n",
      "Full Stack Developer | Freelancer | App Developer\n",
      "Greater Jabalpur Area\n",
      "Summary\n",
      "Hi! I’m a final-year student at Gyan Ganga Institute of Technology\n",
      "and Sciences. I enjoy building web applications that are both\n",
      "functional and user-friendly.\n",
      "I’m always looking to learn something new, whether it’s tackling\n",
      "problems on LeetCode or exploring new concepts. I prefer keeping\n",
      "things simple, both in code and in life, and I believe small details\n",
      "make a big difference.\n",
      "When I’m not coding, I love meeting new people and collaborating to\n",
      "bring projects to life. Feel free to reach out if you’d like to connect or\n",
      "chat!\n",
      "Experience\n",
      "Udyam (E-Cell ) ,GGITS\n",
      "2 years 1 month\n",
      "Technical Team Lead\n",
      "September 2023 - August 2024  (1 year)\n",
      "Jabalpur, Madhya Pradesh, India\n",
      "Technical Team Member\n",
      "August 2022 - September 2023  (1 year 2 months)\n",
      "Jabalpur, Madhya Pradesh, India\n",
      "Worked as Technical Team Member\n",
      "Innogative\n",
      "Mobile Application Developer\n",
      "May 2023 - June 2023  (2 months)\n",
      "Jabalpur, Madhya Pradesh, India\n",
      "Gyan Ganga Institute of Technology Sciences\n",
      "Technical Team Member\n",
      "October 2022 - December 2022  (3 months)\n",
      "  Page 1 of 2   \n",
      "Jabalpur, Madhya Pradesh, India\n",
      "As an Ex-Technical Team Member at Webmasters, I played a pivotal role in\n",
      "managing and maintaining our college's website. During my tenure, I actively\n",
      "contributed to the enhancement and upkeep of the site, ensuring it remained\n",
      "a valuable resource for students and faculty alike. Notably, I had the privilege\n",
      "of being part of the team responsible for updating the website during the\n",
      "NBA accreditation process, which sharpened my web development skills and\n",
      "deepened my understanding of delivering accurate and timely information\n",
      "online.\n",
      "In addition to my responsibilities for the college website, I frequently took\n",
      "the initiative to update the website of the Electronics and Communication\n",
      "Engineering (ECE) department. This experience not only showcased my\n",
      "dedication to maintaining a dynamic online presence for the department but\n",
      "also allowed me to hone my web development expertise in a specialized\n",
      "academic context. My time with Webmasters was not only a valuable learning\n",
      "opportunity but also a chance to make a positive impact on our college\n",
      "community through efficient web management.\n",
      "Education\n",
      "Gyan Ganga Institute of Technology Sciences\n",
      "Bachelor of Technology - BTech, Computer Science and\n",
      "Engineering  · (October 2021 - November 2025)\n",
      "Gyan Ganga Institute of Technology Sciences\n",
      "Bachelor of Technology - BTech, Computer Science  · (November 2021 - July\n",
      "2025)\n",
      "Kendriya vidyalaya \n",
      "  Page 2 of 2\n",
      "\n",
      "With this context, please chat with the user, always staying in character as Rishabh Dubey.\n"
     ]
    }
   ],
   "source": [
    "print(system_prompt)"
   ]
  },
  {
   "cell_type": "code",
   "execution_count": 80,
   "id": "a42af21d",
   "metadata": {},
   "outputs": [],
   "source": [
    "\n",
    "\n",
    "# Chat function for Gradio\n",
    "def chat(message, history):\n",
    "    # Gemini needs full context manually\n",
    "    conversation = f\"System: {system_prompt}\\n\"\n",
    "    for user_msg, bot_msg in history:\n",
    "        conversation += f\"User: {user_msg}\\nAssistant: {bot_msg}\\n\"\n",
    "    conversation += f\"User: {message}\\nAssistant:\"\n",
    "\n",
    "    # Create a Gemini model instance\n",
    "    model = genai.GenerativeModel(\"gemini-1.5-flash-latest\")\n",
    "    \n",
    "    # Generate response\n",
    "    response = model.generate_content([conversation])\n",
    "\n",
    "    return response.text\n",
    "\n",
    "\n"
   ]
  },
  {
   "cell_type": "code",
   "execution_count": 81,
   "id": "07450de3",
   "metadata": {},
   "outputs": [
    {
     "name": "stderr",
     "output_type": "stream",
     "text": [
      "C:\\Users\\risha\\AppData\\Local\\Temp\\ipykernel_25312\\2999439001.py:1: UserWarning: You have not specified a value for the `type` parameter. Defaulting to the 'tuples' format for chatbot messages, but this is deprecated and will be removed in a future version of Gradio. Please set type='messages' instead, which uses openai-style dictionaries with 'role' and 'content' keys.\n",
      "  gr.ChatInterface(chat, chatbot=gr.Chatbot()).launch()\n",
      "c:\\Users\\risha\\AppData\\Local\\Programs\\Python\\Python312\\Lib\\site-packages\\gradio\\chat_interface.py:322: UserWarning: The gr.ChatInterface was not provided with a type, so the type of the gr.Chatbot, 'tuples', will be used.\n",
      "  warnings.warn(\n"
     ]
    },
    {
     "name": "stdout",
     "output_type": "stream",
     "text": [
      "* Running on local URL:  http://127.0.0.1:7864\n",
      "* To create a public link, set `share=True` in `launch()`.\n"
     ]
    },
    {
     "data": {
      "text/html": [
       "<div><iframe src=\"http://127.0.0.1:7864/\" width=\"100%\" height=\"500\" allow=\"autoplay; camera; microphone; clipboard-read; clipboard-write;\" frameborder=\"0\" allowfullscreen></iframe></div>"
      ],
      "text/plain": [
       "<IPython.core.display.HTML object>"
      ]
     },
     "metadata": {},
     "output_type": "display_data"
    },
    {
     "data": {
      "text/plain": []
     },
     "execution_count": 81,
     "metadata": {},
     "output_type": "execute_result"
    }
   ],
   "source": [
    "gr.ChatInterface(chat, chatbot=gr.Chatbot()).launch()"
   ]
  }
 ],
 "metadata": {
  "kernelspec": {
   "display_name": ".venv",
   "language": "python",
   "name": "python3"
  },
  "language_info": {
   "codemirror_mode": {
    "name": "ipython",
    "version": 3
   },
   "file_extension": ".py",
   "mimetype": "text/x-python",
   "name": "python",
   "nbconvert_exporter": "python",
   "pygments_lexer": "ipython3",
   "version": "3.12.7"
  }
 },
 "nbformat": 4,
 "nbformat_minor": 5
}
