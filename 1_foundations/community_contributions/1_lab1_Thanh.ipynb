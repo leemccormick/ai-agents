{
 "cells": [
  {
   "cell_type": "markdown",
   "metadata": {},
   "source": [
    "# Welcome to the start of your adventure in Agentic AI"
   ]
  },
  {
   "cell_type": "markdown",
   "metadata": {},
   "source": [
    "### And please do remember to contact me if I can help\n",
    "\n",
    "And I love to connect: https://www.linkedin.com/in/eddonner/\n",
    "\n",
    "\n",
    "### New to Notebooks like this one? Head over to the guides folder!\n",
    "\n",
    "Just to check you've already added the Python and Jupyter extensions to Cursor, if not already installed:\n",
    "- Open extensions (View >> extensions)\n",
    "- Search for python, and when the results show, click on the ms-python one, and Install it if not already installed\n",
    "- Search for jupyter, and when the results show, click on the Microsoft one, and Install it if not already installed  \n",
    "Then View >> Explorer to bring back the File Explorer.\n",
    "\n",
    "And then:\n",
    "1. Click where it says \"Select Kernel\" near the top right, and select the option called `.venv (Python 3.12.9)` or similar, which should be the first choice or the most prominent choice. You may need to choose \"Python Environments\" first.\n",
    "2. Click in each \"cell\" below, starting with the cell immediately below this text, and press Shift+Enter to run\n",
    "3. Enjoy!\n",
    "\n",
    "After you click \"Select Kernel\", if there is no option like `.venv (Python 3.12.9)` then please do the following:  \n",
    "1. On Mac: From the Cursor menu, choose Settings >> VS Code Settings (NOTE: be sure to select `VSCode Settings` not `Cursor Settings`);  \n",
    "On Windows PC: From the File menu, choose Preferences >> VS Code Settings(NOTE: be sure to select `VSCode Settings` not `Cursor Settings`)  \n",
    "2. In the Settings search bar, type \"venv\"  \n",
    "3. In the field \"Path to folder with a list of Virtual Environments\" put the path to the project root, like C:\\Users\\username\\projects\\agents (on a Windows PC) or /Users/username/projects/agents (on Mac or Linux).  \n",
    "And then try again.\n",
    "\n",
    "Having problems with missing Python versions in that list? Have you ever used Anaconda before? It might be interferring. Quit Cursor, bring up a new command line, and make sure that your Anaconda environment is deactivated:    \n",
    "`conda deactivate`  \n",
    "And if you still have any problems with conda and python versions, it's possible that you will need to run this too:  \n",
    "`conda config --set auto_activate_base false`  \n",
    "and then from within the Agents directory, you should be able to run `uv python list` and see the Python 3.12 version."
   ]
  },
  {
   "cell_type": "code",
   "execution_count": 1,
   "metadata": {},
   "outputs": [
    {
     "data": {
      "text/plain": [
       "True"
      ]
     },
     "execution_count": 1,
     "metadata": {},
     "output_type": "execute_result"
    }
   ],
   "source": [
    "from dotenv import load_dotenv\n",
    "load_dotenv()"
   ]
  },
  {
   "cell_type": "code",
   "execution_count": 2,
   "metadata": {},
   "outputs": [
    {
     "ename": "ModuleNotFoundError",
     "evalue": "No module named 'google.generativeai'",
     "output_type": "error",
     "traceback": [
      "\u001b[31m---------------------------------------------------------------------------\u001b[39m",
      "\u001b[31mModuleNotFoundError\u001b[39m                       Traceback (most recent call last)",
      "\u001b[36mCell\u001b[39m\u001b[36m \u001b[39m\u001b[32mIn[2]\u001b[39m\u001b[32m, line 2\u001b[39m\n\u001b[32m      1\u001b[39m \u001b[38;5;66;03m# Check the keys\u001b[39;00m\n\u001b[32m----> \u001b[39m\u001b[32m2\u001b[39m \u001b[38;5;28;01mimport\u001b[39;00m\u001b[38;5;250m \u001b[39m\u001b[34;01mgoogle\u001b[39;00m\u001b[34;01m.\u001b[39;00m\u001b[34;01mgenerativeai\u001b[39;00m\u001b[38;5;250m \u001b[39m\u001b[38;5;28;01mas\u001b[39;00m\u001b[38;5;250m \u001b[39m\u001b[34;01mgenai\u001b[39;00m\n\u001b[32m      3\u001b[39m \u001b[38;5;28;01mimport\u001b[39;00m\u001b[38;5;250m \u001b[39m\u001b[34;01mos\u001b[39;00m\n\u001b[32m      4\u001b[39m genai.configure(api_key=os.getenv(\u001b[33m'\u001b[39m\u001b[33mGOOGLE_API_KEY\u001b[39m\u001b[33m'\u001b[39m))\n",
      "\u001b[31mModuleNotFoundError\u001b[39m: No module named 'google.generativeai'"
     ]
    }
   ],
   "source": [
    "# Check the keys\n",
    "import google.generativeai as genai\n",
    "import os\n",
    "genai.configure(api_key=os.getenv('GOOGLE_API_KEY'))\n",
    "model = genai.GenerativeModel(model_name=\"gemini-1.5-flash\")\n"
   ]
  },
  {
   "cell_type": "code",
   "execution_count": 3,
   "metadata": {},
   "outputs": [
    {
     "ename": "NameError",
     "evalue": "name 'model' is not defined",
     "output_type": "error",
     "traceback": [
      "\u001b[31m---------------------------------------------------------------------------\u001b[39m",
      "\u001b[31mNameError\u001b[39m                                 Traceback (most recent call last)",
      "\u001b[36mCell\u001b[39m\u001b[36m \u001b[39m\u001b[32mIn[3]\u001b[39m\u001b[32m, line 3\u001b[39m\n\u001b[32m      1\u001b[39m \u001b[38;5;66;03m# Create a list of messages in the familiar Gemini GenAI format\u001b[39;00m\n\u001b[32m----> \u001b[39m\u001b[32m3\u001b[39m response = \u001b[43mmodel\u001b[49m.generate_content([\u001b[33m\"\u001b[39m\u001b[33m2+2=?\u001b[39m\u001b[33m\"\u001b[39m])\n\u001b[32m      4\u001b[39m response.text\n",
      "\u001b[31mNameError\u001b[39m: name 'model' is not defined"
     ]
    }
   ],
   "source": [
    "# Create a list of messages in the familiar Gemini GenAI format\n",
    "\n",
    "response = model.generate_content([\"2+2=?\"])\n",
    "response.text"
   ]
  },
  {
   "cell_type": "code",
   "execution_count": null,
   "metadata": {},
   "outputs": [],
   "source": [
    "# And now - let's ask for a question:\n",
    "\n",
    "question = \"Please propose a hard, challenging question to assess someone's IQ. Respond only with the question.\"\n",
    "\n",
    "response = model.generate_content([question])\n",
    "print(response.text)"
   ]
  },
  {
   "cell_type": "code",
   "execution_count": null,
   "metadata": {},
   "outputs": [],
   "source": [
    "from IPython.display import Markdown, display\n",
    "\n",
    "display(Markdown(response.text))"
   ]
  },
  {
   "cell_type": "markdown",
   "metadata": {},
   "source": [
    "# Congratulations!\n",
    "\n",
    "That was a small, simple step in the direction of Agentic AI, with your new environment!\n",
    "\n",
    "Next time things get more interesting..."
   ]
  },
  {
   "cell_type": "code",
   "execution_count": 4,
   "metadata": {},
   "outputs": [
    {
     "name": "stderr",
     "output_type": "stream",
     "text": [
      "Both GOOGLE_API_KEY and GEMINI_API_KEY are set. Using GOOGLE_API_KEY.\n"
     ]
    },
    {
     "name": "stdout",
     "output_type": "stream",
     "text": [
      "Gemini API Key exists and begins AIzaSyDL\n",
      "OPEN AI API Key exists and begins sk-proj-\n"
     ]
    },
    {
     "data": {
      "text/markdown": [
       "### Song Idea:"
      ],
      "text/plain": [
       "<IPython.core.display.Markdown object>"
      ]
     },
     "metadata": {},
     "output_type": "display_data"
    },
    {
     "data": {
      "text/markdown": [
       "Okay, let's break this down, and then I'll give you a new song idea.\n",
       "\n",
       "**1980s Song Example:**\n",
       "\n",
       "*   **Song:** \"Take On Me\"\n",
       "*   **Popular Lyrics:** \"Take on me (take on me) / Take me on (take on me) / I'll be gone / In a day or two\"\n",
       "*   **Artist:** a-ha\n",
       "*   **Album:** *Hunting High and Low*\n",
       "*   **Year Released:** 1985\n",
       "*   **Genre:** Synth-pop\n",
       "\n",
       "**Now, for a new song idea in the style of a 1980s hit:**\n",
       "\n",
       "**Song Title:** \"Neon Dreams\"\n",
       "\n",
       "**Artist:** (Imagine a new wave band with a synth-heavy sound, let's call them \"Electric Static\")\n",
       "\n",
       "**Genre:** Synth-pop/New Wave with a touch of arena rock\n",
       "\n",
       "**Concept:** The song is about chasing fleeting ambitions and the vibrant energy of city nightlife, but with an underlying feeling of disillusionment.\n",
       "\n",
       "**Lyrics (Chorus - Catchy & Memorable):**\n",
       "\n",
       "Neon dreams, fade to gray\n",
       "Another night, slipped away\n",
       "Chasing shadows in the light\n",
       "Neon dreams, burning bright.\n",
       "\n",
       "**Verse 1:**\n",
       "\n",
       "Chrome streets gleam, rain is fallin'\n",
       "City whispers, softly callin'\n",
       "Radio waves cuttin' through the night\n",
       "Searchin' for somethin' feelin' right\n",
       "\n",
       "**Verse 2:**\n",
       "\n",
       "Synthesizers pulse, a restless beat\n",
       "Lost in the crowd, hot on my feet\n",
       "Promises made in the smoke-filled air\n",
       "Livin' a life I cannot bear\n",
       "\n",
       "**Bridge:**\n",
       "\n",
       "Is this all there is? A fleeting show?\n",
       "Where does the real passion go?\n",
       "Behind the masks, behind the lies\n",
       "A longing gaze hides in your eyes\n",
       "\n",
       "**Video Idea:**\n",
       "\n",
       "*   **Visual Style:**  High contrast, lots of neon colors, smoky backdrops. Think *Miami Vice* meets *Blade Runner*.\n",
       "*   **Setting:** A futuristic city with rain-slicked streets, crowded clubs, and abandoned warehouses.\n",
       "*   **Story:** The band performs in a club, intercut with scenes of a young woman (the protagonist) wandering through the city, searching for something more meaningful amidst the artificial glamour.  She might be a struggling artist, or a disillusioned worker in a corporate dystopia. She sees the band and is drawn into the energy of their music, but ultimately realizes the music is a temporary fix and that she needs to move on from the night life. The video would end with the woman walking towards the sunrise, leaving the city behind.\n",
       "*   **Effects:**  Use of animation sequences (like \"Take On Me\"), glitch effects, and maybe some early CGI to create a unique visual experience.\n",
       "\n",
       "**Why it could be a hit:**\n",
       "\n",
       "*   **Catchy Melody:** The chorus is designed to be instantly memorable and singable.\n",
       "*   **Relatable Theme:** The song taps into the universal feeling of searching for meaning in a superficial world, especially relevant in a decade known for its materialism.\n",
       "*   **Strong Visuals:** The music video would be visually stunning and memorable, helping the song stand out.\n",
       "*   **Genre Revival:** The synth-pop/new wave sound is ripe for a comeback, appealing to both nostalgic fans and new listeners.\n"
      ],
      "text/plain": [
       "<IPython.core.display.Markdown object>"
      ]
     },
     "metadata": {},
     "output_type": "display_data"
    },
    {
     "data": {
      "text/markdown": [
       "### Song Analysis:"
      ],
      "text/plain": [
       "<IPython.core.display.Markdown object>"
      ]
     },
     "metadata": {},
     "output_type": "display_data"
    },
    {
     "data": {
      "text/markdown": [
       "Okay, I understand. You want to analyze the less appreciated or outright *bad* lyrics that might be lurking in 1980s synth-pop, and then apply that lens to my new song idea, \"Neon Dreams.\" Let's delve into the lyrical pitfalls of the 80s:\n",
       "\n",
       "**Common Lyrical Flaws in 1980s Synth-Pop:**\n",
       "\n",
       "*   **Repetitive and Simplistic to a Fault:** Many songs relied on heavily repetitive phrases with little variation. While catchiness is important, sometimes it crossed the line into sheer monotony.  Think of a song that repeats the same line 20 times with only minor changes.\n",
       "*   **Overly Literal and Clichéd:** Lyrics could be painfully obvious and lack subtlety. Stock phrases like \"burning desire,\" \"endless love,\" or \"dancing in the dark\" were overused to the point of meaninglessness.\n",
       "*   **Awkward English (Especially from Non-Native English Speakers):** While charming in some cases, sometimes the grammar or phrasing was just...off. This could be due to direct translations from another language that didn't quite work.\n",
       "*   **Cheesy Metaphors and Similes:**  The 80s were a decade of excess, and that often extended to lyrical imagery. Things like \"My love is a fire!\" (when clearly it's not *actually* a fire) were common.\n",
       "*   **Superficial and Lacking Depth:** Many songs prioritized surface-level emotions and didn't explore complex themes or nuances. It was all about the party and the good times, even if those good times felt hollow.\n",
       "*   **Overuse of Technology References (That Now Sound Dated):** References to \"computers\" or \"video games\" could feel forced or, decades later, incredibly dated and even cringe-worthy.\n",
       "\n",
       "**Example (Exaggerated for Effect, but Inspired by Real Examples):**\n",
       "\n",
       "Let's imagine a fictional 80s song lyric from an obscure B-side:\n",
       "\n",
       "\"Digital love, so cold and bright\n",
       "My circuit heart, burns tonight\n",
       "Binary code, your eyes so blue\n",
       "My motherboard, only wants you!\"\n",
       "\n",
       "(Clearly, terrible, but highlights the common traps!)\n",
       "\n",
       "**Now, Applying This to \"Neon Dreams\": Potential Pitfalls to Avoid:**\n",
       "\n",
       "Given the 80s influence, here's how we could unintentionally fall into these traps with \"Neon Dreams,\" and what to do about it:\n",
       "\n",
       "*   **Repetitive Chorus (Too Simple):**  The chorus is catchy, but repeating it *too* many times without lyrical variation could become annoying. **Solution:** Add a bridge with a slightly different melody or lyrical twist later in the song. Possibly even a pre-chorus to lead into it.\n",
       "*   **Clichéd Imagery:** \"Neon dreams\" itself is bordering on cliché.  We need to make the imagery *specific* and evocative, not just relying on the *idea* of neon.  **Solution:** Focus on concrete details of the city – the smell of rain on asphalt, the flicker of a broken sign, the sound of a distant siren.  Make the neon feel *real*, not just a stock image.\n",
       "*   **Forced Technology References:** Avoid mentioning specific tech from the 80s unless it's done ironically or with a purpose. A general sense of a futuristic, somewhat dystopian urban landscape is better. **Solution:** Instead of \"My floppy disk heart,\" focus on the general feeling of alienation and isolation in a technologically advanced society.\n",
       "*   **Lack of Depth:**  The song needs to be more than just a surface-level description of nightlife. **Solution:** Explore the internal struggles of the characters. Why are they chasing these dreams? What are they running *from*?  The bridge already touches on this, but it needs to be emphasized.\n",
       "*   **Meaningless Rhymes:** Don't force rhymes just for the sake of rhyming. **Solution:** Prioritize meaning and imagery over perfect rhymes. A near rhyme or assonance can sometimes be more effective than a predictable rhyme.\n",
       "\n",
       "**Revised Chorus (Trying to Improve):**\n",
       "\n",
       "Here's a revised chorus, trying to address the potential pitfalls:\n",
       "\n",
       "Neon dreams, bleed to gray\n",
       "Another night just fades away\n",
       "Chasing ghosts in fractured light\n",
       "Neon dreams, burn so bright.\n",
       "\n",
       "Notice the change from \"slipped away\" to \"fades away\" makes it stronger. Fractured light and ghosts are both better images.\n",
       "\n",
       "Let me know if you'd like me to revise more of the lyrics with this \"avoiding the cheesy 80s trap\" mindset!\n"
      ],
      "text/plain": [
       "<IPython.core.display.Markdown object>"
      ]
     },
     "metadata": {},
     "output_type": "display_data"
    },
    {
     "data": {
      "text/markdown": [
       "### Song Lyrics:"
      ],
      "text/plain": [
       "<IPython.core.display.Markdown object>"
      ]
     },
     "metadata": {},
     "output_type": "display_data"
    },
    {
     "data": {
      "text/markdown": [
       "Sure! Let’s revise the lyrics for \"Neon Dreams\" to enhance their imagery, emotional depth, and overall appeal while steering clear of the pitfalls associated with 1980s synth-pop. Here’s a more refined version of the song:\n",
       "\n",
       "---\n",
       "\n",
       "**Song Title:** \"Neon Dreams\"\n",
       "\n",
       "**Chorus:**\n",
       "\n",
       "Neon dreams, bleed to gray  \n",
       "As the night slips further away  \n",
       "Chasing shadows in fractured light  \n",
       "Neon dreams, they burn so bright.\n",
       "\n",
       "**Verse 1:**\n",
       "\n",
       "Chrome streets shimmer, whispers collide,  \n",
       "Cityscapes pulse with the ebb of the tide.  \n",
       "Radio waves weave through the haze,  \n",
       "Searching for meaning in the city's maze.\n",
       "\n",
       "**Verse 2:**\n",
       "\n",
       "Synths resonate, a heartbeat's race,  \n",
       "Lost in the crowd, but I can't find my place.  \n",
       "Promises linger in the smoky air,  \n",
       "Riding the waves of a weightless despair.\n",
       "\n",
       "**Chorus:**\n",
       "\n",
       "Neon dreams, bleed to gray  \n",
       "As the night slips further away  \n",
       "Chasing shadows in fractured light  \n",
       "Neon dreams, they burn so bright.\n",
       "\n",
       "**Bridge:**\n",
       "\n",
       "Is this all there is? Just a fleeting show?  \n",
       "Where does the real passion go?  \n",
       "Behind the masks, beneath the sighs,  \n",
       "A yearning heart hides in your eyes.\n",
       "\n",
       "**Chorus:**\n",
       "\n",
       "Neon dreams, bleed to gray  \n",
       "As the night slips further away  \n",
       "Chasing shadows in fractured light  \n",
       "Neon dreams, they burn so bright.\n",
       "\n",
       "**Outro:**\n",
       "\n",
       "As dawn breaks sweet on the city’s face,  \n",
       "I leave behind this muted race.  \n",
       "In search of a truth that lights my way,  \n",
       "Neon dreams will guide my day.\n",
       "\n",
       "---\n",
       "\n",
       "### Analysis of the Changes:\n",
       "1. **Enhanced Imagery:** The use of phrases like \"Chrome streets shimmer\" and \"fractured light\" creates a more vivid picture.\n",
       "  \n",
       "2. **Emotional Depth:** Lines like \"Riding the waves of a weightless despair\" and \"A yearning heart hides in your eyes\" add complexity to the emotion.\n",
       "  \n",
       "3. **Cohesive Theme:** The updated lyrics maintain a cohesive narrative about disillusionment and searching for meaning while capturing the essence of nightlife.\n",
       "  \n",
       "4. **Avoiding Clichés:** By replacing overly used phrases and focusing on unique images, the lyrics feel fresher and more original.\n",
       "\n",
       "5. **Improved Flow:** The lyrical structure and rhymes are crafted to be more fluid, enhancing the overall musicality of the piece.\n",
       "\n",
       "Let me know if you want to revise more sections or further develop any particular ideas!"
      ],
      "text/plain": [
       "<IPython.core.display.Markdown object>"
      ]
     },
     "metadata": {},
     "output_type": "display_data"
    },
    {
     "data": {
      "text/markdown": [
       "**************************************************"
      ],
      "text/plain": [
       "<IPython.core.display.Markdown object>"
      ]
     },
     "metadata": {},
     "output_type": "display_data"
    }
   ],
   "source": [
    "# Exercise by Lee McCormick - Song \n",
    "import os\n",
    "import json\n",
    "from dotenv import load_dotenv\n",
    "from IPython.display import Markdown, display\n",
    "from google import genai\n",
    "from openai import OpenAI\n",
    "\n",
    "# Always remember to do this!\n",
    "load_dotenv(override=True)\n",
    "\n",
    "# Check the keys\n",
    "gemini_api_key = os.getenv('GEMINI_API_KEY')\n",
    "openai_api_key = os.getenv('OPENAI_API_KEY')\n",
    "\n",
    "if gemini_api_key:\n",
    "    print(f\"Gemini API Key exists and begins {gemini_api_key[:8]}\")\n",
    "else:\n",
    "    print(\"Gemini API Key not set - please head to the troubleshooting guide in the guides folder\")\n",
    "    \n",
    "if openai_api_key:\n",
    "    print(f\"OPEN AI API Key exists and begins {openai_api_key[:8]}\")\n",
    "else:\n",
    "    print(\"OPEN AI API Key not set - please head to the troubleshooting guide in the guides folder\")\n",
    "\n",
    "# Create the clients\n",
    "gemini_client = genai.Client(api_key=gemini_api_key)\n",
    "openai_client = OpenAI()\n",
    "\n",
    "# First create the messages for song idea:\n",
    "messages = [\"Think of a song from the 1980s that is a hit and has a video. Then think of the lyrics to the song that popular and are well known. Then think of the artist who sang the song. Then think of the album that the song is on. Then think of the year the song was released. Then think of the genre of the song. Then think of the lyrics to the song that popular and are well known. Then think of the artist who sang the song. Then think of the album that the song is on. Then think of the year the song was released. Then think of the genre of the song. And come up with a song idea that is a hit and has a video.\"]\n",
    "\n",
    "# Then make the first call:\n",
    "response = gemini_client.models.generate_content(\n",
    "    model=\"gemini-2.0-flash\", contents=messages\n",
    ")\n",
    "\n",
    "# Then read the song idea:\n",
    "song_idea = response.text\n",
    "display(Markdown(\"### Song Idea:\"))\n",
    "display(Markdown(song_idea))\n",
    "\n",
    "# And repeat by asking the pain point with the trip idea!\n",
    "messages = [f\"Now, analyze the {song_idea} and think of the lyrics that are not beautiful and are not well known.\"]\n",
    "\n",
    "response = gemini_client.models.generate_content(\n",
    "    model=\"gemini-2.0-flash\", contents=messages\n",
    ")\n",
    "\n",
    "# Then read the song analysis:\n",
    "song_analysis = response.text\n",
    "display(Markdown(\"### Song Analysis:\"))\n",
    "display(Markdown(song_analysis))\n",
    "\n",
    "# And repeat by asking the 3rd LLM to rewrite the song lyrics to make them more beautiful and well known.\n",
    "messages = [\n",
    "    {\n",
    "        \"role\": \"user\", \n",
    "        \"content\": f\"The song idea '{song_idea}' has the following analysis: {song_analysis}. Please rewrite the song lyrics to make them more beautiful and well known.\"\n",
    "    }\n",
    "]\n",
    "\n",
    "openai = OpenAI(api_key=os.getenv('OPENAI_API_KEY'))\n",
    "response = openai_client.chat.completions.create(\n",
    "    model=\"gpt-4o-mini\",\n",
    "    messages=messages,\n",
    ")\n",
    "\n",
    "# Then read the Song Lyrics:\n",
    "result = response.choices[0].message.content\n",
    "display(Markdown(\"### Song Lyrics:\"))\n",
    "display(Markdown(result))\n",
    "display(Markdown(\"**************************************************\"))"
   ]
  },
  {
   "cell_type": "markdown",
   "metadata": {},
   "source": []
  }
 ],
 "metadata": {
  "kernelspec": {
   "display_name": ".venv",
   "language": "python",
   "name": "python3"
  },
  "language_info": {
   "codemirror_mode": {
    "name": "ipython",
    "version": 3
   },
   "file_extension": ".py",
   "mimetype": "text/x-python",
   "name": "python",
   "nbconvert_exporter": "python",
   "pygments_lexer": "ipython3",
   "version": "3.12.7"
  }
 },
 "nbformat": 4,
 "nbformat_minor": 2
}
