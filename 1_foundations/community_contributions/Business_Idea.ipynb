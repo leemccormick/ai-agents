{
 "cells": [
  {
   "cell_type": "markdown",
   "metadata": {},
   "source": [
    "## Business idea generator and evaluator \n",
    "\n"
   ]
  },
  {
   "cell_type": "code",
   "execution_count": 1,
   "metadata": {},
   "outputs": [],
   "source": [
    "# Start with imports - ask ChatGPT to explain any package that you don't know\n",
    "\n",
    "import os\n",
    "import json\n",
    "from dotenv import load_dotenv\n",
    "from openai import OpenAI\n",
    "from anthropic import Anthropic\n",
    "from IPython.display import Markdown, display"
   ]
  },
  {
   "cell_type": "code",
   "execution_count": 24,
   "metadata": {},
   "outputs": [
    {
     "data": {
      "text/plain": [
       "True"
      ]
     },
     "execution_count": 24,
     "metadata": {},
     "output_type": "execute_result"
    }
   ],
   "source": [
    "# Always remember to do this!\n",
    "load_dotenv(override=True)"
   ]
  },
  {
   "cell_type": "code",
   "execution_count": 25,
   "metadata": {},
   "outputs": [
    {
     "name": "stdout",
     "output_type": "stream",
     "text": [
      "OpenAI API Key exists and begins sk-proj-\n",
      "Anthropic API Key exists and begins sk-ant-\n",
      "Google API Key exists and begins AI\n",
      "DeepSeek API Key exists and begins sk-\n",
      "Groq API Key exists and begins gsk_\n"
     ]
    }
   ],
   "source": [
    "# Print the key prefixes to help with any debugging\n",
    "\n",
    "openai_api_key = os.getenv('OPENAI_API_KEY')\n",
    "anthropic_api_key = os.getenv('ANTHROPIC_API_KEY')\n",
    "google_api_key = os.getenv('GOOGLE_API_KEY')\n",
    "deepseek_api_key = os.getenv('DEEPSEEK_API_KEY')\n",
    "groq_api_key = os.getenv('GROQ_API_KEY')\n",
    "\n",
    "if openai_api_key:\n",
    "    print(f\"OpenAI API Key exists and begins {openai_api_key[:8]}\")\n",
    "else:\n",
    "    print(\"OpenAI API Key not set\")\n",
    "    \n",
    "if anthropic_api_key:\n",
    "    print(f\"Anthropic API Key exists and begins {anthropic_api_key[:7]}\")\n",
    "else:\n",
    "    print(\"Anthropic API Key not set (and this is optional)\")\n",
    "\n",
    "if google_api_key:\n",
    "    print(f\"Google API Key exists and begins {google_api_key[:2]}\")\n",
    "else:\n",
    "    print(\"Google API Key not set (and this is optional)\")\n",
    "\n",
    "if deepseek_api_key:\n",
    "    print(f\"DeepSeek API Key exists and begins {deepseek_api_key[:3]}\")\n",
    "else:\n",
    "    print(\"DeepSeek API Key not set (and this is optional)\")\n",
    "\n",
    "if groq_api_key:\n",
    "    print(f\"Groq API Key exists and begins {groq_api_key[:4]}\")\n",
    "else:\n",
    "    print(\"Groq API Key not set (and this is optional)\")"
   ]
  },
  {
   "cell_type": "code",
   "execution_count": 26,
   "metadata": {},
   "outputs": [],
   "source": [
    "request = (\n",
    "    \"Please generate three innovative business ideas aligned with the latest global trends. \"\n",
    "    \"For each idea, include a brief description (2–3 sentences).\"\n",
    ")\n",
    "messages = [{\"role\": \"user\", \"content\": request}]"
   ]
  },
  {
   "cell_type": "code",
   "execution_count": 27,
   "metadata": {},
   "outputs": [
    {
     "data": {
      "text/plain": [
       "[{'role': 'user',\n",
       "  'content': 'Please generate three innovative business ideas aligned with the latest global trends. For each idea, include a brief description (2–3 sentences).'}]"
      ]
     },
     "execution_count": 27,
     "metadata": {},
     "output_type": "execute_result"
    }
   ],
   "source": [
    "messages"
   ]
  },
  {
   "cell_type": "code",
   "execution_count": 28,
   "metadata": {},
   "outputs": [
    {
     "data": {
      "text/plain": [
       "'\\nresponse = openai.chat.completions.create(\\n    model=\"gpt-4o-mini\",\\n    messages=messages,\\n)\\nquestion = response.choices[0].message.content\\nprint(question)\\n'"
      ]
     },
     "execution_count": 28,
     "metadata": {},
     "output_type": "execute_result"
    }
   ],
   "source": [
    "\n",
    "openai = OpenAI()\n",
    "'''\n",
    "response = openai.chat.completions.create(\n",
    "    model=\"gpt-4o-mini\",\n",
    "    messages=messages,\n",
    ")\n",
    "question = response.choices[0].message.content\n",
    "print(question)\n",
    "'''"
   ]
  },
  {
   "cell_type": "code",
   "execution_count": 29,
   "metadata": {},
   "outputs": [],
   "source": [
    "competitors = []\n",
    "answers = []\n",
    "#messages = [{\"role\": \"user\", \"content\": question}]"
   ]
  },
  {
   "cell_type": "code",
   "execution_count": 30,
   "metadata": {},
   "outputs": [
    {
     "data": {
      "text/markdown": [
       "Here are three innovative business ideas aligned with the latest global trends:\n",
       "\n",
       "1. **Sustainable Virtual Events Platform**: With the rise of remote interactions and environmental consciousness, create a platform designed specifically for hosting eco-friendly virtual events. This platform would incorporate features that minimize carbon footprints, such as carbon offsetting options for attendees and digital swag bags, and focus on promoting businesses and speakers committed to sustainability. Additionally, it could offer resources for event organizers on best practices for reducing environmental impact.\n",
       "\n",
       "2. **AI-Powered Personalized Health Coaches**: Develop a subscription-based app that leverages artificial intelligence to provide users with personalized health coaching, wellness tips, and meal planning based on their health metrics, goals, and preferences. The AI could analyze data from wearable devices and user input to create customized fitness regimens and dietary advice, while also offering virtual check-ins with certified health professionals. This business can tap into the emerging trends of telehealth and personalized wellness.\n",
       "\n",
       "3. **Local Artisan Marketplace**: Create an e-commerce platform that connects consumers directly with local artisans and small-scale producers in their region, emphasizing the importance of supporting local economies and unique craftsmanship. The platform would provide tools for artisans to showcase their stories, educate consumers about sustainable practices, and facilitate local delivery options. This business addresses the growing trend of conscious consumerism and the desire for unique, locally-sourced products."
      ],
      "text/plain": [
       "<IPython.core.display.Markdown object>"
      ]
     },
     "metadata": {},
     "output_type": "display_data"
    }
   ],
   "source": [
    "# The API we know well\n",
    "\n",
    "model_name = \"gpt-4o-mini\"\n",
    "\n",
    "response = openai.chat.completions.create(model=model_name, messages=messages)\n",
    "answer = response.choices[0].message.content\n",
    "\n",
    "display(Markdown(answer))\n",
    "competitors.append(model_name)\n",
    "answers.append(answer)"
   ]
  },
  {
   "cell_type": "code",
   "execution_count": 31,
   "metadata": {},
   "outputs": [
    {
     "data": {
      "text/markdown": [
       "# Three Innovative Business Ideas for Today's Global Trends\n",
       "\n",
       "## 1. Carbon Footprint Personal Assistant App\n",
       "A subscription-based mobile application that automatically tracks users' daily carbon footprint by connecting to their digital services, purchases, and transportation apps. The platform provides personalized recommendations for reducing environmental impact and offers carbon offset subscriptions tailored to each user's lifestyle, appealing to the growing eco-conscious consumer segment.\n",
       "\n",
       "## 2. Virtual Wellness Retreat Platform\n",
       "A digital platform connecting individuals with wellness practitioners for personalized virtual retreat experiences combining mental health, fitness, and nutrition support. Users can participate in AI-curated wellness programs combining live sessions with international experts and asynchronous content, addressing the increasing demand for accessible mental health solutions and work-life balance in remote work environments.\n",
       "\n",
       "## 3. Hyperlocal Supply Chain Marketplace\n",
       "A technology platform connecting small-scale local producers directly with businesses and consumers within a 50-mile radius to create resilient, transparent supply chains. The service includes logistics coordination, quality verification, and blockchain-based traceability, catering to increasing consumer interest in local sourcing, supply chain transparency, and community economic development."
      ],
      "text/plain": [
       "<IPython.core.display.Markdown object>"
      ]
     },
     "metadata": {},
     "output_type": "display_data"
    }
   ],
   "source": [
    "# Anthropic has a slightly different API, and Max Tokens is required\n",
    "\n",
    "model_name = \"claude-3-7-sonnet-latest\"\n",
    "\n",
    "claude = Anthropic()\n",
    "response = claude.messages.create(model=model_name, messages=messages, max_tokens=1000)\n",
    "answer = response.content[0].text\n",
    "\n",
    "display(Markdown(answer))\n",
    "competitors.append(model_name)\n",
    "answers.append(answer)"
   ]
  },
  {
   "cell_type": "code",
   "execution_count": 32,
   "metadata": {},
   "outputs": [
    {
     "data": {
      "text/markdown": [
       "Okay, here are three innovative business ideas aligned with current global trends, with brief descriptions for each:\n",
       "\n",
       "**1. Personalized Longevity & Well-being Platform (Trend: Aging Population & Preventative Health)**\n",
       "\n",
       "*   **Description:** A subscription-based platform that uses AI-powered personalized assessments (via wearable data & health questionnaires) to create bespoke longevity plans. These plans integrate nutrition, exercise, mindfulness, and potentially even access to cutting-edge therapies, all tailored to the individual's genetic predispositions and lifestyle, focusing on proactive health and extending healthspan.\n",
       "\n",
       "**2. Circular Economy Marketplace for Electronic Components (Trend: Sustainability & Resource Scarcity)**\n",
       "\n",
       "*   **Description:** An online marketplace facilitating the buying, selling, and trading of used, refurbished, or surplus electronic components (e.g., semiconductors, circuit boards) from businesses. This reduces electronic waste, provides access to affordable components (especially valuable for startups and repair shops), and promotes a circular economy by maximizing the lifespan of existing materials.\n",
       "\n",
       "**3. AI-Powered Hyper-Personalized Education & Skills Development (Trend: Digital Transformation & Skills Gap)**\n",
       "\n",
       "*   **Description:** An AI-driven learning platform that adapts in real-time to individual learning styles, pace, and knowledge gaps to deliver hyper-personalized education. It leverages adaptive assessments, customized content, and AI tutors to ensure efficient and effective skills development, addressing the ever-changing demands of the modern job market and offering a pathway to lifelong learning.\n"
      ],
      "text/plain": [
       "<IPython.core.display.Markdown object>"
      ]
     },
     "metadata": {},
     "output_type": "display_data"
    }
   ],
   "source": [
    "gemini = OpenAI(api_key=google_api_key, base_url=\"https://generativelanguage.googleapis.com/v1beta/openai/\")\n",
    "model_name = \"gemini-2.0-flash\"\n",
    "\n",
    "response = gemini.chat.completions.create(model=model_name, messages=messages)\n",
    "answer = response.choices[0].message.content\n",
    "\n",
    "display(Markdown(answer))\n",
    "competitors.append(model_name)\n",
    "answers.append(answer)"
   ]
  },
  {
   "cell_type": "code",
   "execution_count": 33,
   "metadata": {},
   "outputs": [
    {
     "data": {
      "text/markdown": [
       "Here are three innovative business ideas aligned with the latest global trends:  \n",
       "\n",
       "1. **AI-Powered Personalized Wellness Coaching**  \n",
       "   A subscription-based platform that uses AI and biometric data (from wearables) to deliver hyper-personalized fitness, nutrition, and mental health plans. Combines machine learning with expert human oversight for adaptive, real-time recommendations.  \n",
       "\n",
       "2. **Sustainable Smart Home Retrofitting**  \n",
       "   A service that helps homeowners upgrade older properties with eco-friendly smart tech (solar panels, energy-efficient appliances, IoT sensors) using modular, cost-effective solutions. Targets the rising demand for net-zero living without full renovations.  \n",
       "\n",
       "3. **Virtual Influencer Marketing Agency**  \n",
       "   A creative agency that designs and manages AI-generated virtual influencers for brands, reducing reliance on human talent while offering 24/7 digital engagement. Leverages generative AI for customizable, culturally adaptable avatars.  \n",
       "\n",
       "Each idea taps into trends like AI integration, sustainability, and digital transformation. Let me know if you'd like deeper dives!"
      ],
      "text/plain": [
       "<IPython.core.display.Markdown object>"
      ]
     },
     "metadata": {},
     "output_type": "display_data"
    }
   ],
   "source": [
    "deepseek = OpenAI(api_key=deepseek_api_key, base_url=\"https://api.deepseek.com/v1\")\n",
    "model_name = \"deepseek-chat\"\n",
    "\n",
    "response = deepseek.chat.completions.create(model=model_name, messages=messages)\n",
    "answer = response.choices[0].message.content\n",
    "\n",
    "display(Markdown(answer))\n",
    "competitors.append(model_name)\n",
    "answers.append(answer)"
   ]
  },
  {
   "cell_type": "code",
   "execution_count": 34,
   "metadata": {},
   "outputs": [
    {
     "data": {
      "text/markdown": [
       "Here are three innovative business ideas aligned with the latest global trends:\n",
       "\n",
       "**Idea 1: Sustainable Urban Farming**\n",
       "This business idea involves creating vertical farms in urban areas to promote sustainable food production and reduce carbon footprint. By utilizing hydroponics, aeroponics, and LED-based growing systems, these farms can produce fresh, nutritious crops year-round, while also providing educational workshops and community engagement programs. This concept combines the trends of sustainability, urbanization, and healthy eating, offering a unique solution for environmentally-conscious consumers.\n",
       "\n",
       "**Idea 2: Virtual Reality Mental Health Platform**\n",
       "This innovative platform utilizes virtual reality (VR) technology to provide immersive, personalized mental health therapy and wellness experiences. By offering guided meditations, stress management exercises, and social skills training, this platform aims to increase accessibility and affordability of mental health support, catering to the growing demand for digital mental wellness solutions. This concept aligns with the trends of mental health awareness, digital therapeutics, and the rising adoption of VR technology.\n",
       "\n",
       "**Idea 3: E-Waste Recycling and Upcycling Marketplace**\n",
       "This business idea involves creating an online platform that connects consumers with eco-friendly recycling and upcycling services for electronic waste (e-waste). The platform would enable users to schedule pickups, track the recycling process, and purchase unique, upcycled products made from recycled e-waste materials. By addressing the growing concern of e-waste management and promoting circular economy practices, this concept aligns with the trends of sustainability, environmental responsibility, and the sharing economy."
      ],
      "text/plain": [
       "<IPython.core.display.Markdown object>"
      ]
     },
     "metadata": {},
     "output_type": "display_data"
    }
   ],
   "source": [
    "groq = OpenAI(api_key=groq_api_key, base_url=\"https://api.groq.com/openai/v1\")\n",
    "model_name = \"llama-3.3-70b-versatile\"\n",
    "\n",
    "response = groq.chat.completions.create(model=model_name, messages=messages)\n",
    "answer = response.choices[0].message.content\n",
    "\n",
    "display(Markdown(answer))\n",
    "competitors.append(model_name)\n",
    "answers.append(answer)\n"
   ]
  },
  {
   "cell_type": "code",
   "execution_count": 35,
   "metadata": {},
   "outputs": [
    {
     "name": "stdout",
     "output_type": "stream",
     "text": [
      "\u001b[?2026h\u001b[?25l\u001b[1Gpulling manifest ⠋ \u001b[K\u001b[?25h\u001b[?2026l\u001b[?2026h\u001b[?25l\u001b[1Gpulling manifest ⠙ \u001b[K\u001b[?25h\u001b[?2026l\u001b[?2026h\u001b[?25l\u001b[1Gpulling manifest ⠹ \u001b[K\u001b[?25h\u001b[?2026l\u001b[?2026h\u001b[?25l\u001b[1Gpulling manifest \u001b[K\n",
      "pulling dde5aa3fc5ff: 100% ▕██████████████████▏ 2.0 GB                         \u001b[K\n",
      "pulling 966de95ca8a6: 100% ▕██████████████████▏ 1.4 KB                         \u001b[K\n",
      "pulling fcc5a6bec9da: 100% ▕██████████████████▏ 7.7 KB                         \u001b[K\n",
      "pulling a70ff7e570d9: 100% ▕██████████████████▏ 6.0 KB                         \u001b[K\n",
      "pulling 56bb8bd477a5: 100% ▕██████████████████▏   96 B                         \u001b[K\n",
      "pulling 34bb5ab01051: 100% ▕██████████████████▏  561 B                         \u001b[K\n",
      "verifying sha256 digest \u001b[K\n",
      "writing manifest \u001b[K\n",
      "success \u001b[K\u001b[?25h\u001b[?2026l\n"
     ]
    }
   ],
   "source": [
    "!ollama pull llama3.2"
   ]
  },
  {
   "cell_type": "code",
   "execution_count": 36,
   "metadata": {},
   "outputs": [
    {
     "data": {
      "text/markdown": [
       "Here are three innovative business ideas aligned with the latest global trends:\n",
       "\n",
       "**Idea 1: Sustainable Micro-Mobility Services**\n",
       "\n",
       "EcoCycle is a startup that offers a sustainable micro-mobility solution for urban commuters, providing an electric scooter-sharing service that combines IoT technology with smart routing to minimize congestion and optimize energy consumption. Partnering with local businesses, EcoCycle aims to revolutionize the way people move around cities while reducing carbon footprint. With a subscription-based model and real-time analytics, EcoCycle can help cities achieve their sustainability goals.\n",
       "\n",
       "**Idea 2: Virtual Reality Mental Health Experiences**\n",
       "\n",
       "MindScape is a VR company that creates immersive mental health experiences, including guided therapy sessions and social skills training programs, to help individuals cope with anxiety, stress, and trauma. Leveraging cutting-edge VR technology, MindScape's platform offers personalized therapy sessions, social interactions, and coping mechanisms tailored to each user's specific needs. By revolutionizing therapy through immersive storytelling, MindScape is poised to disrupt the mental health industry.\n",
       "\n",
       "**Idea 3: Edible Plastics Recycling Startup**\n",
       "\n",
       "GreenCycle is a startup that converts food waste into biodegradable plastics, offering a sustainable solution for packaging waste management in the foodservice industry. Using proprietary algae-based technology, GreenCycle creates compost-grade \"plastic\" that can be easily composted at home or reused as nutrient-rich soil. By tackling the pressing issue of plastic waste, GreenCycle aims to redefine the way companies treat leftover food waste and create a more circular economy.\n",
       "\n",
       "These ideas tap into emerging global trends such as sustainability, innovation in healthcare and technology, and the growing demand for eco-friendly solutions."
      ],
      "text/plain": [
       "<IPython.core.display.Markdown object>"
      ]
     },
     "metadata": {},
     "output_type": "display_data"
    }
   ],
   "source": [
    "ollama = OpenAI(base_url='http://localhost:11434/v1', api_key='ollama')\n",
    "model_name = \"llama3.2\"\n",
    "\n",
    "response = ollama.chat.completions.create(model=model_name, messages=messages)\n",
    "answer = response.choices[0].message.content\n",
    "\n",
    "display(Markdown(answer))\n",
    "competitors.append(model_name)\n",
    "answers.append(answer)"
   ]
  },
  {
   "cell_type": "code",
   "execution_count": 37,
   "metadata": {},
   "outputs": [
    {
     "name": "stdout",
     "output_type": "stream",
     "text": [
      "['gpt-4o-mini', 'claude-3-7-sonnet-latest', 'gemini-2.0-flash', 'deepseek-chat', 'llama-3.3-70b-versatile', 'llama3.2']\n",
      "['Here are three innovative business ideas aligned with the latest global trends:\\n\\n1. **Sustainable Virtual Events Platform**: With the rise of remote interactions and environmental consciousness, create a platform designed specifically for hosting eco-friendly virtual events. This platform would incorporate features that minimize carbon footprints, such as carbon offsetting options for attendees and digital swag bags, and focus on promoting businesses and speakers committed to sustainability. Additionally, it could offer resources for event organizers on best practices for reducing environmental impact.\\n\\n2. **AI-Powered Personalized Health Coaches**: Develop a subscription-based app that leverages artificial intelligence to provide users with personalized health coaching, wellness tips, and meal planning based on their health metrics, goals, and preferences. The AI could analyze data from wearable devices and user input to create customized fitness regimens and dietary advice, while also offering virtual check-ins with certified health professionals. This business can tap into the emerging trends of telehealth and personalized wellness.\\n\\n3. **Local Artisan Marketplace**: Create an e-commerce platform that connects consumers directly with local artisans and small-scale producers in their region, emphasizing the importance of supporting local economies and unique craftsmanship. The platform would provide tools for artisans to showcase their stories, educate consumers about sustainable practices, and facilitate local delivery options. This business addresses the growing trend of conscious consumerism and the desire for unique, locally-sourced products.', \"# Three Innovative Business Ideas for Today's Global Trends\\n\\n## 1. Carbon Footprint Personal Assistant App\\nA subscription-based mobile application that automatically tracks users' daily carbon footprint by connecting to their digital services, purchases, and transportation apps. The platform provides personalized recommendations for reducing environmental impact and offers carbon offset subscriptions tailored to each user's lifestyle, appealing to the growing eco-conscious consumer segment.\\n\\n## 2. Virtual Wellness Retreat Platform\\nA digital platform connecting individuals with wellness practitioners for personalized virtual retreat experiences combining mental health, fitness, and nutrition support. Users can participate in AI-curated wellness programs combining live sessions with international experts and asynchronous content, addressing the increasing demand for accessible mental health solutions and work-life balance in remote work environments.\\n\\n## 3. Hyperlocal Supply Chain Marketplace\\nA technology platform connecting small-scale local producers directly with businesses and consumers within a 50-mile radius to create resilient, transparent supply chains. The service includes logistics coordination, quality verification, and blockchain-based traceability, catering to increasing consumer interest in local sourcing, supply chain transparency, and community economic development.\", \"Okay, here are three innovative business ideas aligned with current global trends, with brief descriptions for each:\\n\\n**1. Personalized Longevity & Well-being Platform (Trend: Aging Population & Preventative Health)**\\n\\n*   **Description:** A subscription-based platform that uses AI-powered personalized assessments (via wearable data & health questionnaires) to create bespoke longevity plans. These plans integrate nutrition, exercise, mindfulness, and potentially even access to cutting-edge therapies, all tailored to the individual's genetic predispositions and lifestyle, focusing on proactive health and extending healthspan.\\n\\n**2. Circular Economy Marketplace for Electronic Components (Trend: Sustainability & Resource Scarcity)**\\n\\n*   **Description:** An online marketplace facilitating the buying, selling, and trading of used, refurbished, or surplus electronic components (e.g., semiconductors, circuit boards) from businesses. This reduces electronic waste, provides access to affordable components (especially valuable for startups and repair shops), and promotes a circular economy by maximizing the lifespan of existing materials.\\n\\n**3. AI-Powered Hyper-Personalized Education & Skills Development (Trend: Digital Transformation & Skills Gap)**\\n\\n*   **Description:** An AI-driven learning platform that adapts in real-time to individual learning styles, pace, and knowledge gaps to deliver hyper-personalized education. It leverages adaptive assessments, customized content, and AI tutors to ensure efficient and effective skills development, addressing the ever-changing demands of the modern job market and offering a pathway to lifelong learning.\\n\", \"Here are three innovative business ideas aligned with the latest global trends:  \\n\\n1. **AI-Powered Personalized Wellness Coaching**  \\n   A subscription-based platform that uses AI and biometric data (from wearables) to deliver hyper-personalized fitness, nutrition, and mental health plans. Combines machine learning with expert human oversight for adaptive, real-time recommendations.  \\n\\n2. **Sustainable Smart Home Retrofitting**  \\n   A service that helps homeowners upgrade older properties with eco-friendly smart tech (solar panels, energy-efficient appliances, IoT sensors) using modular, cost-effective solutions. Targets the rising demand for net-zero living without full renovations.  \\n\\n3. **Virtual Influencer Marketing Agency**  \\n   A creative agency that designs and manages AI-generated virtual influencers for brands, reducing reliance on human talent while offering 24/7 digital engagement. Leverages generative AI for customizable, culturally adaptable avatars.  \\n\\nEach idea taps into trends like AI integration, sustainability, and digital transformation. Let me know if you'd like deeper dives!\", 'Here are three innovative business ideas aligned with the latest global trends:\\n\\n**Idea 1: Sustainable Urban Farming**\\nThis business idea involves creating vertical farms in urban areas to promote sustainable food production and reduce carbon footprint. By utilizing hydroponics, aeroponics, and LED-based growing systems, these farms can produce fresh, nutritious crops year-round, while also providing educational workshops and community engagement programs. This concept combines the trends of sustainability, urbanization, and healthy eating, offering a unique solution for environmentally-conscious consumers.\\n\\n**Idea 2: Virtual Reality Mental Health Platform**\\nThis innovative platform utilizes virtual reality (VR) technology to provide immersive, personalized mental health therapy and wellness experiences. By offering guided meditations, stress management exercises, and social skills training, this platform aims to increase accessibility and affordability of mental health support, catering to the growing demand for digital mental wellness solutions. This concept aligns with the trends of mental health awareness, digital therapeutics, and the rising adoption of VR technology.\\n\\n**Idea 3: E-Waste Recycling and Upcycling Marketplace**\\nThis business idea involves creating an online platform that connects consumers with eco-friendly recycling and upcycling services for electronic waste (e-waste). The platform would enable users to schedule pickups, track the recycling process, and purchase unique, upcycled products made from recycled e-waste materials. By addressing the growing concern of e-waste management and promoting circular economy practices, this concept aligns with the trends of sustainability, environmental responsibility, and the sharing economy.', 'Here are three innovative business ideas aligned with the latest global trends:\\n\\n**Idea 1: Sustainable Micro-Mobility Services**\\n\\nEcoCycle is a startup that offers a sustainable micro-mobility solution for urban commuters, providing an electric scooter-sharing service that combines IoT technology with smart routing to minimize congestion and optimize energy consumption. Partnering with local businesses, EcoCycle aims to revolutionize the way people move around cities while reducing carbon footprint. With a subscription-based model and real-time analytics, EcoCycle can help cities achieve their sustainability goals.\\n\\n**Idea 2: Virtual Reality Mental Health Experiences**\\n\\nMindScape is a VR company that creates immersive mental health experiences, including guided therapy sessions and social skills training programs, to help individuals cope with anxiety, stress, and trauma. Leveraging cutting-edge VR technology, MindScape\\'s platform offers personalized therapy sessions, social interactions, and coping mechanisms tailored to each user\\'s specific needs. By revolutionizing therapy through immersive storytelling, MindScape is poised to disrupt the mental health industry.\\n\\n**Idea 3: Edible Plastics Recycling Startup**\\n\\nGreenCycle is a startup that converts food waste into biodegradable plastics, offering a sustainable solution for packaging waste management in the foodservice industry. Using proprietary algae-based technology, GreenCycle creates compost-grade \"plastic\" that can be easily composted at home or reused as nutrient-rich soil. By tackling the pressing issue of plastic waste, GreenCycle aims to redefine the way companies treat leftover food waste and create a more circular economy.\\n\\nThese ideas tap into emerging global trends such as sustainability, innovation in healthcare and technology, and the growing demand for eco-friendly solutions.']\n"
     ]
    }
   ],
   "source": [
    "# So where are we?\n",
    "\n",
    "print(competitors)\n",
    "print(answers)\n"
   ]
  },
  {
   "cell_type": "code",
   "execution_count": 16,
   "metadata": {},
   "outputs": [
    {
     "name": "stdout",
     "output_type": "stream",
     "text": [
      "Competitor: gpt-4o-mini\n",
      "\n",
      "Here are three innovative business ideas aligned with the latest global trends:\n",
      "\n",
      "1. **Eco-Friendly Packaging Solutions**: Create a company that develops biodegradable and compostable packaging alternatives for various industries, including food, retail, and e-commerce. By utilizing plant-based materials and innovative designs, this business can help companies reduce their carbon footprint and appeal to environmentally-conscious consumers. Leveraging partnerships with brands focused on sustainability can enhance market reach and establish a strong customer base.\n",
      "\n",
      "2. **AI-Powered Mental Health Support App**: Develop an app that uses artificial intelligence to provide personalized mental health support, offering resources like meditation exercises, mood tracking, and virtual therapy sessions with trained professionals. The app could utilize data analytics to tailor suggestions to individual users' needs, helping to address the growing demand for mental health resources, especially in a post-pandemic world where awareness and access to mental health support are paramount.\n",
      "\n",
      "3. **Remote Team Building Experiences**: Launch a platform that curates and facilitates virtual team-building experiences for remote workers, providing engaging activities that promote connection and collaboration. Utilizing VR technology and gamified elements, the platform can offer unique experiences—from escape rooms to cooking classes—allowing companies to foster team spirit and creativity, a growing necessity as remote work becomes increasingly prevalent.\n",
      "Competitor: claude-3-7-sonnet-latest\n",
      "\n",
      "# Three Innovative Business Ideas Based on Global Trends\n",
      "\n",
      "## 1. AI-Powered Personal Carbon Tracker\n",
      "A mobile application that uses machine learning to automatically track users' carbon footprints through their daily activities, purchases, and transportation choices. The platform offers personalized recommendations for reducing environmental impact and connects users to carbon offset projects that align with their values, creating a gamified experience for climate action.\n",
      "\n",
      "## 2. Virtual Reality Wellness Retreats\n",
      "A subscription-based service offering immersive VR wellness experiences combining guided meditation, nature therapy, and fitness programming accessible from anywhere in the world. Users can participate in live group sessions with wellness experts or follow personalized programs designed to counter digital fatigue and address mental health concerns in our increasingly remote-work world.\n",
      "\n",
      "## 3. Hyperlocal Food Supply Chain Platform\n",
      "A technology platform connecting urban consumers directly with small-scale farmers and food producers within a 100-mile radius, emphasizing ultra-fresh, seasonal products with minimal environmental impact. The service includes blockchain-verified provenance information, zero-waste packaging solutions, and a community marketplace where consumers can exchange growing tips and recipes tailored to local, seasonal ingredients.\n",
      "Competitor: gemini-2.0-flash\n",
      "\n",
      "Here are three innovative business ideas aligned with the latest global trends:\n",
      "\n",
      "**1. Personalized AI-Powered Education Platform for Future Skills:**\n",
      "\n",
      "*   **Description:** This platform leverages AI to create personalized learning paths focused on future-proof skills like AI ethics, data science, and blockchain development. It dynamically adjusts content and difficulty based on the individual's progress and learning style, ensuring optimal engagement and knowledge retention, and offers micro-credentials to showcase acquired skills. This caters to the increasing demand for reskilling and upskilling in a rapidly evolving job market.\n",
      "\n",
      "**2. Hyperlocal Sustainable Food Marketplace with Smart Logistics:**\n",
      "\n",
      "*   **Description:**  A mobile-first marketplace connecting consumers directly with local farmers and sustainable food producers within a defined geographic radius.  Utilizing AI-powered logistics to optimize delivery routes and minimize carbon footprint, the platform guarantees freshness, reduces food waste, and promotes transparency about the origin and environmental impact of each product. This aligns with the growing consumer demand for locally sourced, ethically produced, and environmentally friendly food options.\n",
      "\n",
      "**3. Decentralized Community Resilience Platform Powered by Renewable Energy:**\n",
      "\n",
      "*   **Description:** This platform creates a local, self-sufficient community network powered by renewable energy microgrids and facilitated by a blockchain-based system.  It allows members to share resources, skills, and emergency services (e.g., backup power, food supplies) during crises, fostering resilience and self-reliance. A native token rewards participation and contribution, further incentivizing community engagement and reducing dependence on centralized infrastructure, aligning with the trends of decentralization, climate change adaptation, and community building.\n",
      "\n",
      "Competitor: deepseek-chat\n",
      "\n",
      "Here are three innovative business ideas aligned with the latest global trends:  \n",
      "\n",
      "1. **AI-Powered Personal Sustainability Coach**  \n",
      "   A digital platform that uses AI to analyze users' daily habits (e.g., energy use, shopping, travel) and provides personalized recommendations to reduce their carbon footprint. Gamification and rewards incentivize sustainable behavior.  \n",
      "\n",
      "2. **Decentralized Freelance Talent Hubs (Web3)**  \n",
      "   A blockchain-based platform connecting freelancers with employers, ensuring transparent payments, verified credentials, and smart contracts for secure, low-fee transactions—cutting out traditional middlemen.  \n",
      "\n",
      "3. **Hyper-Local Vertical Farming as a Service (VFaaS)**  \n",
      "   A subscription-based service providing urban buildings with modular vertical farming units, managed via IoT for optimal growth. Businesses and residents get fresh, local produce while reducing food miles and waste.  \n",
      "\n",
      "Each idea leverages trends like AI, sustainability, Web3, and urban agriculture while addressing modern consumer and business needs. Would you like me to refine any of them further?\n",
      "Competitor: llama-3.3-70b-versatile\n",
      "\n",
      "Here are three innovative business ideas aligned with the latest global trends:\n",
      "\n",
      "**Idea 1: Sustainable Urban Farming**\n",
      "This business idea involves creating vertically integrated urban farms that utilize hydroponics, aeroponics, and other soilless cultivation methods to grow fresh produce in densely populated cities. By leveraging cutting-edge technology and sustainable practices, these farms can provide locally sourced, organic produce to consumers while minimizing environmental impact. This concept aligns with the growing demand for sustainable and eco-friendly food systems.\n",
      "\n",
      "**Idea 2: Virtual Reality Mental Health Services**\n",
      "This business idea involves developing immersive virtual reality experiences and therapy platforms to support mental health and wellness. By providing accessible, anonymous, and personalized therapy sessions, individuals can address anxiety, stress, and other mental health concerns in a safe and controlled environment. This concept capitalizes on the growing interest in mental health and the increasing adoption of virtual reality technology.\n",
      "\n",
      "**Idea 3: E-Waste Recycling and Upcycling Platform**\n",
      "This business idea involves creating a platform that connects consumers with responsible e-waste recycling and upcycling services, enabling individuals to safely dispose of electronic devices and reduce electronic waste. The platform would also facilitate the creation of new products from recycled materials, such as jewelry, furniture, and other innovative items. By promoting sustainable consumption and reducing electronic waste, this concept aligns with the global trend towards circular economy and environmental responsibility.\n",
      "Competitor: llama3.2\n",
      "\n",
      "Here are three innovative business ideas aligned with the latest global trends:\n",
      "\n",
      "**Idea 1: Eco-Friendly Personalized Bioplastics**\n",
      "\"NatureCycle\" offers bespoke bioplastic products created from plant-based materials sourced from local farmers. The company's AI-powered design tool allows customers to personalize their bioplastics, creating customized products that minimize waste and reduce environmental impact. This unique blend of eco-friendliness and consumer customization sets NatureCycle apart in the growing market for sustainable packaging solutions.\n",
      "\n",
      "**Idea 2: Virtual Mental Health Concierge**\n",
      "\"MentalScape\" is an AI-powered virtual mental health concierge service that offers personalized support, therapy sessions, and community-building strategies tailored to individual preferences. This innovative approach leverages global trends in digital wellness, social telepsychology, and the increasing demand for accessible, affordable healthcare solutions. By connecting users with a team of licensed therapists, MentalScape aims to revolutionize the way we prioritize mental health from anywhere in the world.\n",
      "\n",
      "**Idea 3: Autonomous Vertical Farming Infrastructure**\n",
      "\"CropSphere\" has developed an AI-powered autonomous vertical farming system that enables rapid crop cultivation, efficient water management, and reduced environmental impact. This modular infrastructure allows urban farmers to establish local food production, enhance community resilience, and provide fresh produce to underserved populations, addressing pressing issues of climate change, food security, and social inequality.\n",
      "\n",
      "Each of these business ideas addresses pressing global trends, such as sustainability, digital wellness, and social responsibility.\n"
     ]
    }
   ],
   "source": [
    "# It's nice to know how to use \"zip\"\n",
    "for competitor, answer in zip(competitors, answers):\n",
    "    print(f\"Competitor: {competitor}\\n\\n{answer}\")\n"
   ]
  },
  {
   "cell_type": "code",
   "execution_count": 17,
   "metadata": {},
   "outputs": [],
   "source": [
    "# Let's bring this together - note the use of \"enumerate\"\n",
    "\n",
    "together = \"\"\n",
    "for index, answer in enumerate(answers):\n",
    "    together += f\"# Response from competitor {index+1}\\n\\n\"\n",
    "    together += answer + \"\\n\\n\""
   ]
  },
  {
   "cell_type": "code",
   "execution_count": 18,
   "metadata": {},
   "outputs": [
    {
     "name": "stdout",
     "output_type": "stream",
     "text": [
      "# Response from competitor 1\n",
      "\n",
      "Here are three innovative business ideas aligned with the latest global trends:\n",
      "\n",
      "1. **Eco-Friendly Packaging Solutions**: Create a company that develops biodegradable and compostable packaging alternatives for various industries, including food, retail, and e-commerce. By utilizing plant-based materials and innovative designs, this business can help companies reduce their carbon footprint and appeal to environmentally-conscious consumers. Leveraging partnerships with brands focused on sustainability can enhance market reach and establish a strong customer base.\n",
      "\n",
      "2. **AI-Powered Mental Health Support App**: Develop an app that uses artificial intelligence to provide personalized mental health support, offering resources like meditation exercises, mood tracking, and virtual therapy sessions with trained professionals. The app could utilize data analytics to tailor suggestions to individual users' needs, helping to address the growing demand for mental health resources, especially in a post-pandemic world where awareness and access to mental health support are paramount.\n",
      "\n",
      "3. **Remote Team Building Experiences**: Launch a platform that curates and facilitates virtual team-building experiences for remote workers, providing engaging activities that promote connection and collaboration. Utilizing VR technology and gamified elements, the platform can offer unique experiences—from escape rooms to cooking classes—allowing companies to foster team spirit and creativity, a growing necessity as remote work becomes increasingly prevalent.\n",
      "\n",
      "# Response from competitor 2\n",
      "\n",
      "# Three Innovative Business Ideas Based on Global Trends\n",
      "\n",
      "## 1. AI-Powered Personal Carbon Tracker\n",
      "A mobile application that uses machine learning to automatically track users' carbon footprints through their daily activities, purchases, and transportation choices. The platform offers personalized recommendations for reducing environmental impact and connects users to carbon offset projects that align with their values, creating a gamified experience for climate action.\n",
      "\n",
      "## 2. Virtual Reality Wellness Retreats\n",
      "A subscription-based service offering immersive VR wellness experiences combining guided meditation, nature therapy, and fitness programming accessible from anywhere in the world. Users can participate in live group sessions with wellness experts or follow personalized programs designed to counter digital fatigue and address mental health concerns in our increasingly remote-work world.\n",
      "\n",
      "## 3. Hyperlocal Food Supply Chain Platform\n",
      "A technology platform connecting urban consumers directly with small-scale farmers and food producers within a 100-mile radius, emphasizing ultra-fresh, seasonal products with minimal environmental impact. The service includes blockchain-verified provenance information, zero-waste packaging solutions, and a community marketplace where consumers can exchange growing tips and recipes tailored to local, seasonal ingredients.\n",
      "\n",
      "# Response from competitor 3\n",
      "\n",
      "Here are three innovative business ideas aligned with the latest global trends:\n",
      "\n",
      "**1. Personalized AI-Powered Education Platform for Future Skills:**\n",
      "\n",
      "*   **Description:** This platform leverages AI to create personalized learning paths focused on future-proof skills like AI ethics, data science, and blockchain development. It dynamically adjusts content and difficulty based on the individual's progress and learning style, ensuring optimal engagement and knowledge retention, and offers micro-credentials to showcase acquired skills. This caters to the increasing demand for reskilling and upskilling in a rapidly evolving job market.\n",
      "\n",
      "**2. Hyperlocal Sustainable Food Marketplace with Smart Logistics:**\n",
      "\n",
      "*   **Description:**  A mobile-first marketplace connecting consumers directly with local farmers and sustainable food producers within a defined geographic radius.  Utilizing AI-powered logistics to optimize delivery routes and minimize carbon footprint, the platform guarantees freshness, reduces food waste, and promotes transparency about the origin and environmental impact of each product. This aligns with the growing consumer demand for locally sourced, ethically produced, and environmentally friendly food options.\n",
      "\n",
      "**3. Decentralized Community Resilience Platform Powered by Renewable Energy:**\n",
      "\n",
      "*   **Description:** This platform creates a local, self-sufficient community network powered by renewable energy microgrids and facilitated by a blockchain-based system.  It allows members to share resources, skills, and emergency services (e.g., backup power, food supplies) during crises, fostering resilience and self-reliance. A native token rewards participation and contribution, further incentivizing community engagement and reducing dependence on centralized infrastructure, aligning with the trends of decentralization, climate change adaptation, and community building.\n",
      "\n",
      "\n",
      "# Response from competitor 4\n",
      "\n",
      "Here are three innovative business ideas aligned with the latest global trends:  \n",
      "\n",
      "1. **AI-Powered Personal Sustainability Coach**  \n",
      "   A digital platform that uses AI to analyze users' daily habits (e.g., energy use, shopping, travel) and provides personalized recommendations to reduce their carbon footprint. Gamification and rewards incentivize sustainable behavior.  \n",
      "\n",
      "2. **Decentralized Freelance Talent Hubs (Web3)**  \n",
      "   A blockchain-based platform connecting freelancers with employers, ensuring transparent payments, verified credentials, and smart contracts for secure, low-fee transactions—cutting out traditional middlemen.  \n",
      "\n",
      "3. **Hyper-Local Vertical Farming as a Service (VFaaS)**  \n",
      "   A subscription-based service providing urban buildings with modular vertical farming units, managed via IoT for optimal growth. Businesses and residents get fresh, local produce while reducing food miles and waste.  \n",
      "\n",
      "Each idea leverages trends like AI, sustainability, Web3, and urban agriculture while addressing modern consumer and business needs. Would you like me to refine any of them further?\n",
      "\n",
      "# Response from competitor 5\n",
      "\n",
      "Here are three innovative business ideas aligned with the latest global trends:\n",
      "\n",
      "**Idea 1: Sustainable Urban Farming**\n",
      "This business idea involves creating vertically integrated urban farms that utilize hydroponics, aeroponics, and other soilless cultivation methods to grow fresh produce in densely populated cities. By leveraging cutting-edge technology and sustainable practices, these farms can provide locally sourced, organic produce to consumers while minimizing environmental impact. This concept aligns with the growing demand for sustainable and eco-friendly food systems.\n",
      "\n",
      "**Idea 2: Virtual Reality Mental Health Services**\n",
      "This business idea involves developing immersive virtual reality experiences and therapy platforms to support mental health and wellness. By providing accessible, anonymous, and personalized therapy sessions, individuals can address anxiety, stress, and other mental health concerns in a safe and controlled environment. This concept capitalizes on the growing interest in mental health and the increasing adoption of virtual reality technology.\n",
      "\n",
      "**Idea 3: E-Waste Recycling and Upcycling Platform**\n",
      "This business idea involves creating a platform that connects consumers with responsible e-waste recycling and upcycling services, enabling individuals to safely dispose of electronic devices and reduce electronic waste. The platform would also facilitate the creation of new products from recycled materials, such as jewelry, furniture, and other innovative items. By promoting sustainable consumption and reducing electronic waste, this concept aligns with the global trend towards circular economy and environmental responsibility.\n",
      "\n",
      "# Response from competitor 6\n",
      "\n",
      "Here are three innovative business ideas aligned with the latest global trends:\n",
      "\n",
      "**Idea 1: Eco-Friendly Personalized Bioplastics**\n",
      "\"NatureCycle\" offers bespoke bioplastic products created from plant-based materials sourced from local farmers. The company's AI-powered design tool allows customers to personalize their bioplastics, creating customized products that minimize waste and reduce environmental impact. This unique blend of eco-friendliness and consumer customization sets NatureCycle apart in the growing market for sustainable packaging solutions.\n",
      "\n",
      "**Idea 2: Virtual Mental Health Concierge**\n",
      "\"MentalScape\" is an AI-powered virtual mental health concierge service that offers personalized support, therapy sessions, and community-building strategies tailored to individual preferences. This innovative approach leverages global trends in digital wellness, social telepsychology, and the increasing demand for accessible, affordable healthcare solutions. By connecting users with a team of licensed therapists, MentalScape aims to revolutionize the way we prioritize mental health from anywhere in the world.\n",
      "\n",
      "**Idea 3: Autonomous Vertical Farming Infrastructure**\n",
      "\"CropSphere\" has developed an AI-powered autonomous vertical farming system that enables rapid crop cultivation, efficient water management, and reduced environmental impact. This modular infrastructure allows urban farmers to establish local food production, enhance community resilience, and provide fresh produce to underserved populations, addressing pressing issues of climate change, food security, and social inequality.\n",
      "\n",
      "Each of these business ideas addresses pressing global trends, such as sustainability, digital wellness, and social responsibility.\n",
      "\n",
      "\n"
     ]
    }
   ],
   "source": [
    "print(together)"
   ]
  },
  {
   "cell_type": "code",
   "execution_count": 19,
   "metadata": {},
   "outputs": [],
   "source": [
    "judge = f\"\"\"You are judging a competition between {len(competitors)} competitors.\n",
    "Each model was asked to generate three innovative business ideas aligned with the latest global trends.\n",
    "\n",
    "Your job is to evaluate the likelihood of success for each idea on a scale from 0 to 100 percent. For each competitor, list the three percentages in the same order as their ideas.\n",
    "\n",
    "Respond only with JSON in this format:\n",
    "{{\"results\": [\n",
    "    {{\"competitor\": 1, \"success_chances\": [perc1, perc2, perc3]}},\n",
    "    {{\"competitor\": 2, \"success_chances\": [perc1, perc2, perc3]}},\n",
    "    ...\n",
    "]}}\n",
    "\n",
    "Here are the ideas from each competitor:\n",
    "\n",
    "{together}\n",
    "\n",
    "Now respond with only the JSON, nothing else.\"\"\"\n"
   ]
  },
  {
   "cell_type": "code",
   "execution_count": 20,
   "metadata": {},
   "outputs": [
    {
     "name": "stdout",
     "output_type": "stream",
     "text": [
      "You are judging a competition between 6 competitors.\n",
      "Each model was asked to generate three innovative business ideas aligned with the latest global trends.\n",
      "\n",
      "Your job is to evaluate the likelihood of success for each idea on a scale from 0 to 100 percent. For each competitor, list the three percentages in the same order as their ideas.\n",
      "\n",
      "Respond only with JSON in this format:\n",
      "{\"results\": [\n",
      "    {\"competitor\": 1, \"success_chances\": [perc1, perc2, perc3]},\n",
      "    {\"competitor\": 2, \"success_chances\": [perc1, perc2, perc3]},\n",
      "    ...\n",
      "]}\n",
      "\n",
      "Here are the ideas from each competitor:\n",
      "\n",
      "# Response from competitor 1\n",
      "\n",
      "Here are three innovative business ideas aligned with the latest global trends:\n",
      "\n",
      "1. **Eco-Friendly Packaging Solutions**: Create a company that develops biodegradable and compostable packaging alternatives for various industries, including food, retail, and e-commerce. By utilizing plant-based materials and innovative designs, this business can help companies reduce their carbon footprint and appeal to environmentally-conscious consumers. Leveraging partnerships with brands focused on sustainability can enhance market reach and establish a strong customer base.\n",
      "\n",
      "2. **AI-Powered Mental Health Support App**: Develop an app that uses artificial intelligence to provide personalized mental health support, offering resources like meditation exercises, mood tracking, and virtual therapy sessions with trained professionals. The app could utilize data analytics to tailor suggestions to individual users' needs, helping to address the growing demand for mental health resources, especially in a post-pandemic world where awareness and access to mental health support are paramount.\n",
      "\n",
      "3. **Remote Team Building Experiences**: Launch a platform that curates and facilitates virtual team-building experiences for remote workers, providing engaging activities that promote connection and collaboration. Utilizing VR technology and gamified elements, the platform can offer unique experiences—from escape rooms to cooking classes—allowing companies to foster team spirit and creativity, a growing necessity as remote work becomes increasingly prevalent.\n",
      "\n",
      "# Response from competitor 2\n",
      "\n",
      "# Three Innovative Business Ideas Based on Global Trends\n",
      "\n",
      "## 1. AI-Powered Personal Carbon Tracker\n",
      "A mobile application that uses machine learning to automatically track users' carbon footprints through their daily activities, purchases, and transportation choices. The platform offers personalized recommendations for reducing environmental impact and connects users to carbon offset projects that align with their values, creating a gamified experience for climate action.\n",
      "\n",
      "## 2. Virtual Reality Wellness Retreats\n",
      "A subscription-based service offering immersive VR wellness experiences combining guided meditation, nature therapy, and fitness programming accessible from anywhere in the world. Users can participate in live group sessions with wellness experts or follow personalized programs designed to counter digital fatigue and address mental health concerns in our increasingly remote-work world.\n",
      "\n",
      "## 3. Hyperlocal Food Supply Chain Platform\n",
      "A technology platform connecting urban consumers directly with small-scale farmers and food producers within a 100-mile radius, emphasizing ultra-fresh, seasonal products with minimal environmental impact. The service includes blockchain-verified provenance information, zero-waste packaging solutions, and a community marketplace where consumers can exchange growing tips and recipes tailored to local, seasonal ingredients.\n",
      "\n",
      "# Response from competitor 3\n",
      "\n",
      "Here are three innovative business ideas aligned with the latest global trends:\n",
      "\n",
      "**1. Personalized AI-Powered Education Platform for Future Skills:**\n",
      "\n",
      "*   **Description:** This platform leverages AI to create personalized learning paths focused on future-proof skills like AI ethics, data science, and blockchain development. It dynamically adjusts content and difficulty based on the individual's progress and learning style, ensuring optimal engagement and knowledge retention, and offers micro-credentials to showcase acquired skills. This caters to the increasing demand for reskilling and upskilling in a rapidly evolving job market.\n",
      "\n",
      "**2. Hyperlocal Sustainable Food Marketplace with Smart Logistics:**\n",
      "\n",
      "*   **Description:**  A mobile-first marketplace connecting consumers directly with local farmers and sustainable food producers within a defined geographic radius.  Utilizing AI-powered logistics to optimize delivery routes and minimize carbon footprint, the platform guarantees freshness, reduces food waste, and promotes transparency about the origin and environmental impact of each product. This aligns with the growing consumer demand for locally sourced, ethically produced, and environmentally friendly food options.\n",
      "\n",
      "**3. Decentralized Community Resilience Platform Powered by Renewable Energy:**\n",
      "\n",
      "*   **Description:** This platform creates a local, self-sufficient community network powered by renewable energy microgrids and facilitated by a blockchain-based system.  It allows members to share resources, skills, and emergency services (e.g., backup power, food supplies) during crises, fostering resilience and self-reliance. A native token rewards participation and contribution, further incentivizing community engagement and reducing dependence on centralized infrastructure, aligning with the trends of decentralization, climate change adaptation, and community building.\n",
      "\n",
      "\n",
      "# Response from competitor 4\n",
      "\n",
      "Here are three innovative business ideas aligned with the latest global trends:  \n",
      "\n",
      "1. **AI-Powered Personal Sustainability Coach**  \n",
      "   A digital platform that uses AI to analyze users' daily habits (e.g., energy use, shopping, travel) and provides personalized recommendations to reduce their carbon footprint. Gamification and rewards incentivize sustainable behavior.  \n",
      "\n",
      "2. **Decentralized Freelance Talent Hubs (Web3)**  \n",
      "   A blockchain-based platform connecting freelancers with employers, ensuring transparent payments, verified credentials, and smart contracts for secure, low-fee transactions—cutting out traditional middlemen.  \n",
      "\n",
      "3. **Hyper-Local Vertical Farming as a Service (VFaaS)**  \n",
      "   A subscription-based service providing urban buildings with modular vertical farming units, managed via IoT for optimal growth. Businesses and residents get fresh, local produce while reducing food miles and waste.  \n",
      "\n",
      "Each idea leverages trends like AI, sustainability, Web3, and urban agriculture while addressing modern consumer and business needs. Would you like me to refine any of them further?\n",
      "\n",
      "# Response from competitor 5\n",
      "\n",
      "Here are three innovative business ideas aligned with the latest global trends:\n",
      "\n",
      "**Idea 1: Sustainable Urban Farming**\n",
      "This business idea involves creating vertically integrated urban farms that utilize hydroponics, aeroponics, and other soilless cultivation methods to grow fresh produce in densely populated cities. By leveraging cutting-edge technology and sustainable practices, these farms can provide locally sourced, organic produce to consumers while minimizing environmental impact. This concept aligns with the growing demand for sustainable and eco-friendly food systems.\n",
      "\n",
      "**Idea 2: Virtual Reality Mental Health Services**\n",
      "This business idea involves developing immersive virtual reality experiences and therapy platforms to support mental health and wellness. By providing accessible, anonymous, and personalized therapy sessions, individuals can address anxiety, stress, and other mental health concerns in a safe and controlled environment. This concept capitalizes on the growing interest in mental health and the increasing adoption of virtual reality technology.\n",
      "\n",
      "**Idea 3: E-Waste Recycling and Upcycling Platform**\n",
      "This business idea involves creating a platform that connects consumers with responsible e-waste recycling and upcycling services, enabling individuals to safely dispose of electronic devices and reduce electronic waste. The platform would also facilitate the creation of new products from recycled materials, such as jewelry, furniture, and other innovative items. By promoting sustainable consumption and reducing electronic waste, this concept aligns with the global trend towards circular economy and environmental responsibility.\n",
      "\n",
      "# Response from competitor 6\n",
      "\n",
      "Here are three innovative business ideas aligned with the latest global trends:\n",
      "\n",
      "**Idea 1: Eco-Friendly Personalized Bioplastics**\n",
      "\"NatureCycle\" offers bespoke bioplastic products created from plant-based materials sourced from local farmers. The company's AI-powered design tool allows customers to personalize their bioplastics, creating customized products that minimize waste and reduce environmental impact. This unique blend of eco-friendliness and consumer customization sets NatureCycle apart in the growing market for sustainable packaging solutions.\n",
      "\n",
      "**Idea 2: Virtual Mental Health Concierge**\n",
      "\"MentalScape\" is an AI-powered virtual mental health concierge service that offers personalized support, therapy sessions, and community-building strategies tailored to individual preferences. This innovative approach leverages global trends in digital wellness, social telepsychology, and the increasing demand for accessible, affordable healthcare solutions. By connecting users with a team of licensed therapists, MentalScape aims to revolutionize the way we prioritize mental health from anywhere in the world.\n",
      "\n",
      "**Idea 3: Autonomous Vertical Farming Infrastructure**\n",
      "\"CropSphere\" has developed an AI-powered autonomous vertical farming system that enables rapid crop cultivation, efficient water management, and reduced environmental impact. This modular infrastructure allows urban farmers to establish local food production, enhance community resilience, and provide fresh produce to underserved populations, addressing pressing issues of climate change, food security, and social inequality.\n",
      "\n",
      "Each of these business ideas addresses pressing global trends, such as sustainability, digital wellness, and social responsibility.\n",
      "\n",
      "\n",
      "\n",
      "Now respond with only the JSON, nothing else.\n"
     ]
    }
   ],
   "source": [
    "print(judge)"
   ]
  },
  {
   "cell_type": "code",
   "execution_count": 21,
   "metadata": {},
   "outputs": [],
   "source": [
    "judge_messages = [{\"role\": \"user\", \"content\": judge}]"
   ]
  },
  {
   "cell_type": "code",
   "execution_count": 22,
   "metadata": {},
   "outputs": [
    {
     "name": "stdout",
     "output_type": "stream",
     "text": [
      "{\"results\": [\n",
      "    {\"competitor\": 1, \"success_chances\": [85, 80, 70]},\n",
      "    {\"competitor\": 2, \"success_chances\": [80, 75, 70]},\n",
      "    {\"competitor\": 3, \"success_chances\": [80, 75, 65]},\n",
      "    {\"competitor\": 4, \"success_chances\": [80, 70, 75]},\n",
      "    {\"competitor\": 5, \"success_chances\": [80, 75, 85]},\n",
      "    {\"competitor\": 6, \"success_chances\": [80, 75, 78]}\n",
      "]}\n"
     ]
    }
   ],
   "source": [
    "# Judgement time!\n",
    "\n",
    "openai = OpenAI()\n",
    "response = openai.chat.completions.create(\n",
    "    model=\"o3-mini\",\n",
    "    messages=judge_messages,\n",
    ")\n",
    "results = response.choices[0].message.content\n",
    "print(results)\n"
   ]
  },
  {
   "cell_type": "code",
   "execution_count": 23,
   "metadata": {},
   "outputs": [
    {
     "name": "stdout",
     "output_type": "stream",
     "text": [
      "gpt-4o-mini:\n",
      "  Idea 1: 85% chance of success\n",
      "  Idea 2: 80% chance of success\n",
      "  Idea 3: 70% chance of success\n",
      "\n",
      "claude-3-7-sonnet-latest:\n",
      "  Idea 1: 80% chance of success\n",
      "  Idea 2: 75% chance of success\n",
      "  Idea 3: 70% chance of success\n",
      "\n",
      "gemini-2.0-flash:\n",
      "  Idea 1: 80% chance of success\n",
      "  Idea 2: 75% chance of success\n",
      "  Idea 3: 65% chance of success\n",
      "\n",
      "deepseek-chat:\n",
      "  Idea 1: 80% chance of success\n",
      "  Idea 2: 70% chance of success\n",
      "  Idea 3: 75% chance of success\n",
      "\n",
      "llama-3.3-70b-versatile:\n",
      "  Idea 1: 80% chance of success\n",
      "  Idea 2: 75% chance of success\n",
      "  Idea 3: 85% chance of success\n",
      "\n",
      "llama3.2:\n",
      "  Idea 1: 80% chance of success\n",
      "  Idea 2: 75% chance of success\n",
      "  Idea 3: 78% chance of success\n",
      "\n"
     ]
    }
   ],
   "source": [
    "# Parse judge results JSON and display success probabilities\n",
    "results_dict = json.loads(results)\n",
    "for entry in results_dict[\"results\"]:\n",
    "    comp_num = entry[\"competitor\"]\n",
    "    comp_name = competitors[comp_num - 1]\n",
    "    chances = entry[\"success_chances\"]\n",
    "    print(f\"{comp_name}:\")\n",
    "    for idx, perc in enumerate(chances, start=1):\n",
    "        print(f\"  Idea {idx}: {perc}% chance of success\")\n",
    "    print()\n"
   ]
  }
 ],
 "metadata": {
  "kernelspec": {
   "display_name": ".venv",
   "language": "python",
   "name": "python3"
  },
  "language_info": {
   "codemirror_mode": {
    "name": "ipython",
    "version": 3
   },
   "file_extension": ".py",
   "mimetype": "text/x-python",
   "name": "python",
   "nbconvert_exporter": "python",
   "pygments_lexer": "ipython3",
   "version": "3.12.7"
  }
 },
 "nbformat": 4,
 "nbformat_minor": 2
}
