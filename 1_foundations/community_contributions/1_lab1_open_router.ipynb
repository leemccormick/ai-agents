{
 "cells": [
  {
   "cell_type": "markdown",
   "metadata": {},
   "source": [
    "# Welcome to the start of your adventure in Agentic AI"
   ]
  },
  {
   "cell_type": "markdown",
   "metadata": {},
   "source": [
    "<table style=\"margin: 0; text-align: left; width:100%\">\n",
    "    <tr>\n",
    "        <td style=\"width: 150px; height: 150px; vertical-align: middle;\">\n",
    "            <img src=\"../assets/stop.png\" width=\"150\" height=\"150\" style=\"display: block;\" />\n",
    "        </td>\n",
    "        <td>\n",
    "            <h2 style=\"color:#ff7800;\">Are you ready for action??</h2>\n",
    "            <span style=\"color:#ff7800;\">Have you completed all the setup steps in the <a href=\"../setup/\">setup</a> folder?<br/>\n",
    "            Have you checked out the guides in the <a href=\"../guides/01_intro.ipynb\">guides</a> folder?<br/>\n",
    "            Well in that case, you're ready!!\n",
    "            </span>\n",
    "        </td>\n",
    "    </tr>\n",
    "</table>"
   ]
  },
  {
   "cell_type": "markdown",
   "metadata": {},
   "source": [
    "<table style=\"margin: 0; text-align: left; width:100%\">\n",
    "    <tr>\n",
    "        <td style=\"width: 150px; height: 150px; vertical-align: middle;\">\n",
    "            <img src=\"../assets/tools.png\" width=\"150\" height=\"150\" style=\"display: block;\" />\n",
    "        </td>\n",
    "        <td>\n",
    "            <h2 style=\"color:#00bfff;\">This code is a live resource - keep an eye out for my updates</h2>\n",
    "            <span style=\"color:#00bfff;\">I push updates regularly. As people ask questions or have problems, I add more examples and improve explanations. As a result, the code below might not be identical to the videos, as I've added more steps and better comments. Consider this like an interactive book that accompanies the lectures.<br/><br/>\n",
    "            I try to send emails regularly with important updates related to the course. You can find this in the 'Announcements' section of Udemy in the left sidebar. You can also choose to receive my emails via your Notification Settings in Udemy. I'm respectful of your inbox and always try to add value with my emails!\n",
    "            </span>\n",
    "        </td>\n",
    "    </tr>\n",
    "</table>"
   ]
  },
  {
   "cell_type": "markdown",
   "metadata": {},
   "source": [
    "### And please do remember to contact me if I can help\n",
    "\n",
    "And I love to connect: https://www.linkedin.com/in/eddonner/\n",
    "\n",
    "\n",
    "### New to Notebooks like this one? Head over to the guides folder!\n",
    "\n",
    "Just to check you've already added the Python and Jupyter extensions to Cursor, if not already installed:\n",
    "- Open extensions (View >> extensions)\n",
    "- Search for python, and when the results show, click on the ms-python one, and Install it if not already installed\n",
    "- Search for jupyter, and when the results show, click on the Microsoft one, and Install it if not already installed  \n",
    "Then View >> Explorer to bring back the File Explorer.\n",
    "\n",
    "And then:\n",
    "1. Click where it says \"Select Kernel\" near the top right, and select the option called `.venv (Python 3.12.9)` or similar, which should be the first choice or the most prominent choice. You may need to choose \"Python Environments\" first.\n",
    "2. Click in each \"cell\" below, starting with the cell immediately below this text, and press Shift+Enter to run\n",
    "3. Enjoy!\n",
    "\n",
    "After you click \"Select Kernel\", if there is no option like `.venv (Python 3.12.9)` then please do the following:  \n",
    "1. On Mac: From the Cursor menu, choose Settings >> VS Code Settings (NOTE: be sure to select `VSCode Settings` not `Cursor Settings`);  \n",
    "On Windows PC: From the File menu, choose Preferences >> VS Code Settings(NOTE: be sure to select `VSCode Settings` not `Cursor Settings`)  \n",
    "2. In the Settings search bar, type \"venv\"  \n",
    "3. In the field \"Path to folder with a list of Virtual Environments\" put the path to the project root, like C:\\Users\\username\\projects\\agents (on a Windows PC) or /Users/username/projects/agents (on Mac or Linux).  \n",
    "And then try again.\n",
    "\n",
    "Having problems with missing Python versions in that list? Have you ever used Anaconda before? It might be interferring. Quit Cursor, bring up a new command line, and make sure that your Anaconda environment is deactivated:    \n",
    "`conda deactivate`  \n",
    "And if you still have any problems with conda and python versions, it's possible that you will need to run this too:  \n",
    "`conda config --set auto_activate_base false`  \n",
    "and then from within the Agents directory, you should be able to run `uv python list` and see the Python 3.12 version."
   ]
  },
  {
   "cell_type": "code",
   "execution_count": 9,
   "metadata": {},
   "outputs": [],
   "source": [
    "# First let's do an import\n",
    "from dotenv import load_dotenv\n"
   ]
  },
  {
   "cell_type": "code",
   "execution_count": 10,
   "metadata": {},
   "outputs": [
    {
     "data": {
      "text/plain": [
       "True"
      ]
     },
     "execution_count": 10,
     "metadata": {},
     "output_type": "execute_result"
    }
   ],
   "source": [
    "# Next it's time to load the API keys into environment variables\n",
    "\n",
    "load_dotenv(override=True)"
   ]
  },
  {
   "cell_type": "code",
   "execution_count": 11,
   "metadata": {},
   "outputs": [
    {
     "name": "stdout",
     "output_type": "stream",
     "text": [
      "Open router API Key not set - please head to the troubleshooting guide in the setup folder\n"
     ]
    }
   ],
   "source": [
    "# Check the keys\n",
    "\n",
    "import os\n",
    "open_router_api_key = os.getenv('OPEN_ROUTER_API_KEY')\n",
    "\n",
    "if open_router_api_key:\n",
    "    print(f\"Open router API Key exists and begins {open_router_api_key[:8]}\")\n",
    "else:\n",
    "    print(\"Open router API Key not set - please head to the troubleshooting guide in the setup folder\")\n"
   ]
  },
  {
   "cell_type": "code",
   "execution_count": 12,
   "metadata": {},
   "outputs": [],
   "source": [
    "from openai import OpenAI"
   ]
  },
  {
   "cell_type": "code",
   "execution_count": 13,
   "metadata": {},
   "outputs": [],
   "source": [
    "# Initialize the client to point at OpenRouter instead of OpenAI\n",
    "# You can use the exact same OpenAI Python package—just swap the base_url!\n",
    "client = OpenAI(\n",
    "    base_url=\"https://openrouter.ai/api/v1\",\n",
    "    api_key=open_router_api_key\n",
    ")"
   ]
  },
  {
   "cell_type": "code",
   "execution_count": 14,
   "metadata": {},
   "outputs": [],
   "source": [
    "messages = [{\"role\": \"user\", \"content\": \"What is 2+2?\"}]"
   ]
  },
  {
   "cell_type": "code",
   "execution_count": 15,
   "metadata": {},
   "outputs": [
    {
     "ename": "AuthenticationError",
     "evalue": "Error code: 401 - {'error': {'message': 'No auth credentials found', 'code': 401}}",
     "output_type": "error",
     "traceback": [
      "\u001b[31m---------------------------------------------------------------------------\u001b[39m",
      "\u001b[31mAuthenticationError\u001b[39m                       Traceback (most recent call last)",
      "\u001b[36mCell\u001b[39m\u001b[36m \u001b[39m\u001b[32mIn[15]\u001b[39m\u001b[32m, line 6\u001b[39m\n\u001b[32m      1\u001b[39m client = OpenAI(\n\u001b[32m      2\u001b[39m     base_url=\u001b[33m\"\u001b[39m\u001b[33mhttps://openrouter.ai/api/v1\u001b[39m\u001b[33m\"\u001b[39m,\n\u001b[32m      3\u001b[39m     api_key=open_router_api_key\n\u001b[32m      4\u001b[39m )\n\u001b[32m----> \u001b[39m\u001b[32m6\u001b[39m resp = \u001b[43mclient\u001b[49m\u001b[43m.\u001b[49m\u001b[43mchat\u001b[49m\u001b[43m.\u001b[49m\u001b[43mcompletions\u001b[49m\u001b[43m.\u001b[49m\u001b[43mcreate\u001b[49m\u001b[43m(\u001b[49m\n\u001b[32m      7\u001b[39m \u001b[43m    \u001b[49m\u001b[38;5;66;43;03m# Select a model from https://openrouter.ai/models and provide the model name here\u001b[39;49;00m\n\u001b[32m      8\u001b[39m \u001b[43m    \u001b[49m\u001b[43mmodel\u001b[49m\u001b[43m=\u001b[49m\u001b[33;43m\"\u001b[39;49m\u001b[33;43mmeta-llama/llama-3.3-8b-instruct:free\u001b[39;49m\u001b[33;43m\"\u001b[39;49m\u001b[43m,\u001b[49m\n\u001b[32m      9\u001b[39m \u001b[43m    \u001b[49m\u001b[43mmessages\u001b[49m\u001b[43m=\u001b[49m\u001b[43mmessages\u001b[49m\n\u001b[32m     10\u001b[39m \u001b[43m)\u001b[49m\n\u001b[32m     11\u001b[39m \u001b[38;5;28mprint\u001b[39m(resp.choices[\u001b[32m0\u001b[39m].message.content)\n",
      "\u001b[36mFile \u001b[39m\u001b[32m~/Desktop/Playground/ai-agents/.venv/lib/python3.12/site-packages/openai/_utils/_utils.py:287\u001b[39m, in \u001b[36mrequired_args.<locals>.inner.<locals>.wrapper\u001b[39m\u001b[34m(*args, **kwargs)\u001b[39m\n\u001b[32m    285\u001b[39m             msg = \u001b[33mf\u001b[39m\u001b[33m\"\u001b[39m\u001b[33mMissing required argument: \u001b[39m\u001b[38;5;132;01m{\u001b[39;00mquote(missing[\u001b[32m0\u001b[39m])\u001b[38;5;132;01m}\u001b[39;00m\u001b[33m\"\u001b[39m\n\u001b[32m    286\u001b[39m     \u001b[38;5;28;01mraise\u001b[39;00m \u001b[38;5;167;01mTypeError\u001b[39;00m(msg)\n\u001b[32m--> \u001b[39m\u001b[32m287\u001b[39m \u001b[38;5;28;01mreturn\u001b[39;00m \u001b[43mfunc\u001b[49m\u001b[43m(\u001b[49m\u001b[43m*\u001b[49m\u001b[43margs\u001b[49m\u001b[43m,\u001b[49m\u001b[43m \u001b[49m\u001b[43m*\u001b[49m\u001b[43m*\u001b[49m\u001b[43mkwargs\u001b[49m\u001b[43m)\u001b[49m\n",
      "\u001b[36mFile \u001b[39m\u001b[32m~/Desktop/Playground/ai-agents/.venv/lib/python3.12/site-packages/openai/resources/chat/completions/completions.py:925\u001b[39m, in \u001b[36mCompletions.create\u001b[39m\u001b[34m(self, messages, model, audio, frequency_penalty, function_call, functions, logit_bias, logprobs, max_completion_tokens, max_tokens, metadata, modalities, n, parallel_tool_calls, prediction, presence_penalty, reasoning_effort, response_format, seed, service_tier, stop, store, stream, stream_options, temperature, tool_choice, tools, top_logprobs, top_p, user, web_search_options, extra_headers, extra_query, extra_body, timeout)\u001b[39m\n\u001b[32m    882\u001b[39m \u001b[38;5;129m@required_args\u001b[39m([\u001b[33m\"\u001b[39m\u001b[33mmessages\u001b[39m\u001b[33m\"\u001b[39m, \u001b[33m\"\u001b[39m\u001b[33mmodel\u001b[39m\u001b[33m\"\u001b[39m], [\u001b[33m\"\u001b[39m\u001b[33mmessages\u001b[39m\u001b[33m\"\u001b[39m, \u001b[33m\"\u001b[39m\u001b[33mmodel\u001b[39m\u001b[33m\"\u001b[39m, \u001b[33m\"\u001b[39m\u001b[33mstream\u001b[39m\u001b[33m\"\u001b[39m])\n\u001b[32m    883\u001b[39m \u001b[38;5;28;01mdef\u001b[39;00m\u001b[38;5;250m \u001b[39m\u001b[34mcreate\u001b[39m(\n\u001b[32m    884\u001b[39m     \u001b[38;5;28mself\u001b[39m,\n\u001b[32m   (...)\u001b[39m\u001b[32m    922\u001b[39m     timeout: \u001b[38;5;28mfloat\u001b[39m | httpx.Timeout | \u001b[38;5;28;01mNone\u001b[39;00m | NotGiven = NOT_GIVEN,\n\u001b[32m    923\u001b[39m ) -> ChatCompletion | Stream[ChatCompletionChunk]:\n\u001b[32m    924\u001b[39m     validate_response_format(response_format)\n\u001b[32m--> \u001b[39m\u001b[32m925\u001b[39m     \u001b[38;5;28;01mreturn\u001b[39;00m \u001b[38;5;28;43mself\u001b[39;49m\u001b[43m.\u001b[49m\u001b[43m_post\u001b[49m\u001b[43m(\u001b[49m\n\u001b[32m    926\u001b[39m \u001b[43m        \u001b[49m\u001b[33;43m\"\u001b[39;49m\u001b[33;43m/chat/completions\u001b[39;49m\u001b[33;43m\"\u001b[39;49m\u001b[43m,\u001b[49m\n\u001b[32m    927\u001b[39m \u001b[43m        \u001b[49m\u001b[43mbody\u001b[49m\u001b[43m=\u001b[49m\u001b[43mmaybe_transform\u001b[49m\u001b[43m(\u001b[49m\n\u001b[32m    928\u001b[39m \u001b[43m            \u001b[49m\u001b[43m{\u001b[49m\n\u001b[32m    929\u001b[39m \u001b[43m                \u001b[49m\u001b[33;43m\"\u001b[39;49m\u001b[33;43mmessages\u001b[39;49m\u001b[33;43m\"\u001b[39;49m\u001b[43m:\u001b[49m\u001b[43m \u001b[49m\u001b[43mmessages\u001b[49m\u001b[43m,\u001b[49m\n\u001b[32m    930\u001b[39m \u001b[43m                \u001b[49m\u001b[33;43m\"\u001b[39;49m\u001b[33;43mmodel\u001b[39;49m\u001b[33;43m\"\u001b[39;49m\u001b[43m:\u001b[49m\u001b[43m \u001b[49m\u001b[43mmodel\u001b[49m\u001b[43m,\u001b[49m\n\u001b[32m    931\u001b[39m \u001b[43m                \u001b[49m\u001b[33;43m\"\u001b[39;49m\u001b[33;43maudio\u001b[39;49m\u001b[33;43m\"\u001b[39;49m\u001b[43m:\u001b[49m\u001b[43m \u001b[49m\u001b[43maudio\u001b[49m\u001b[43m,\u001b[49m\n\u001b[32m    932\u001b[39m \u001b[43m                \u001b[49m\u001b[33;43m\"\u001b[39;49m\u001b[33;43mfrequency_penalty\u001b[39;49m\u001b[33;43m\"\u001b[39;49m\u001b[43m:\u001b[49m\u001b[43m \u001b[49m\u001b[43mfrequency_penalty\u001b[49m\u001b[43m,\u001b[49m\n\u001b[32m    933\u001b[39m \u001b[43m                \u001b[49m\u001b[33;43m\"\u001b[39;49m\u001b[33;43mfunction_call\u001b[39;49m\u001b[33;43m\"\u001b[39;49m\u001b[43m:\u001b[49m\u001b[43m \u001b[49m\u001b[43mfunction_call\u001b[49m\u001b[43m,\u001b[49m\n\u001b[32m    934\u001b[39m \u001b[43m                \u001b[49m\u001b[33;43m\"\u001b[39;49m\u001b[33;43mfunctions\u001b[39;49m\u001b[33;43m\"\u001b[39;49m\u001b[43m:\u001b[49m\u001b[43m \u001b[49m\u001b[43mfunctions\u001b[49m\u001b[43m,\u001b[49m\n\u001b[32m    935\u001b[39m \u001b[43m                \u001b[49m\u001b[33;43m\"\u001b[39;49m\u001b[33;43mlogit_bias\u001b[39;49m\u001b[33;43m\"\u001b[39;49m\u001b[43m:\u001b[49m\u001b[43m \u001b[49m\u001b[43mlogit_bias\u001b[49m\u001b[43m,\u001b[49m\n\u001b[32m    936\u001b[39m \u001b[43m                \u001b[49m\u001b[33;43m\"\u001b[39;49m\u001b[33;43mlogprobs\u001b[39;49m\u001b[33;43m\"\u001b[39;49m\u001b[43m:\u001b[49m\u001b[43m \u001b[49m\u001b[43mlogprobs\u001b[49m\u001b[43m,\u001b[49m\n\u001b[32m    937\u001b[39m \u001b[43m                \u001b[49m\u001b[33;43m\"\u001b[39;49m\u001b[33;43mmax_completion_tokens\u001b[39;49m\u001b[33;43m\"\u001b[39;49m\u001b[43m:\u001b[49m\u001b[43m \u001b[49m\u001b[43mmax_completion_tokens\u001b[49m\u001b[43m,\u001b[49m\n\u001b[32m    938\u001b[39m \u001b[43m                \u001b[49m\u001b[33;43m\"\u001b[39;49m\u001b[33;43mmax_tokens\u001b[39;49m\u001b[33;43m\"\u001b[39;49m\u001b[43m:\u001b[49m\u001b[43m \u001b[49m\u001b[43mmax_tokens\u001b[49m\u001b[43m,\u001b[49m\n\u001b[32m    939\u001b[39m \u001b[43m                \u001b[49m\u001b[33;43m\"\u001b[39;49m\u001b[33;43mmetadata\u001b[39;49m\u001b[33;43m\"\u001b[39;49m\u001b[43m:\u001b[49m\u001b[43m \u001b[49m\u001b[43mmetadata\u001b[49m\u001b[43m,\u001b[49m\n\u001b[32m    940\u001b[39m \u001b[43m                \u001b[49m\u001b[33;43m\"\u001b[39;49m\u001b[33;43mmodalities\u001b[39;49m\u001b[33;43m\"\u001b[39;49m\u001b[43m:\u001b[49m\u001b[43m \u001b[49m\u001b[43mmodalities\u001b[49m\u001b[43m,\u001b[49m\n\u001b[32m    941\u001b[39m \u001b[43m                \u001b[49m\u001b[33;43m\"\u001b[39;49m\u001b[33;43mn\u001b[39;49m\u001b[33;43m\"\u001b[39;49m\u001b[43m:\u001b[49m\u001b[43m \u001b[49m\u001b[43mn\u001b[49m\u001b[43m,\u001b[49m\n\u001b[32m    942\u001b[39m \u001b[43m                \u001b[49m\u001b[33;43m\"\u001b[39;49m\u001b[33;43mparallel_tool_calls\u001b[39;49m\u001b[33;43m\"\u001b[39;49m\u001b[43m:\u001b[49m\u001b[43m \u001b[49m\u001b[43mparallel_tool_calls\u001b[49m\u001b[43m,\u001b[49m\n\u001b[32m    943\u001b[39m \u001b[43m                \u001b[49m\u001b[33;43m\"\u001b[39;49m\u001b[33;43mprediction\u001b[39;49m\u001b[33;43m\"\u001b[39;49m\u001b[43m:\u001b[49m\u001b[43m \u001b[49m\u001b[43mprediction\u001b[49m\u001b[43m,\u001b[49m\n\u001b[32m    944\u001b[39m \u001b[43m                \u001b[49m\u001b[33;43m\"\u001b[39;49m\u001b[33;43mpresence_penalty\u001b[39;49m\u001b[33;43m\"\u001b[39;49m\u001b[43m:\u001b[49m\u001b[43m \u001b[49m\u001b[43mpresence_penalty\u001b[49m\u001b[43m,\u001b[49m\n\u001b[32m    945\u001b[39m \u001b[43m                \u001b[49m\u001b[33;43m\"\u001b[39;49m\u001b[33;43mreasoning_effort\u001b[39;49m\u001b[33;43m\"\u001b[39;49m\u001b[43m:\u001b[49m\u001b[43m \u001b[49m\u001b[43mreasoning_effort\u001b[49m\u001b[43m,\u001b[49m\n\u001b[32m    946\u001b[39m \u001b[43m                \u001b[49m\u001b[33;43m\"\u001b[39;49m\u001b[33;43mresponse_format\u001b[39;49m\u001b[33;43m\"\u001b[39;49m\u001b[43m:\u001b[49m\u001b[43m \u001b[49m\u001b[43mresponse_format\u001b[49m\u001b[43m,\u001b[49m\n\u001b[32m    947\u001b[39m \u001b[43m                \u001b[49m\u001b[33;43m\"\u001b[39;49m\u001b[33;43mseed\u001b[39;49m\u001b[33;43m\"\u001b[39;49m\u001b[43m:\u001b[49m\u001b[43m \u001b[49m\u001b[43mseed\u001b[49m\u001b[43m,\u001b[49m\n\u001b[32m    948\u001b[39m \u001b[43m                \u001b[49m\u001b[33;43m\"\u001b[39;49m\u001b[33;43mservice_tier\u001b[39;49m\u001b[33;43m\"\u001b[39;49m\u001b[43m:\u001b[49m\u001b[43m \u001b[49m\u001b[43mservice_tier\u001b[49m\u001b[43m,\u001b[49m\n\u001b[32m    949\u001b[39m \u001b[43m                \u001b[49m\u001b[33;43m\"\u001b[39;49m\u001b[33;43mstop\u001b[39;49m\u001b[33;43m\"\u001b[39;49m\u001b[43m:\u001b[49m\u001b[43m \u001b[49m\u001b[43mstop\u001b[49m\u001b[43m,\u001b[49m\n\u001b[32m    950\u001b[39m \u001b[43m                \u001b[49m\u001b[33;43m\"\u001b[39;49m\u001b[33;43mstore\u001b[39;49m\u001b[33;43m\"\u001b[39;49m\u001b[43m:\u001b[49m\u001b[43m \u001b[49m\u001b[43mstore\u001b[49m\u001b[43m,\u001b[49m\n\u001b[32m    951\u001b[39m \u001b[43m                \u001b[49m\u001b[33;43m\"\u001b[39;49m\u001b[33;43mstream\u001b[39;49m\u001b[33;43m\"\u001b[39;49m\u001b[43m:\u001b[49m\u001b[43m \u001b[49m\u001b[43mstream\u001b[49m\u001b[43m,\u001b[49m\n\u001b[32m    952\u001b[39m \u001b[43m                \u001b[49m\u001b[33;43m\"\u001b[39;49m\u001b[33;43mstream_options\u001b[39;49m\u001b[33;43m\"\u001b[39;49m\u001b[43m:\u001b[49m\u001b[43m \u001b[49m\u001b[43mstream_options\u001b[49m\u001b[43m,\u001b[49m\n\u001b[32m    953\u001b[39m \u001b[43m                \u001b[49m\u001b[33;43m\"\u001b[39;49m\u001b[33;43mtemperature\u001b[39;49m\u001b[33;43m\"\u001b[39;49m\u001b[43m:\u001b[49m\u001b[43m \u001b[49m\u001b[43mtemperature\u001b[49m\u001b[43m,\u001b[49m\n\u001b[32m    954\u001b[39m \u001b[43m                \u001b[49m\u001b[33;43m\"\u001b[39;49m\u001b[33;43mtool_choice\u001b[39;49m\u001b[33;43m\"\u001b[39;49m\u001b[43m:\u001b[49m\u001b[43m \u001b[49m\u001b[43mtool_choice\u001b[49m\u001b[43m,\u001b[49m\n\u001b[32m    955\u001b[39m \u001b[43m                \u001b[49m\u001b[33;43m\"\u001b[39;49m\u001b[33;43mtools\u001b[39;49m\u001b[33;43m\"\u001b[39;49m\u001b[43m:\u001b[49m\u001b[43m \u001b[49m\u001b[43mtools\u001b[49m\u001b[43m,\u001b[49m\n\u001b[32m    956\u001b[39m \u001b[43m                \u001b[49m\u001b[33;43m\"\u001b[39;49m\u001b[33;43mtop_logprobs\u001b[39;49m\u001b[33;43m\"\u001b[39;49m\u001b[43m:\u001b[49m\u001b[43m \u001b[49m\u001b[43mtop_logprobs\u001b[49m\u001b[43m,\u001b[49m\n\u001b[32m    957\u001b[39m \u001b[43m                \u001b[49m\u001b[33;43m\"\u001b[39;49m\u001b[33;43mtop_p\u001b[39;49m\u001b[33;43m\"\u001b[39;49m\u001b[43m:\u001b[49m\u001b[43m \u001b[49m\u001b[43mtop_p\u001b[49m\u001b[43m,\u001b[49m\n\u001b[32m    958\u001b[39m \u001b[43m                \u001b[49m\u001b[33;43m\"\u001b[39;49m\u001b[33;43muser\u001b[39;49m\u001b[33;43m\"\u001b[39;49m\u001b[43m:\u001b[49m\u001b[43m \u001b[49m\u001b[43muser\u001b[49m\u001b[43m,\u001b[49m\n\u001b[32m    959\u001b[39m \u001b[43m                \u001b[49m\u001b[33;43m\"\u001b[39;49m\u001b[33;43mweb_search_options\u001b[39;49m\u001b[33;43m\"\u001b[39;49m\u001b[43m:\u001b[49m\u001b[43m \u001b[49m\u001b[43mweb_search_options\u001b[49m\u001b[43m,\u001b[49m\n\u001b[32m    960\u001b[39m \u001b[43m            \u001b[49m\u001b[43m}\u001b[49m\u001b[43m,\u001b[49m\n\u001b[32m    961\u001b[39m \u001b[43m            \u001b[49m\u001b[43mcompletion_create_params\u001b[49m\u001b[43m.\u001b[49m\u001b[43mCompletionCreateParamsStreaming\u001b[49m\n\u001b[32m    962\u001b[39m \u001b[43m            \u001b[49m\u001b[38;5;28;43;01mif\u001b[39;49;00m\u001b[43m \u001b[49m\u001b[43mstream\u001b[49m\n\u001b[32m    963\u001b[39m \u001b[43m            \u001b[49m\u001b[38;5;28;43;01melse\u001b[39;49;00m\u001b[43m \u001b[49m\u001b[43mcompletion_create_params\u001b[49m\u001b[43m.\u001b[49m\u001b[43mCompletionCreateParamsNonStreaming\u001b[49m\u001b[43m,\u001b[49m\n\u001b[32m    964\u001b[39m \u001b[43m        \u001b[49m\u001b[43m)\u001b[49m\u001b[43m,\u001b[49m\n\u001b[32m    965\u001b[39m \u001b[43m        \u001b[49m\u001b[43moptions\u001b[49m\u001b[43m=\u001b[49m\u001b[43mmake_request_options\u001b[49m\u001b[43m(\u001b[49m\n\u001b[32m    966\u001b[39m \u001b[43m            \u001b[49m\u001b[43mextra_headers\u001b[49m\u001b[43m=\u001b[49m\u001b[43mextra_headers\u001b[49m\u001b[43m,\u001b[49m\u001b[43m \u001b[49m\u001b[43mextra_query\u001b[49m\u001b[43m=\u001b[49m\u001b[43mextra_query\u001b[49m\u001b[43m,\u001b[49m\u001b[43m \u001b[49m\u001b[43mextra_body\u001b[49m\u001b[43m=\u001b[49m\u001b[43mextra_body\u001b[49m\u001b[43m,\u001b[49m\u001b[43m \u001b[49m\u001b[43mtimeout\u001b[49m\u001b[43m=\u001b[49m\u001b[43mtimeout\u001b[49m\n\u001b[32m    967\u001b[39m \u001b[43m        \u001b[49m\u001b[43m)\u001b[49m\u001b[43m,\u001b[49m\n\u001b[32m    968\u001b[39m \u001b[43m        \u001b[49m\u001b[43mcast_to\u001b[49m\u001b[43m=\u001b[49m\u001b[43mChatCompletion\u001b[49m\u001b[43m,\u001b[49m\n\u001b[32m    969\u001b[39m \u001b[43m        \u001b[49m\u001b[43mstream\u001b[49m\u001b[43m=\u001b[49m\u001b[43mstream\u001b[49m\u001b[43m \u001b[49m\u001b[38;5;129;43;01mor\u001b[39;49;00m\u001b[43m \u001b[49m\u001b[38;5;28;43;01mFalse\u001b[39;49;00m\u001b[43m,\u001b[49m\n\u001b[32m    970\u001b[39m \u001b[43m        \u001b[49m\u001b[43mstream_cls\u001b[49m\u001b[43m=\u001b[49m\u001b[43mStream\u001b[49m\u001b[43m[\u001b[49m\u001b[43mChatCompletionChunk\u001b[49m\u001b[43m]\u001b[49m\u001b[43m,\u001b[49m\n\u001b[32m    971\u001b[39m \u001b[43m    \u001b[49m\u001b[43m)\u001b[49m\n",
      "\u001b[36mFile \u001b[39m\u001b[32m~/Desktop/Playground/ai-agents/.venv/lib/python3.12/site-packages/openai/_base_client.py:1239\u001b[39m, in \u001b[36mSyncAPIClient.post\u001b[39m\u001b[34m(self, path, cast_to, body, options, files, stream, stream_cls)\u001b[39m\n\u001b[32m   1225\u001b[39m \u001b[38;5;28;01mdef\u001b[39;00m\u001b[38;5;250m \u001b[39m\u001b[34mpost\u001b[39m(\n\u001b[32m   1226\u001b[39m     \u001b[38;5;28mself\u001b[39m,\n\u001b[32m   1227\u001b[39m     path: \u001b[38;5;28mstr\u001b[39m,\n\u001b[32m   (...)\u001b[39m\u001b[32m   1234\u001b[39m     stream_cls: \u001b[38;5;28mtype\u001b[39m[_StreamT] | \u001b[38;5;28;01mNone\u001b[39;00m = \u001b[38;5;28;01mNone\u001b[39;00m,\n\u001b[32m   1235\u001b[39m ) -> ResponseT | _StreamT:\n\u001b[32m   1236\u001b[39m     opts = FinalRequestOptions.construct(\n\u001b[32m   1237\u001b[39m         method=\u001b[33m\"\u001b[39m\u001b[33mpost\u001b[39m\u001b[33m\"\u001b[39m, url=path, json_data=body, files=to_httpx_files(files), **options\n\u001b[32m   1238\u001b[39m     )\n\u001b[32m-> \u001b[39m\u001b[32m1239\u001b[39m     \u001b[38;5;28;01mreturn\u001b[39;00m cast(ResponseT, \u001b[38;5;28;43mself\u001b[39;49m\u001b[43m.\u001b[49m\u001b[43mrequest\u001b[49m\u001b[43m(\u001b[49m\u001b[43mcast_to\u001b[49m\u001b[43m,\u001b[49m\u001b[43m \u001b[49m\u001b[43mopts\u001b[49m\u001b[43m,\u001b[49m\u001b[43m \u001b[49m\u001b[43mstream\u001b[49m\u001b[43m=\u001b[49m\u001b[43mstream\u001b[49m\u001b[43m,\u001b[49m\u001b[43m \u001b[49m\u001b[43mstream_cls\u001b[49m\u001b[43m=\u001b[49m\u001b[43mstream_cls\u001b[49m\u001b[43m)\u001b[49m)\n",
      "\u001b[36mFile \u001b[39m\u001b[32m~/Desktop/Playground/ai-agents/.venv/lib/python3.12/site-packages/openai/_base_client.py:1034\u001b[39m, in \u001b[36mSyncAPIClient.request\u001b[39m\u001b[34m(self, cast_to, options, stream, stream_cls)\u001b[39m\n\u001b[32m   1031\u001b[39m             err.response.read()\n\u001b[32m   1033\u001b[39m         log.debug(\u001b[33m\"\u001b[39m\u001b[33mRe-raising status error\u001b[39m\u001b[33m\"\u001b[39m)\n\u001b[32m-> \u001b[39m\u001b[32m1034\u001b[39m         \u001b[38;5;28;01mraise\u001b[39;00m \u001b[38;5;28mself\u001b[39m._make_status_error_from_response(err.response) \u001b[38;5;28;01mfrom\u001b[39;00m\u001b[38;5;250m \u001b[39m\u001b[38;5;28;01mNone\u001b[39;00m\n\u001b[32m   1036\u001b[39m     \u001b[38;5;28;01mbreak\u001b[39;00m\n\u001b[32m   1038\u001b[39m \u001b[38;5;28;01massert\u001b[39;00m response \u001b[38;5;129;01mis\u001b[39;00m \u001b[38;5;129;01mnot\u001b[39;00m \u001b[38;5;28;01mNone\u001b[39;00m, \u001b[33m\"\u001b[39m\u001b[33mcould not resolve response (should never happen)\u001b[39m\u001b[33m\"\u001b[39m\n",
      "\u001b[31mAuthenticationError\u001b[39m: Error code: 401 - {'error': {'message': 'No auth credentials found', 'code': 401}}"
     ]
    }
   ],
   "source": [
    "client = OpenAI(\n",
    "    base_url=\"https://openrouter.ai/api/v1\",\n",
    "    api_key=open_router_api_key\n",
    ")\n",
    "\n",
    "resp = client.chat.completions.create(\n",
    "    # Select a model from https://openrouter.ai/models and provide the model name here\n",
    "    model=\"meta-llama/llama-3.3-8b-instruct:free\",\n",
    "    messages=messages\n",
    ")\n",
    "print(resp.choices[0].message.content)"
   ]
  },
  {
   "cell_type": "code",
   "execution_count": 83,
   "metadata": {},
   "outputs": [],
   "source": [
    "# And now - let's ask for a question:\n",
    "\n",
    "question = \"Please propose a hard, challenging question to assess someone's IQ. Respond only with the question.\"\n",
    "messages = [{\"role\": \"user\", \"content\": question}]"
   ]
  },
  {
   "cell_type": "code",
   "execution_count": null,
   "metadata": {},
   "outputs": [],
   "source": [
    "response = client.chat.completions.create(\n",
    "    model=\"meta-llama/llama-3.3-8b-instruct:free\",\n",
    "    messages=messages\n",
    ")\n",
    "\n",
    "question = response.choices[0].message.content\n",
    "\n",
    "print(question)"
   ]
  },
  {
   "cell_type": "code",
   "execution_count": 85,
   "metadata": {},
   "outputs": [],
   "source": [
    "# form a new messages list\n",
    "\n",
    "messages = [{\"role\": \"user\", \"content\": question}]\n"
   ]
  },
  {
   "cell_type": "code",
   "execution_count": null,
   "metadata": {},
   "outputs": [],
   "source": [
    "# Ask it again\n",
    "\n",
    "response = client.chat.completions.create(\n",
    "    model=\"meta-llama/llama-3.3-8b-instruct:free\",\n",
    "    messages=messages\n",
    ")\n",
    "\n",
    "answer = response.choices[0].message.content\n",
    "print(answer)"
   ]
  },
  {
   "cell_type": "code",
   "execution_count": null,
   "metadata": {},
   "outputs": [],
   "source": [
    "from IPython.display import Markdown, display\n",
    "\n",
    "display(Markdown(answer))\n",
    "\n"
   ]
  },
  {
   "cell_type": "markdown",
   "metadata": {},
   "source": [
    "# Congratulations!\n",
    "\n",
    "That was a small, simple step in the direction of Agentic AI, with your new environment!\n",
    "\n",
    "Next time things get more interesting..."
   ]
  },
  {
   "cell_type": "markdown",
   "metadata": {},
   "source": [
    "<table style=\"margin: 0; text-align: left; width:100%\">\n",
    "    <tr>\n",
    "        <td style=\"width: 150px; height: 150px; vertical-align: middle;\">\n",
    "            <img src=\"../assets/exercise.png\" width=\"150\" height=\"150\" style=\"display: block;\" />\n",
    "        </td>\n",
    "        <td>\n",
    "            <h2 style=\"color:#ff7800;\">Exercise</h2>\n",
    "            <span style=\"color:#ff7800;\">Now try this commercial application:<br/>\n",
    "            First ask the LLM to pick a business area that might be worth exploring for an Agentic AI opportunity.<br/>\n",
    "            Then ask the LLM to present a pain-point in that industry - something challenging that might be ripe for an Agentic solution.<br/>\n",
    "            Finally have 3 third LLM call propose the Agentic AI solution.\n",
    "            </span>\n",
    "        </td>\n",
    "    </tr>\n",
    "</table>"
   ]
  },
  {
   "cell_type": "code",
   "execution_count": 16,
   "metadata": {},
   "outputs": [
    {
     "name": "stderr",
     "output_type": "stream",
     "text": [
      "Both GOOGLE_API_KEY and GEMINI_API_KEY are set. Using GOOGLE_API_KEY.\n"
     ]
    },
    {
     "name": "stdout",
     "output_type": "stream",
     "text": [
      "Gemini API Key exists and begins AIzaSyDL\n",
      "OPEN AI API Key exists and begins sk-proj-\n"
     ]
    },
    {
     "data": {
      "text/markdown": [
       "### Trip Idea:"
      ],
      "text/plain": [
       "<IPython.core.display.Markdown object>"
      ]
     },
     "metadata": {},
     "output_type": "display_data"
    },
    {
     "data": {
      "text/markdown": [
       "Let's consider a **10-Day Multisport Adventure in Patagonia for a Group of 8 Friends.**\n",
       "\n",
       "**The Trip:**\n",
       "\n",
       "This trip aims to explore the diverse landscapes of Patagonia, incorporating hiking, kayaking, glacier trekking, wildlife viewing, and potentially some optional activities like horseback riding or fly fishing. The trip begins in El Calafate, Argentina, continues to El Chalten for trekking, and then moves south towards Torres del Paine National Park in Chile, ending back in El Calafate or Punta Arenas.\n",
       "\n",
       "**Objectives:**\n",
       "\n",
       "*   Experience the iconic landscapes of Patagonia through various outdoor activities.\n",
       "*   Achieve a challenging but rewarding level of physical activity.\n",
       "*   Enjoy a shared adventure with a group of friends, fostering camaraderie and creating lasting memories.\n",
       "*   Learn about the local culture and ecosystems.\n",
       "*   Stay within a reasonable budget (pre-defined by the group).\n",
       "*   Minimize the environmental impact of the trip (eco-conscious travel).\n",
       "\n",
       "**Stakeholders:**\n",
       "\n",
       "*   **The 8 friends:** Each has varying levels of fitness, budget constraints, dietary requirements, and activity preferences.\n",
       "*   **Local Tour Operators:** Providing guided treks, kayaking tours, glacier trekking excursions, and potentially transportation.\n",
       "*   **Accommodation Providers:** Ranging from hostels and guesthouses in El Chalten to more comfortable hotels in El Calafate and potentially camping in Torres del Paine.\n",
       "*   **Transportation Providers:** Buses, taxis, rental cars (considering 4x4 requirements for certain areas), and potentially internal flights.\n",
       "*   **Park Authorities:** Requiring permits, managing trail conditions, and enforcing regulations.\n",
       "\n",
       "**Potential for Optimization:**\n",
       "\n",
       "*   **Activity Scheduling:** Optimizing the itinerary based on weather forecasts, group fitness levels, and activity popularity. Booking activities and guides in advance to secure availability, considering variable pricing based on season and demand.\n",
       "*   **Accommodation Selection:** Finding the best balance between budget, location (proximity to trailheads, restaurants, etc.), and amenities for each stage of the trip.\n",
       "*   **Transportation Logistics:** Coordinating transportation between towns and within national parks, including airport transfers, bus schedules, and potentially car rentals. Optimizing routes to minimize travel time and cost.\n",
       "*   **Meal Planning:** Catering to diverse dietary requirements (vegetarian, vegan, gluten-free) while maximizing local culinary experiences and minimizing waste. Reserving restaurants in advance where necessary.\n",
       "*   **Gear Rentals:** Arranging for the rental of necessary equipment (hiking boots, trekking poles, waterproof clothing) at the best prices and ensuring proper fit.\n",
       "*   **Permit Management:** Securing necessary park permits well in advance, navigating complex online application processes and understanding quota systems.\n",
       "*   **Risk Management:** Monitoring weather conditions, providing safety briefings, and recommending appropriate gear and precautions. Coordinating emergency contacts and insurance information.\n",
       "*   **Sustainability:** Identifying eco-friendly accommodation options, promoting responsible waste management, and supporting local businesses. Offsetting carbon footprint where possible.\n",
       "*   **Customization:** Factoring in individual preferences for specific activities (e.g., one friend is particularly interested in birdwatching, another wants to try fly fishing) and tailoring the itinerary accordingly.\n",
       "*    **Reactive Adjustments:** Dynamically adjusting the itinerary on the fly based on real-time conditions such as trail closures, weather, or illness within the group.\n",
       "\n",
       "**How an AI Agent Could Help:**\n",
       "\n",
       "A proactive, autonomous AI agent could significantly improve this trip in several ways:\n",
       "\n",
       "*   **Personalized Recommendations:** The agent could gather information from each traveler regarding their preferences, fitness levels, dietary needs, and budget. Based on this data, it could suggest personalized activity options, accommodation choices, and meal plans.\n",
       "*   **Intelligent Itinerary Planning:** The AI could analyze weather forecasts, trail conditions, permit availability, and transportation schedules to create an optimized itinerary that balances activity intensity, travel time, and cost. It could also identify potential conflicts (e.g., two friends wanting to do mutually exclusive activities) and suggest alternative solutions.\n",
       "*   **Automated Booking:** The agent could automatically book flights, accommodations, activities, and transportation, ensuring the best possible prices and availability. It could also manage permit applications and track deadlines.\n",
       "*   **Real-Time Monitoring and Adjustment:** The AI could continuously monitor weather conditions, trail conditions, and transportation schedules, and proactively adjust the itinerary as needed. For example, if a trail is closed due to weather, the agent could automatically suggest an alternative activity or reroute transportation.\n",
       "*   **Communication and Coordination:** The agent could act as a central communication hub for the group, sharing itinerary updates, weather alerts, and other important information. It could also facilitate communication between the group and local tour operators or accommodation providers.\n",
       "*   **Cost Optimization:** The agent could track expenses and identify opportunities to save money. For example, it could suggest cheaper accommodation options, alternative transportation routes, or discounted activity packages.\n",
       "*   **Sustainability Focus:** Suggesting eco-friendly options and tracking the overall environmental impact of the trip.\n",
       "\n",
       "**Value Unlocked:**\n",
       "\n",
       "The AI agent wouldn't just save time and reduce planning stress; it would unlock new travel value by:\n",
       "\n",
       "*   **Providing a more personalized and enjoyable experience for each traveler.**\n",
       "*   **Maximizing the group's limited time in Patagonia by optimizing the itinerary.**\n",
       "*   **Minimizing the risk of unforeseen problems and disruptions.**\n",
       "*   **Reducing the environmental impact of the trip.**\n",
       "*   **Enabling the group to focus on enjoying their adventure rather than dealing with logistics.**\n",
       "\n",
       "This complex, multi-faceted trip is a perfect example of how an AI agent can be invaluable in creating a more efficient, enjoyable, and sustainable travel experience.\n"
      ],
      "text/plain": [
       "<IPython.core.display.Markdown object>"
      ]
     },
     "metadata": {},
     "output_type": "display_data"
    },
    {
     "data": {
      "text/markdown": [
       "### Pain Point:"
      ],
      "text/plain": [
       "<IPython.core.display.Markdown object>"
      ]
     },
     "metadata": {},
     "output_type": "display_data"
    },
    {
     "data": {
      "text/markdown": [
       "**Reaching a Consensus on the Itinerary with Conflicting Preferences and Constraints (The \"Decision Paralysis\" Pain Point)**\n",
       "\n",
       "While many pain points exist, the most consistently challenging issue in planning this Patagonia trip is achieving consensus amongst the 8 friends on the itinerary, given their varying preferences, fitness levels, dietary restrictions, budget constraints, and desired activity levels.\n",
       "\n",
       "*   **The Core Problem:** The sheer volume of options – which trails to hike, which activities to prioritize (kayaking vs. horseback riding vs. fly fishing), how much time to spend in each location, which restaurants to choose, what level of accommodation is acceptable – creates a complex decision-making matrix. Each person has a different weighting for each of these factors.\n",
       "\n",
       "*   **Why It's Painful:**\n",
       "    *   **Time-Consuming:** Endless email threads, group chats, and video calls are needed to discuss and debate options, leading to significant time investment *before* the trip even begins.\n",
       "    *   **Frustration and Conflict:** Differing opinions and priorities can lead to disagreements and tensions within the group. It's difficult to keep everyone happy and feel like their voice is heard.\n",
       "    *   **Compromises That Don't Satisfy Anyone:** The final itinerary often ends up being a series of compromises that don't fully satisfy anyone's individual desires, resulting in a less-than-optimal experience.\n",
       "    *   **Analysis Paralysis:** The overwhelming number of options can lead to \"analysis paralysis,\" where the group struggles to make any decisions at all, delaying the planning process and increasing stress.\n",
       "    *   **Missed Opportunities:** Delay in booking often leads to higher prices and lesser availability, as the best accommodations, tours, and transportation options get booked up.\n",
       "\n",
       "*   **How AI Can Help:**\n",
       "    *   **Preference Aggregation and Analysis:** The AI agent can collect data on each individual's preferences, constraints, and priorities using surveys, questionnaires, or even simple natural language conversations. It can then analyze this data to identify common ground, areas of conflict, and potential compromises.\n",
       "    *   **Scenario Generation and Visualization:** The AI can generate multiple itinerary options based on the collected data, each optimized for different criteria (e.g., maximizing adventure, minimizing cost, accommodating dietary needs). These options can be presented to the group in a clear and easy-to-understand format, allowing them to visualize the trade-offs involved.\n",
       "    *   **Collaborative Decision-Making Tools:** The AI can provide tools for the group to vote on itinerary options, provide feedback, and suggest modifications. It can then use this feedback to refine the itineraries and converge on a consensus solution.\n",
       "    *   **Fair Allocation of Resources:** If some activities have limited availability or higher costs, the AI can use algorithms to fairly allocate these resources among the group members, taking into account their preferences and priorities.\n",
       "\n",
       "In essence, the AI acts as an objective facilitator, helping the group navigate the complex decision-making process and arrive at an itinerary that satisfies the majority of their needs and desires, with minimal stress and wasted time. This addresses a core challenge that most group travel planners face: turning a collection of individual preferences into a cohesive and enjoyable group experience.\n"
      ],
      "text/plain": [
       "<IPython.core.display.Markdown object>"
      ]
     },
     "metadata": {},
     "output_type": "display_data"
    },
    {
     "data": {
      "text/markdown": [
       "### Trip Planning AI Solution:"
      ],
      "text/plain": [
       "<IPython.core.display.Markdown object>"
      ]
     },
     "metadata": {},
     "output_type": "display_data"
    },
    {
     "data": {
      "text/markdown": [
       "## 1. Solution Overview\n",
       "\n",
       "The proposed AI agent, named **Patagonia Planner**, is an intelligent, conversational platform that facilitates collaborative decision-making for group travel based on individual preferences and constraints. The agent will aggregate and analyze participants' preferences related to activities, dietary needs, budgets, and other important criteria. Utilizing natural language processing (NLP), machine learning algorithms, and data visualization techniques, Patagonia Planner will generate personalized itinerary options, track feedback, and enable group consensus through an iterative voting process.\n",
       "\n",
       "### Key Features:\n",
       "- **Preference Aggregation**: Collects and analyzes individual preferences via personalized surveys, ensuring each traveler’s voice is heard.\n",
       "- **Scenario Generation**: Provides several optimized itinerary options based on predefined criteria customized for the group, accommodating each member's needs.\n",
       "- **Collaborative Decision-Making**: Offers tools for voting and commenting on itinerary options, enabling real-time feedback and iteration toward final consensus.\n",
       "- **Resource Allocation**: Fairly distributes resources for high-demand activities, ensuring equitable access for all participants.\n",
       "- **Communication Interface**: Integrates with popular messaging platforms (e.g., WhatsApp, Slack) for seamless communication within the group and updates regarding changes.\n",
       "\n",
       "## 2. Implementation Plan\n",
       "\n",
       "### Step 1: Requirements Gathering\n",
       "- **Conduct Workshops**: Organize sessions with potential users to gather information on desired features, critical constraints, and pain points.\n",
       "- **Define Technical Specifications**: Outline functionality, platform compatibility (website and messaging integration), and necessary data privacy measures.\n",
       "\n",
       "### Step 2: Design Phase\n",
       "- **User Experience (UX) Design**: Develop user-friendly wireframes and prototypes showcasing how users will interact with the agent (surveys, itinerary views, voting interfaces).\n",
       "- **System Architecture Diagram**: Create an architectural representation of the AI agent, specifying data flow, API integrations, and third-party services required (e.g., weather APIs, accommodation booking systems).\n",
       "\n",
       "### Step 3: Development \n",
       "- **Preference Aggregation Module**: Build a data collection feature, using NLP to analyze replies and preferences in natural language.\n",
       "- **Itinerary Optimization Engine**: Develop an algorithm that generates itinerary options based on user preferences, using techniques like linear programming or genetic algorithms.\n",
       "- **Feedback Loop & Voting System**: Implement collaborative tools for real-time feedback and voting.\n",
       "- **Integration with Communication Platforms**: Build APIs to support integration with messaging systems to facilitate group interaction.\n",
       "\n",
       "### Step 4: Testing\n",
       "- **Functional Testing**: Evaluate all functionalities, ensuring accurate aggregation,-efficient itinerary creation, and voting mechanisms.\n",
       "- **User Acceptance Testing (UAT)**: Involve small groups of users testing the application for usability and functionality to gather initial feedback.\n",
       "\n",
       "### Step 5: Deployment\n",
       "- **Soft Launch**: Release the agent to a limited audience, collecting usage data and feedback to make improvements before full deployment.\n",
       "- **Full Launch**: Deploy the application widely, ensuring that continuous monitoring and support mechanisms are in place to handle any issues.\n",
       "\n",
       "### Step 6: Post-Deployment Enhancements\n",
       "- **Data Analysis**: Collect and analyze metrics related to user satisfaction and decision-making efficiency to refine features further.\n",
       "- **Expand Functionality**: Based on user feedback, introduce additional features, such as deeper integration with travel services (booking, local guides) and advanced sustainability options.\n",
       "\n",
       "## 3. Potential Bugs/Issues\n",
       "\n",
       "### Technical Challenges\n",
       "- **Data Privacy & Security**: Collecting personal preferences may raise concerns regarding user data protection and compliance with regulations (e.g., GDPR). It's crucial to secure all data and clearly communicate privacy policies.\n",
       "- **Integration Complexities**: Ensuring smooth API interactions with multiple external services (accommodation, transportation, weather forecasts) could prove challenging due to inconsistent data formats or availability.\n",
       "\n",
       "### Edge Cases\n",
       "- **Conflicting Preferences**: In situations where preferences are highly contradictory and no single itinerary can satisfy a majority, the AI must either suggest alternate options or identify potential compromises.\n",
       "- **Dynamic Changes**: Sudden changes in availability (e.g., fully booked activities, unforeseen weather conditions) may necessitate real-time modifications to the itinerary. The AI should adapt quickly while being user-friendly.\n",
       "\n",
       "### User Experience Issues\n",
       "- **Overcomplexity**: If the number of available options becomes overwhelming, participants may experience decision fatigue. The agent must strike a balance between providing enough options and overwhelming users.\n",
       "- **Resistance to AI-Mediated Decisions**: Some users might prefer to engage in direct discussions rather than rely on an AI for making group decisions. A mechanism for supplementary human interaction alongside automated suggestions is essential.\n",
       "\n",
       "By addressing these issues proactively, the Patagonia Planner can effectively facilitate group travel planning, reducing stress and enhancing the enjoyment of travel in Patagonia."
      ],
      "text/plain": [
       "<IPython.core.display.Markdown object>"
      ]
     },
     "metadata": {},
     "output_type": "display_data"
    },
    {
     "data": {
      "text/markdown": [
       "**************************************************"
      ],
      "text/plain": [
       "<IPython.core.display.Markdown object>"
      ]
     },
     "metadata": {},
     "output_type": "display_data"
    }
   ],
   "source": [
    "# Exercise by Lee McCormick - Modified for Trip Planning\n",
    "import os\n",
    "import json\n",
    "from dotenv import load_dotenv\n",
    "from IPython.display import Markdown, display\n",
    "from google import genai\n",
    "from openai import OpenAI\n",
    "\n",
    "# Always remember to do this!\n",
    "load_dotenv(override=True)\n",
    "\n",
    "# Check the keys\n",
    "gemini_api_key = os.getenv('GEMINI_API_KEY')\n",
    "openai_api_key = os.getenv('OPENAI_API_KEY')\n",
    "\n",
    "if gemini_api_key:\n",
    "    print(f\"Gemini API Key exists and begins {gemini_api_key[:8]}\")\n",
    "else:\n",
    "    print(\"Gemini API Key not set - please head to the troubleshooting guide in the guides folder\")\n",
    "    \n",
    "if openai_api_key:\n",
    "    print(f\"OPEN AI API Key exists and begins {openai_api_key[:8]}\")\n",
    "else:\n",
    "    print(\"OPEN AI API Key not set - please head to the troubleshooting guide in the guides folder\")\n",
    "\n",
    "# Create the clients\n",
    "gemini_client = genai.Client(api_key=gemini_api_key)\n",
    "openai_client = OpenAI()\n",
    "\n",
    "# First create the messages for trip idea:\n",
    "messages = [\"Think of a specific travel destination or trip type that involves complex planning, coordination of multiple activities, or management of various travel components. The ideal trip should have clear objectives, multiple stakeholders or participants, and potential for optimization through intelligent planning. What's a trip or travel experience where a proactive, autonomous AI agent could significantly save time, reduce planning stress, or unlock new travel value? Answer with a trip idea.\"]\n",
    "\n",
    "# Then make the first call:\n",
    "response = gemini_client.models.generate_content(\n",
    "    model=\"gemini-2.0-flash\", contents=messages\n",
    ")\n",
    "\n",
    "# Then read the trip idea:\n",
    "trip_idea = response.text\n",
    "display(Markdown(\"### Trip Idea:\"))\n",
    "display(Markdown(trip_idea))\n",
    "\n",
    "# And repeat by asking the pain point with the trip idea!\n",
    "messages = [f\"Now, think of a specific pain point or challenge in planning and executing {trip_idea}. This should be a problem that is common, significant, and could be improved through automation or AI assistance. What's a pain point that consistently affects people planning {trip_idea}? Answer with a specific problem or issue.\"]\n",
    "\n",
    "response = gemini_client.models.generate_content(\n",
    "    model=\"gemini-2.0-flash\", contents=messages\n",
    ")\n",
    "\n",
    "# Then read the pain point:\n",
    "pain_point = response.text\n",
    "display(Markdown(\"### Pain Point:\"))\n",
    "display(Markdown(pain_point))\n",
    "\n",
    "# And repeat by asking the 3rd LLM to propose the Agentic AI solution with plan and bugs!\n",
    "messages = [\n",
    "    {\n",
    "        \"role\": \"user\", \n",
    "        \"content\": f\"The trip idea '{trip_idea}' has the following pain point: {pain_point}. Please propose an Agentic AI solution to this problem. Structure your response with the following sections:\\n\\n1. **Solution Overview**: Brief description of the AI agent solution\\n2. **Implementation Plan**: Step-by-step plan for developing and deploying this solution\\n3. **Potential Bugs/Issues**: List of potential technical challenges, edge cases, or problems that might arise during development or deployment\\n\\nProvide detailed information for each section.\"\n",
    "    }\n",
    "]\n",
    "\n",
    "openai = OpenAI(api_key=os.getenv('OPENAI_API_KEY'))\n",
    "response = openai_client.chat.completions.create(\n",
    "    model=\"gpt-4o-mini\",\n",
    "    messages=messages,\n",
    ")\n",
    "\n",
    "# Then read the Agentic AI solution:\n",
    "result = response.choices[0].message.content\n",
    "display(Markdown(\"### Trip Planning AI Solution:\"))\n",
    "display(Markdown(result))\n",
    "display(Markdown(\"**************************************************\"))"
   ]
  },
  {
   "cell_type": "markdown",
   "metadata": {},
   "source": []
  }
 ],
 "metadata": {
  "kernelspec": {
   "display_name": ".venv",
   "language": "python",
   "name": "python3"
  },
  "language_info": {
   "codemirror_mode": {
    "name": "ipython",
    "version": 3
   },
   "file_extension": ".py",
   "mimetype": "text/x-python",
   "name": "python",
   "nbconvert_exporter": "python",
   "pygments_lexer": "ipython3",
   "version": "3.12.7"
  }
 },
 "nbformat": 4,
 "nbformat_minor": 2
}
