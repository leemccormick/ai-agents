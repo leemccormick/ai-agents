{
 "cells": [
  {
   "cell_type": "markdown",
   "metadata": {},
   "source": [
    "# First Agentic AI workflow with OPENAI"
   ]
  },
  {
   "cell_type": "markdown",
   "metadata": {},
   "source": [
    "#### And please do remember to contact me if I can help\n",
    "\n",
    "And I love to connect: https://www.linkedin.com/in/muhammad-mudassar-a65645192/"
   ]
  },
  {
   "cell_type": "markdown",
   "metadata": {},
   "source": [
    "## Import Libraries"
   ]
  },
  {
   "cell_type": "code",
   "execution_count": 2,
   "metadata": {},
   "outputs": [],
   "source": [
    "import os\n",
    "import re\n",
    "from openai import OpenAI\n",
    "from dotenv import load_dotenv\n",
    "from IPython.display import Markdown, display"
   ]
  },
  {
   "cell_type": "code",
   "execution_count": 3,
   "metadata": {},
   "outputs": [
    {
     "data": {
      "text/plain": [
       "True"
      ]
     },
     "execution_count": 3,
     "metadata": {},
     "output_type": "execute_result"
    }
   ],
   "source": [
    "load_dotenv(override=True)"
   ]
  },
  {
   "cell_type": "code",
   "execution_count": 4,
   "metadata": {},
   "outputs": [
    {
     "name": "stdout",
     "output_type": "stream",
     "text": [
      "openai api key exists and begins sk-proj-\n"
     ]
    }
   ],
   "source": [
    "openai_api_key=os.getenv(\"OPENAI_API_KEY\")\n",
    "if openai_api_key:\n",
    "    print(f\"openai api key exists and begins {openai_api_key[:8]}\")\n",
    "else:\n",
    "    print(\"OpenAI API Key not set - please head to the troubleshooting guide in the gui\")"
   ]
  },
  {
   "cell_type": "markdown",
   "metadata": {},
   "source": [
    "## Workflow with OPENAI"
   ]
  },
  {
   "cell_type": "code",
   "execution_count": 5,
   "metadata": {},
   "outputs": [],
   "source": [
    "openai=OpenAI()"
   ]
  },
  {
   "cell_type": "code",
   "execution_count": 6,
   "metadata": {},
   "outputs": [],
   "source": [
    "message = [{'role':'user','content':\"what is 2+3?\"}]"
   ]
  },
  {
   "cell_type": "code",
   "execution_count": 7,
   "metadata": {},
   "outputs": [
    {
     "name": "stdout",
     "output_type": "stream",
     "text": [
      "2 + 3 equals 5.\n"
     ]
    }
   ],
   "source": [
    "response = openai.chat.completions.create(model=\"gpt-4o-mini\",messages=message)\n",
    "print(response.choices[0].message.content)"
   ]
  },
  {
   "cell_type": "code",
   "execution_count": 8,
   "metadata": {},
   "outputs": [],
   "source": [
    "question = \"Please propose a hard, challenging question to assess someone's IQ. Respond only with the question.\"\n",
    "message=[{'role':'user','content':question}]"
   ]
  },
  {
   "cell_type": "code",
   "execution_count": 9,
   "metadata": {},
   "outputs": [
    {
     "name": "stdout",
     "output_type": "stream",
     "text": [
      "Answer: If you have a 12-liter container that is filled with a mixture of water and alcohol in the ratio of 3:1, how many liters of alcohol will be in the mixture if you remove 3 liters of the mixture and then refill the container with 3 liters of pure water?\n"
     ]
    }
   ],
   "source": [
    "response=openai.chat.completions.create(model=\"gpt-4o-mini\",messages=message)\n",
    "question=response.choices[0].message.content\n",
    "print(f\"Answer: {question}\")"
   ]
  },
  {
   "cell_type": "code",
   "execution_count": 10,
   "metadata": {},
   "outputs": [],
   "source": [
    "message=[{'role':'user','content':question}]"
   ]
  },
  {
   "cell_type": "code",
   "execution_count": 11,
   "metadata": {},
   "outputs": [
    {
     "name": "stdout",
     "output_type": "stream",
     "text": [
      "Answer: To determine how many liters of alcohol are in the mixture after the process described, let's follow these steps:\n",
      "\n",
      "1. **Initial Mixture Ratio**:\n",
      "   The container has a total volume of 12 liters filled with water and alcohol in the ratio of 3:1. This means the total parts in the mixture is \\(3 + 1 = 4\\) parts.\n",
      "\n",
      "2. **Calculating Water and Alcohol Initial Volumes**:\n",
      "   - Water volume: \n",
      "   \\[\n",
      "   \\frac{3}{4} \\times 12 = 9 \\text{ liters}\n",
      "   \\]\n",
      "   - Alcohol volume:\n",
      "   \\[\n",
      "   \\frac{1}{4} \\times 12 = 3 \\text{ liters}\n",
      "   \\]\n",
      "\n",
      "3. **Removing 3 Liters of Mixture**:\n",
      "   When we remove 3 liters of the mixture, we maintain the same ratio of water to alcohol. In 3 liters of the mixture:\n",
      "   - Water removed:\n",
      "   \\[\n",
      "   \\frac{3}{4} \\times 3 = 2.25 \\text{ liters}\n",
      "   \\]\n",
      "   - Alcohol removed:\n",
      "   \\[\n",
      "   \\frac{1}{4} \\times 3 = 0.75 \\text{ liters}\n",
      "   \\]\n",
      "\n",
      "4. **Volumes After Removal**:\n",
      "   After removing 3 liters, the remaining volumes in the container are:\n",
      "   - Water left:\n",
      "   \\[\n",
      "   9 - 2.25 = 6.75 \\text{ liters}\n",
      "   \\]\n",
      "   - Alcohol left:\n",
      "   \\[\n",
      "   3 - 0.75 = 2.25 \\text{ liters}\n",
      "   \\]\n",
      "\n",
      "5. **Refilling with 3 Liters of Water**:\n",
      "   After refilling the container with 3 liters of pure water:\n",
      "   - New water volume:\n",
      "   \\[\n",
      "   6.75 + 3 = 9.75 \\text{ liters}\n",
      "   \\]\n",
      "   - Alcohol volume remains the same at 2.25 liters.\n",
      "\n",
      "6. **Final Result**:\n",
      "   The final volume of alcohol in the mixture is:\n",
      "   \\[\n",
      "   \\text{Alcohol} = 2.25 \\text{ liters}\n",
      "   \\]\n",
      "\n",
      "Therefore, the amount of alcohol in the mixture after all these steps is **2.25 liters**.\n"
     ]
    }
   ],
   "source": [
    "response=openai.chat.completions.create(model=\"gpt-4o-mini\",messages=message)\n",
    "answer = response.choices[0].message.content\n",
    "print(f\"Answer: {answer}\")"
   ]
  },
  {
   "cell_type": "code",
   "execution_count": 12,
   "metadata": {},
   "outputs": [
    {
     "data": {
      "text/markdown": [
       "To determine how many liters of alcohol are in the mixture after the process described, let's follow these steps:\n",
       "\n",
       "1. **Initial Mixture Ratio**:\n",
       "   The container has a total volume of 12 liters filled with water and alcohol in the ratio of 3:1. This means the total parts in the mixture is \\(3 + 1 = 4\\) parts.\n",
       "\n",
       "2. **Calculating Water and Alcohol Initial Volumes**:\n",
       "   - Water volume: \n",
       "   $$\n",
       "   \\frac{3}{4} \\times 12 = 9 \\text{ liters}\n",
       "   $$\n",
       "   - Alcohol volume:\n",
       "   $$\n",
       "   \\frac{1}{4} \\times 12 = 3 \\text{ liters}\n",
       "   $$\n",
       "\n",
       "3. **Removing 3 Liters of Mixture**:\n",
       "   When we remove 3 liters of the mixture, we maintain the same ratio of water to alcohol. In 3 liters of the mixture:\n",
       "   - Water removed:\n",
       "   $$\n",
       "   \\frac{3}{4} \\times 3 = 2.25 \\text{ liters}\n",
       "   $$\n",
       "   - Alcohol removed:\n",
       "   $$\n",
       "   \\frac{1}{4} \\times 3 = 0.75 \\text{ liters}\n",
       "   $$\n",
       "\n",
       "4. **Volumes After Removal**:\n",
       "   After removing 3 liters, the remaining volumes in the container are:\n",
       "   - Water left:\n",
       "   $$\n",
       "   9 - 2.25 = 6.75 \\text{ liters}\n",
       "   $$\n",
       "   - Alcohol left:\n",
       "   $$\n",
       "   3 - 0.75 = 2.25 \\text{ liters}\n",
       "   $$\n",
       "\n",
       "5. **Refilling with 3 Liters of Water**:\n",
       "   After refilling the container with 3 liters of pure water:\n",
       "   - New water volume:\n",
       "   $$\n",
       "   6.75 + 3 = 9.75 \\text{ liters}\n",
       "   $$\n",
       "   - Alcohol volume remains the same at 2.25 liters.\n",
       "\n",
       "6. **Final Result**:\n",
       "   The final volume of alcohol in the mixture is:\n",
       "   $$\n",
       "   \\text{Alcohol} = 2.25 \\text{ liters}\n",
       "   $$\n",
       "\n",
       "Therefore, the amount of alcohol in the mixture after all these steps is **2.25 liters**."
      ],
      "text/plain": [
       "<IPython.core.display.Markdown object>"
      ]
     },
     "metadata": {},
     "output_type": "display_data"
    }
   ],
   "source": [
    "# convert \\[ ... \\] to $$ ... $$, to properly render Latex\n",
    "converted_answer = re.sub(r'\\\\[\\[\\]]', '$$', answer)\n",
    "display(Markdown(converted_answer))"
   ]
  },
  {
   "cell_type": "markdown",
   "metadata": {},
   "source": [
    "## Exercise"
   ]
  },
  {
   "cell_type": "markdown",
   "metadata": {},
   "source": [
    "<table style=\"margin: 0; text-align: left; width:100%\">\n",
    "    <tr>\n",
    "        <td style=\"width: 150px; height: 150px; vertical-align: middle;\">\n",
    "            <img src=\"../../assets/exercise.png\" width=\"150\" height=\"150\" style=\"display: block;\" />\n",
    "        </td>\n",
    "        <td>\n",
    "            <span style=\"color:#ff7800;\">Now try this commercial application:<br/>\n",
    "            First ask the LLM to pick a business area that might be worth exploring for an Agentic AI opportunity.<br/>\n",
    "            Then ask the LLM to present a pain-point in that industry - something challenging that might be ripe for an Agentic solution.<br/>\n",
    "            Finally have 3 third LLM call propose the Agentic AI solution.\n",
    "            </span>\n",
    "        </td>\n",
    "    </tr>\n",
    "</table>"
   ]
  },
  {
   "cell_type": "code",
   "execution_count": 13,
   "metadata": {},
   "outputs": [],
   "source": [
    "message = [{'role':'user','content':\"give me a business area related to ecommerce that might be worth exploring for a agentic opportunity.\"}]"
   ]
  },
  {
   "cell_type": "code",
   "execution_count": 14,
   "metadata": {},
   "outputs": [
    {
     "data": {
      "text/plain": [
       "'One promising business area in the eCommerce sector worth exploring is **Social Commerce**. This involves leveraging social media platforms to facilitate eCommerce transactions directly through the platforms themselves. \\n\\n### Key Aspects to Explore:\\n\\n1. **Integrated Shopping Features**: Many social media platforms like Instagram, Facebook, and TikTok have introduced shopping features. Developing tools or services that enhance these features (like advanced analytics, better payment solutions, or AR try-on capabilities) could provide significant opportunities.\\n\\n2. **Content Creation and Branding**: Brands increasingly rely on influencers and user-generated content to build trust and engage customers. Offering services that connect brands with content creators or provide strategies for effective social media marketing can be lucrative.\\n\\n3. **Live Shopping Events**: Live streaming commerce is growing in popularity. Creating solutions or platforms that facilitate live shopping events, including features for interaction, payment integration, and analytics, can tap into this trend.\\n\\n4. **Niche Market Platforms**: Target specific consumer segments or interests (like eco-friendly products, handmade goods, etc.) through dedicated social commerce platforms. This specialization can create a loyal customer base and reduce competition.\\n\\n5. **Community Building**: Developing tools that help brands build communities on social platforms can enhance customer loyalty. Features could include forums, customer reviews, and interactive content that fosters engagement and repeat business.\\n\\n### Why It’s Worth Exploring:\\n\\n- **Increased Engagement**: Users on social platforms are more engaged, leading to higher conversion rates.\\n- **Growth Trend**: Social commerce sales are projected to grow, making it a timely opportunity.\\n- **Ease of Integration**: Many existing eCommerce businesses are looking for efficient ways to integrate social commerce into their strategies.\\n\\nBy exploring opportunities within this space, you can cater to the evolving preferences of consumers and capitalize on the booming intersection of social media and online shopping.'"
      ]
     },
     "execution_count": 14,
     "metadata": {},
     "output_type": "execute_result"
    }
   ],
   "source": [
    "response = openai.chat.completions.create(model=\"gpt-4o-mini\",messages=message)\n",
    "business_area = response.choices[0].message.content\n",
    "business_area"
   ]
  },
  {
   "cell_type": "code",
   "execution_count": 15,
   "metadata": {},
   "outputs": [
    {
     "data": {
      "text/plain": [
       "'One promising business area in the eCommerce sector worth exploring is **Social Commerce**. This involves leveraging social media platforms to facilitate eCommerce transactions directly through the platforms themselves. \\n\\n### Key Aspects to Explore:\\n\\n1. **Integrated Shopping Features**: Many social media platforms like Instagram, Facebook, and TikTok have introduced shopping features. Developing tools or services that enhance these features (like advanced analytics, better payment solutions, or AR try-on capabilities) could provide significant opportunities.\\n\\n2. **Content Creation and Branding**: Brands increasingly rely on influencers and user-generated content to build trust and engage customers. Offering services that connect brands with content creators or provide strategies for effective social media marketing can be lucrative.\\n\\n3. **Live Shopping Events**: Live streaming commerce is growing in popularity. Creating solutions or platforms that facilitate live shopping events, including features for interaction, payment integration, and analytics, can tap into this trend.\\n\\n4. **Niche Market Platforms**: Target specific consumer segments or interests (like eco-friendly products, handmade goods, etc.) through dedicated social commerce platforms. This specialization can create a loyal customer base and reduce competition.\\n\\n5. **Community Building**: Developing tools that help brands build communities on social platforms can enhance customer loyalty. Features could include forums, customer reviews, and interactive content that fosters engagement and repeat business.\\n\\n### Why It’s Worth Exploring:\\n\\n- **Increased Engagement**: Users on social platforms are more engaged, leading to higher conversion rates.\\n- **Growth Trend**: Social commerce sales are projected to grow, making it a timely opportunity.\\n- **Ease of Integration**: Many existing eCommerce businesses are looking for efficient ways to integrate social commerce into their strategies.\\n\\nBy exploring opportunities within this space, you can cater to the evolving preferences of consumers and capitalize on the booming intersection of social media and online shopping.present a pain-point in that industry - something challenging that might be ripe for an agentic solutions.'"
      ]
     },
     "execution_count": 15,
     "metadata": {},
     "output_type": "execute_result"
    }
   ],
   "source": [
    "message = business_area + \"present a pain-point in that industry - something challenging that might be ripe for an agentic solutions.\"\n",
    "message"
   ]
  },
  {
   "cell_type": "code",
   "execution_count": 16,
   "metadata": {},
   "outputs": [
    {
     "data": {
      "text/plain": [
       "\"Certainly! One substantial pain point in the social commerce industry that presents an opportunity for innovative solutions is **cart abandonment and checkout friction** during social commerce transactions. \\n\\n### Pain Point: Cart Abandonment and Checkout Friction\\n\\n#### Overview:\\nAs social commerce continues to grow, many users encounter barriers when transitioning from browsing and engagement to actually completing a purchase. This can lead to high cart abandonment rates, which is a significant challenge for brands relying on social platforms to drive sales. Factors contributing to this issue include:\\n\\n1. **Complicated Checkout Processes**: Users may face lengthy or confusing checkout procedures that don't align with the quick, seamless experiences they're accustomed to on social media.\\n  \\n2. **Lack of Payment Options**: Social platforms may not support a wide range of payment methods, which can frustrate users who prefer specific payment options (e.g., digital wallets, buy-now-pay-later, etc.).\\n\\n3. **Inadequate Security and Trust Signals**: Users are often apprehensive about the security of transactions made via social media, especially given concerns over personal data privacy and unauthorized transactions. If trust signals are lacking, this can deter potential buyers.\\n\\n4. **Poor Mobile Optimization**: Many social commerce transactions happen on mobile devices. If the experience isn't optimized for mobile—whether through the social platform or the eCommerce site—users might abandon their carts due to slow loading times or challenging navigation.\\n\\n5. **Limited Product Information**: Users might want to learn more about a product before purchasing. If product descriptions, reviews, or user-generated content are lacking or hard to find, it can lead to hesitation in completing a purchase.\\n\\n### Opportunities for Agentic Solutions:\\n\\n1. **Streamlined Checkout Solutions**: Developing solutions that enhance the checkout experience by simplifying processes, reducing the number of steps required to complete a purchase, or employing one-click checkout options.\\n\\n2. **Multi-Payment Integration**: Creating platforms or plugins that support various payment methods tailored to the preferences of users, including local payment solutions that resonate with different demographics.\\n\\n3. **Trust-Building Features**: Establishing systems that provide trust signals during checkout, such as clear security seals, customer reviews, and transparent return policies, can bolster confidence in transactions.\\n\\n4. **Mobile-First Solutions**: Focusing on mobile optimization techniques could enhance user experience during shopping. This could include responsive design, fast loading times, and easy navigation that aligns with social media browsing habits.\\n\\n5. **Enhanced Product Discovery Tools**: Building tools that allow brands to showcase engaging content such as videos, user reviews, AR features for product trials, or interactive product guides can enrich the shopping experience and help mitigate buyer hesitation.\\n\\n### Conclusion:\\nBy addressing the pain point of cart abandonment and checkout friction, entrepreneurs and businesses can not only improve the conversion rates of brands using social commerce but also create a better consumer experience. This could lead to higher sales, increased customer loyalty, and a more streamlined integration of eCommerce within social media platforms. The ongoing evolution of social commerce signifies a ripe opportunity for innovative solutions that respond effectively to these challenges.\""
      ]
     },
     "execution_count": 16,
     "metadata": {},
     "output_type": "execute_result"
    }
   ],
   "source": [
    "message = [{'role': 'user', 'content': message}]\n",
    "response = openai.chat.completions.create(model=\"gpt-4o-mini\",messages=message)\n",
    "question=response.choices[0].message.content\n",
    "question"
   ]
  },
  {
   "cell_type": "code",
   "execution_count": 17,
   "metadata": {},
   "outputs": [
    {
     "name": "stdout",
     "output_type": "stream",
     "text": [
      "### Pain Point: Cart Abandonment and Checkout Friction in Social Commerce \n",
      "\n",
      "#### Overview:\n",
      "As the social commerce landscape expands, consumers frequently encounter barriers that hinder their path from browsing to completing a purchase. This results in high cart abandonment rates, which presents a significant hurdle for brands leveraging social media to boost sales. Key contributors to this challenge include:\n",
      "\n",
      "1. **Complicated Checkout Processes**: Users often face lengthy or convoluted checkout steps that contradict the fast and fluid shopping experiences they expect on social media.\n",
      "  \n",
      "2. **Limited Payment Options**: Many social platforms lack integration with a diverse range of payment methods, presenting frustration for users who have specific preferences (e.g., digital wallets, buy-now-pay-later options).\n",
      "\n",
      "3. **Insufficient Security and Trust Signals**: Concerns over data privacy and fraudulent transactions can make users wary of purchasing through social media. A lack of visible trust signals can further discourage them.\n",
      "\n",
      "4. **Subpar Mobile Optimization**: Since a significant portion of social commerce transactions occur on mobile devices, poor mobile user experience due to slow loading times, clunky navigation, and unresponsive designs can lead to cart abandonment.\n",
      "\n",
      "5. **Inadequate Product Information**: Users often desire comprehensive details before making a purchase. If product descriptions, buyer reviews, or user-generated content are sparse or difficult to find, potential buyers may hesitate to finalize their purchase.\n",
      "\n",
      "### Opportunities for Innovative Solutions:\n",
      "\n",
      "1. **Streamlined Checkout Solutions**: Develop integrated systems that simplify the checkout process, possibly including one-click purchasing options or single-page checkouts that minimize the steps required to complete transactions.\n",
      "\n",
      "2. **Diverse Payment Integration**: Create tools or platforms that support various payment methods customized to user demographics, including local options that resonate with specific markets, thus accommodating a wider customer base.\n",
      "\n",
      "3. **Enhanced Trust-Building Features**: Introduce visual feedback mechanisms like security seals, clear descriptions of return policies, and easily accessible customer reviews to reinforce user confidence during transactions.\n",
      "\n",
      "4. **Mobile-First Solutions**: Optimize the shopping experience specifically for mobile users by employing responsive design, ensuring fast loading speeds, and providing intuitive navigation that mirrors the usage patterns found on social media.\n",
      "\n",
      "5. **Improved Product Discovery Tools**: Innovate interactive features that enable brands to showcase products more effectively. This could involve augmented reality experiences, engaging video content, and comprehensive user reviews to facilitate informed buying decisions.\n",
      "\n",
      "### Conclusion:\n",
      "By addressing the critical pain points associated with cart abandonment and checkout friction, businesses and entrepreneurs can significantly enhance conversion rates for brands engaged in social commerce. Improving the overall consumer experience not only drives higher sales but also fosters customer loyalty and strives for a seamless integration of eCommerce within social media environments. The ongoing growth of social commerce underscores a prime opportunity for the development of innovative solutions that tackle these prevalent challenges effectively.\n"
     ]
    }
   ],
   "source": [
    "message=[{'role':'user','content':question}]\n",
    "response=openai.chat.completions.create(model=\"gpt-4o-mini\",messages=message)\n",
    "answer=response.choices[0].message.content\n",
    "print(answer)"
   ]
  },
  {
   "cell_type": "code",
   "execution_count": 18,
   "metadata": {},
   "outputs": [
    {
     "data": {
      "text/markdown": [
       "### Pain Point: Cart Abandonment and Checkout Friction in Social Commerce \n",
       "\n",
       "#### Overview:\n",
       "As the social commerce landscape expands, consumers frequently encounter barriers that hinder their path from browsing to completing a purchase. This results in high cart abandonment rates, which presents a significant hurdle for brands leveraging social media to boost sales. Key contributors to this challenge include:\n",
       "\n",
       "1. **Complicated Checkout Processes**: Users often face lengthy or convoluted checkout steps that contradict the fast and fluid shopping experiences they expect on social media.\n",
       "  \n",
       "2. **Limited Payment Options**: Many social platforms lack integration with a diverse range of payment methods, presenting frustration for users who have specific preferences (e.g., digital wallets, buy-now-pay-later options).\n",
       "\n",
       "3. **Insufficient Security and Trust Signals**: Concerns over data privacy and fraudulent transactions can make users wary of purchasing through social media. A lack of visible trust signals can further discourage them.\n",
       "\n",
       "4. **Subpar Mobile Optimization**: Since a significant portion of social commerce transactions occur on mobile devices, poor mobile user experience due to slow loading times, clunky navigation, and unresponsive designs can lead to cart abandonment.\n",
       "\n",
       "5. **Inadequate Product Information**: Users often desire comprehensive details before making a purchase. If product descriptions, buyer reviews, or user-generated content are sparse or difficult to find, potential buyers may hesitate to finalize their purchase.\n",
       "\n",
       "### Opportunities for Innovative Solutions:\n",
       "\n",
       "1. **Streamlined Checkout Solutions**: Develop integrated systems that simplify the checkout process, possibly including one-click purchasing options or single-page checkouts that minimize the steps required to complete transactions.\n",
       "\n",
       "2. **Diverse Payment Integration**: Create tools or platforms that support various payment methods customized to user demographics, including local options that resonate with specific markets, thus accommodating a wider customer base.\n",
       "\n",
       "3. **Enhanced Trust-Building Features**: Introduce visual feedback mechanisms like security seals, clear descriptions of return policies, and easily accessible customer reviews to reinforce user confidence during transactions.\n",
       "\n",
       "4. **Mobile-First Solutions**: Optimize the shopping experience specifically for mobile users by employing responsive design, ensuring fast loading speeds, and providing intuitive navigation that mirrors the usage patterns found on social media.\n",
       "\n",
       "5. **Improved Product Discovery Tools**: Innovate interactive features that enable brands to showcase products more effectively. This could involve augmented reality experiences, engaging video content, and comprehensive user reviews to facilitate informed buying decisions.\n",
       "\n",
       "### Conclusion:\n",
       "By addressing the critical pain points associated with cart abandonment and checkout friction, businesses and entrepreneurs can significantly enhance conversion rates for brands engaged in social commerce. Improving the overall consumer experience not only drives higher sales but also fosters customer loyalty and strives for a seamless integration of eCommerce within social media environments. The ongoing growth of social commerce underscores a prime opportunity for the development of innovative solutions that tackle these prevalent challenges effectively."
      ],
      "text/plain": [
       "<IPython.core.display.Markdown object>"
      ]
     },
     "metadata": {},
     "output_type": "display_data"
    }
   ],
   "source": [
    "display(Markdown(answer))"
   ]
  }
 ],
 "metadata": {
  "kernelspec": {
   "display_name": ".venv",
   "language": "python",
   "name": "python3"
  },
  "language_info": {
   "codemirror_mode": {
    "name": "ipython",
    "version": 3
   },
   "file_extension": ".py",
   "mimetype": "text/x-python",
   "name": "python",
   "nbconvert_exporter": "python",
   "pygments_lexer": "ipython3",
   "version": "3.12.5"
  }
 },
 "nbformat": 4,
 "nbformat_minor": 2
}
