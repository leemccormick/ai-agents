{
 "cells": [
  {
   "cell_type": "code",
   "execution_count": 1,
   "metadata": {},
   "outputs": [],
   "source": [
    "import os\n",
    "import json\n",
    "from dotenv import load_dotenv\n",
    "from openai import OpenAI\n",
    "from IPython.display import Markdown"
   ]
  },
  {
   "cell_type": "markdown",
   "metadata": {},
   "source": [
    "### Refresh dot env"
   ]
  },
  {
   "cell_type": "code",
   "execution_count": 2,
   "metadata": {},
   "outputs": [
    {
     "data": {
      "text/plain": [
       "True"
      ]
     },
     "execution_count": 2,
     "metadata": {},
     "output_type": "execute_result"
    }
   ],
   "source": [
    "load_dotenv(override=True)"
   ]
  },
  {
   "cell_type": "code",
   "execution_count": 3,
   "metadata": {},
   "outputs": [],
   "source": [
    "open_api_key = os.getenv(\"OPENAI_API_KEY\")\n",
    "google_api_key = os.getenv(\"GOOGLE_API_KEY\")"
   ]
  },
  {
   "cell_type": "markdown",
   "metadata": {},
   "source": [
    "### Create initial query to get challange reccomendation"
   ]
  },
  {
   "cell_type": "code",
   "execution_count": 4,
   "metadata": {},
   "outputs": [],
   "source": [
    "query = 'Please come up with a challenging, nuanced question that I can ask a number of LLMs to evaluate their intelligence. '\n",
    "query += 'Answer only with the question, no explanation.'\n",
    "\n",
    "messages = [{'role':'user', 'content':query}]"
   ]
  },
  {
   "cell_type": "code",
   "execution_count": 5,
   "metadata": {},
   "outputs": [
    {
     "name": "stdout",
     "output_type": "stream",
     "text": [
      "[{'role': 'user', 'content': 'Please come up with a challenging, nuanced question that I can ask a number of LLMs to evaluate their intelligence. Answer only with the question, no explanation.'}]\n"
     ]
    }
   ],
   "source": [
    "print(messages)"
   ]
  },
  {
   "cell_type": "markdown",
   "metadata": {},
   "source": [
    "### Call openai gpt-4o-mini "
   ]
  },
  {
   "cell_type": "code",
   "execution_count": 6,
   "metadata": {},
   "outputs": [],
   "source": [
    "openai = OpenAI()\n",
    "\n",
    "response = openai.chat.completions.create(\n",
    "    messages=messages,\n",
    "    model='gpt-4o-mini'\n",
    ")\n",
    "\n",
    "challange = response.choices[0].message.content\n"
   ]
  },
  {
   "cell_type": "code",
   "execution_count": 7,
   "metadata": {},
   "outputs": [
    {
     "name": "stdout",
     "output_type": "stream",
     "text": [
      "How would you approach resolving a complex ethical dilemma that involves competing rights, where the interests of one marginalized group conflict with those of another, and what framework would you use to justify your decision?\n"
     ]
    }
   ],
   "source": [
    "print(challange)"
   ]
  },
  {
   "cell_type": "code",
   "execution_count": 8,
   "metadata": {},
   "outputs": [],
   "source": [
    "competitors = []\n",
    "answers = []"
   ]
  },
  {
   "cell_type": "markdown",
   "metadata": {},
   "source": [
    "### Create messages with the challange query"
   ]
  },
  {
   "cell_type": "code",
   "execution_count": 9,
   "metadata": {},
   "outputs": [],
   "source": [
    "messages = [{'role':'user', 'content':challange}]"
   ]
  },
  {
   "cell_type": "code",
   "execution_count": 10,
   "metadata": {},
   "outputs": [
    {
     "name": "stdout",
     "output_type": "stream",
     "text": [
      "[{'role': 'user', 'content': 'How would you approach resolving a complex ethical dilemma that involves competing rights, where the interests of one marginalized group conflict with those of another, and what framework would you use to justify your decision?'}]\n"
     ]
    }
   ],
   "source": [
    "print(messages)"
   ]
  },
  {
   "cell_type": "code",
   "execution_count": 11,
   "metadata": {},
   "outputs": [
    {
     "name": "stdout",
     "output_type": "stream",
     "text": [
      "\u001b[?2026h\u001b[?25l\u001b[1Gpulling manifest ⠋ \u001b[K\u001b[?25h\u001b[?2026l\u001b[?2026h\u001b[?25l\u001b[1Gpulling manifest ⠙ \u001b[K\u001b[?25h\u001b[?2026l\u001b[?2026h\u001b[?25l\u001b[1Gpulling manifest ⠹ \u001b[K\u001b[?25h\u001b[?2026l\u001b[?2026h\u001b[?25l\u001b[1Gpulling manifest ⠸ \u001b[K\u001b[?25h\u001b[?2026l\u001b[?2026h\u001b[?25l\u001b[1Gpulling manifest \u001b[K\n",
      "pulling dde5aa3fc5ff: 100% ▕██████████████████▏ 2.0 GB                         \u001b[K\n",
      "pulling 966de95ca8a6: 100% ▕██████████████████▏ 1.4 KB                         \u001b[K\n",
      "pulling fcc5a6bec9da: 100% ▕██████████████████▏ 7.7 KB                         \u001b[K\n",
      "pulling a70ff7e570d9: 100% ▕██████████████████▏ 6.0 KB                         \u001b[K\n",
      "pulling 56bb8bd477a5: 100% ▕██████████████████▏   96 B                         \u001b[K\n",
      "pulling 34bb5ab01051: 100% ▕██████████████████▏  561 B                         \u001b[K\n",
      "verifying sha256 digest \u001b[K\n",
      "writing manifest \u001b[K\n",
      "success \u001b[K\u001b[?25h\u001b[?2026l\n"
     ]
    }
   ],
   "source": [
    "!ollama pull llama3.2"
   ]
  },
  {
   "cell_type": "code",
   "execution_count": 12,
   "metadata": {},
   "outputs": [],
   "source": [
    "from threading import Thread"
   ]
  },
  {
   "cell_type": "code",
   "execution_count": 13,
   "metadata": {},
   "outputs": [],
   "source": [
    "def gpt_mini_processor():\n",
    "    modleName = 'gpt-4o-mini'\n",
    "    competitors.append(modleName)\n",
    "    response_gpt = openai.chat.completions.create(\n",
    "        messages=messages,\n",
    "        model=modleName\n",
    "    )\n",
    "    answers.append(response_gpt.choices[0].message.content)\n",
    "\n",
    "def gemini_processor():\n",
    "    gemini = OpenAI(api_key=google_api_key, base_url='https://generativelanguage.googleapis.com/v1beta/openai/')\n",
    "    modleName = 'gemini-2.0-flash'\n",
    "    competitors.append(modleName)\n",
    "    response_gemini = gemini.chat.completions.create(\n",
    "        messages=messages,\n",
    "        model=modleName\n",
    "    )\n",
    "    answers.append(response_gemini.choices[0].message.content)\n",
    "\n",
    "def llama_processor():\n",
    "    ollama = OpenAI(base_url='http://localhost:11434/v1', api_key='ollama')\n",
    "    modleName = 'llama3.2'\n",
    "    competitors.append(modleName)\n",
    "    response_llama = ollama.chat.completions.create(\n",
    "        messages=messages,\n",
    "        model=modleName\n",
    "    )\n",
    "    answers.append(response_llama.choices[0].message.content)"
   ]
  },
  {
   "cell_type": "markdown",
   "metadata": {},
   "source": [
    "### Paraller execution of LLM calls"
   ]
  },
  {
   "cell_type": "code",
   "execution_count": 14,
   "metadata": {},
   "outputs": [],
   "source": [
    "thread1 = Thread(target=gpt_mini_processor)\n",
    "thread2 = Thread(target=gemini_processor)\n",
    "thread3 = Thread(target=llama_processor)\n",
    "\n",
    "thread1.start()\n",
    "thread2.start()\n",
    "thread3.start()\n",
    "\n",
    "thread1.join()\n",
    "thread2.join()\n",
    "thread3.join()"
   ]
  },
  {
   "cell_type": "code",
   "execution_count": 15,
   "metadata": {},
   "outputs": [
    {
     "name": "stdout",
     "output_type": "stream",
     "text": [
      "['gpt-4o-mini', 'gemini-2.0-flash', 'llama3.2']\n",
      "[\"Resolving a complex ethical dilemma that involves competing rights, particularly when it involves marginalized groups, requires a careful and nuanced approach. Here’s a structured way to approach such dilemmas:\\n\\n### 1. **Identify the Stakeholders:**\\n   - Clearly define all parties involved. Understand who the marginalized groups are and their specific interests and rights.\\n   - Recognize any overlapping identities that might complicate the situation, such as intersections of race, gender, socioeconomic status, etc.\\n\\n### 2. **Gather Information:**\\n   - Collect relevant data, historical context, and any existing policies or laws that pertain to the situation.\\n   - Understand the perspectives of both sides, including the historical grievances and rights claims of both marginalized groups.\\n\\n### 3. **Clarify the Ethical Principles Involved:**\\n   - Identify the key ethical principles at play such as justice, equity, autonomy, harm reduction, and fairness. \\n   - Examine how these principles apply to each group's situation.\\n\\n### 4. **Utilize a Framework for Ethical Decision-Making:**\\n   Different frameworks may include:\\n\\n   - **Utilitarianism:** Analyze the outcomes for both groups and seek to maximize overall benefit while minimizing harm. This approach may help prioritize actions that benefit the most people overall.\\n   \\n   - **Rights-Based Approach:** Focus on the rights of each group as enshrined in laws and ethical principles. Determine if one group’s rights are legally or morally more salient in this context.\\n   \\n   - **Capabilities Approach:** Evaluate the ability of each group to pursue their interests and the impact of the decision on their potential to flourish.\\n   \\n   - **Principle of Nonmaleficence and Beneficence:** Ensure that your actions do not intentionally cause harm and strive to provide benefits to both groups in a way that respects their dignity.\\n\\n### 5. **Engage the Communities:**\\n   - Facilitate dialogues with both groups. Listening to their concerns and values is crucial in understanding the depth of the dilemma.\\n   - Encourage participatory processes where both groups can express their needs and work towards a collaborative solution.\\n\\n### 6. **Explore Compromise and Alternatives:**\\n   - Look for possible compromises that could address the main concerns of both groups without fully sidelining one group. \\n   - Brainstorm alternative solutions that might accommodate the interests of both groups simultaneously or create a phased approach to resolving the dilemma.\\n\\n### 7. **Reflect on Long-term Implications:**\\n   - Consider how your decision will affect relationships between the groups involved and the broader community in the long run.\\n   - Evaluate the potential for precedent-setting outcomes that could influence future cases or conflicts.\\n\\n### 8. **Make a Decision and Justify it:**\\n   - After analyzing the situation from multiple angles, make a decision that you believe is ethical and justifiable.\\n   - Articulate the reasons for your decision clearly, citing the ethical framework used and how it addresses the core issues.\\n\\n### 9. **Evaluate and Adapt:**\\n   - After implementing your decision, closely monitor the impacts on both groups. Be open to feedback and ready to adapt your approach if needed. Accountability and transparency in the process are crucial.\\n\\n### Conclusion:\\nUltimately, a complex ethical dilemma involving competing rights requires balancing respect and dignity for all parties, seeking to understand their narratives, and navigating the dilemma with a commitment to equity and justice. By employing a thoughtful and participatory approach, you can work towards a resolution that aims to honor the rights and needs of both marginalized groups.\", 'Resolving a complex ethical dilemma involving competing rights between marginalized groups requires a thoughtful and nuanced approach that prioritizes harm reduction, justice, and the affirmation of human dignity. Here\\'s how I would approach such a situation, along with the frameworks I\\'d use to justify my decision:\\n\\n**1. Understanding and Defining the Dilemma:**\\n\\n*   **Identify the Stakeholders:** Clearly define all individuals and groups involved, including the specific marginalized groups and any institutions or policies implicated.\\n*   **Articulate the Rights in Conflict:**  Carefully articulate the specific rights at stake for each group. What fundamental freedoms, protections, or entitlements are threatened or being compromised?  This often involves going beyond surface-level claims to understand the underlying needs and vulnerabilities.\\n*   **Gather Information:**  Thoroughly research the context, including historical injustices, relevant laws, social norms, and the specific experiences of the individuals and groups involved.  This requires listening to and amplifying the voices of those most affected.  Don\\'t rely on assumptions or stereotypes.\\n\\n**2.  Ethical Frameworks and Principles:**\\n\\nI would draw upon several ethical frameworks and principles to guide my decision-making:\\n\\n*   **Rights-Based Ethics (Deontology):**\\n    *   **Focus:** Identifying and upholding fundamental rights and duties.\\n    *   **Application:** Analyze which rights are being prioritized and which are being infringed.  Consider the inherent dignity of all individuals and whether the proposed solution respects that dignity.\\n    *   **Limitation:** Can be challenging when rights conflict directly.  Requires prioritizing rights, which can be difficult and subjective.\\n*   **Utilitarianism (Consequentialism):**\\n    *   **Focus:** Maximizing overall well-being and minimizing harm for the greatest number of people.\\n    *   **Application:**  Assess the potential consequences of each course of action, considering both positive and negative impacts on all stakeholders, especially the marginalized groups.  Quantify (as ethically possible) the benefits and harms.\\n    *   **Limitation:** Can potentially justify sacrificing the rights or well-being of a minority group for the benefit of the majority.  Requires careful attention to issues of distributive justice to avoid disproportionate burdens on already vulnerable populations.\\n*   **Justice as Fairness (Rawlsian Ethics):**\\n    *   **Focus:** Ensuring fairness and equity, particularly for the least advantaged members of society.\\n    *   **Application:**  Consider the \"veil of ignorance\" – imagine you are designing a society without knowing your own social position or advantages. What principles would you choose to ensure a just outcome for everyone, including the marginalized groups?  Prioritize policies that benefit the least well-off.\\n    *   **Limitation:** Can be difficult to implement in practice, as it requires a significant redistribution of resources and power.\\n*   **Care Ethics:**\\n    *   **Focus:** Emphasizing relationships, empathy, and the responsibility to care for others, especially the vulnerable.\\n    *   **Application:**  Consider the impact of each decision on the relationships between the groups and individuals involved.  Prioritize solutions that promote healing, reconciliation, and mutual support.  Focus on the lived experiences of those affected.\\n    *   **Limitation:** Can be seen as subjective and potentially biased towards personal relationships or specific groups. Requires careful consideration of the broader societal context and systemic inequalities.\\n*   **Intersectionality:**\\n    *   **Focus:** Recognizing that individuals often experience multiple forms of oppression and discrimination based on overlapping social identities (e.g., race, gender, sexual orientation, disability).\\n    *   **Application:** Analyze how the ethical dilemma affects individuals with intersecting marginalized identities.  Avoid making generalizations about entire groups. Consider how the proposed solution might inadvertently exacerbate existing inequalities.\\n\\n**3.  Decision-Making Process:**\\n\\n*   **Consultation and Collaboration:**  Engage in open and honest dialogue with representatives from all affected groups.  Listen to their concerns, perspectives, and proposed solutions.  Consider using a facilitated dialogue process to ensure that all voices are heard and respected.  Prioritize the voices of those most directly impacted.\\n*   **Identify Options:** Generate a range of possible solutions, including compromise solutions and creative alternatives. Don\\'t limit yourself to the most obvious choices.\\n*   **Analyze Options:** Evaluate each option based on the ethical frameworks and principles outlined above.  Consider the potential consequences, the impact on rights, the fairness of the outcome, and the effect on relationships.\\n*   **Prioritization and Justification:** Choose the option that best balances the competing rights and interests, minimizes harm, promotes justice, and upholds the dignity of all individuals.  Be prepared to justify your decision based on the ethical principles and frameworks you have used.  Explain why you prioritized certain rights or interests over others.\\n*   **Mitigation and Compensation:**  Even with the best possible solution, some harm may still occur.  Identify ways to mitigate the negative consequences and compensate those who are adversely affected.  This could involve providing resources, support services, or opportunities for redress.\\n*   **Transparency and Accountability:**  Be transparent about the decision-making process and the reasons for your decision.  Establish mechanisms for accountability to ensure that the chosen solution is implemented effectively and that its impact is monitored.\\n*   **Continuous Learning and Adaptation:** Recognize that the ethical landscape is constantly evolving.  Be open to learning from your experiences and adapting your approach as needed.  Solicit feedback from stakeholders and use it to improve your decision-making process.\\n\\n**Example Scenario:**\\n\\nImagine a situation where a LGBTQ+ organization is advocating for a new anti-discrimination law that includes gender identity. However, some feminist groups argue that the law\\'s definition of gender identity could potentially erode protections for cisgender women, particularly in spaces like women\\'s shelters or sports.\\n\\n**How I\\'d Approach It:**\\n\\n1.  **Identify Stakeholders:** LGBTQ+ community (especially transgender individuals), cisgender women, women\\'s shelters, sports organizations, legislators.\\n2.  **Rights in Conflict:** Transgender individuals\\' right to non-discrimination vs. cisgender women\\'s right to safety and privacy.\\n3.  **Frameworks:**\\n    *   **Rights-based:**  Weigh the right to non-discrimination based on gender identity against the right to privacy and safety based on sex.\\n    *   **Utilitarian:**  Consider the overall impact on both groups.  Would the law significantly improve the lives of transgender individuals while negligibly affecting cisgender women, or would it create substantial harm or fear?\\n    *   **Justice as Fairness:**  Would the law disproportionately benefit one group at the expense of the other? How can we ensure the least advantaged (potentially trans women experiencing violence) are protected?\\n    *   **Care Ethics:**  How can we foster understanding and empathy between the groups to reduce fear and prejudice?\\n    *   **Intersectionality:** Recognize that some individuals are both women and transgender, and their experiences must be considered.\\n4.  **Process:**\\n    *   Facilitate dialogue between the LGBTQ+ organization and the feminist groups to understand their concerns and find common ground.\\n    *   Consult with experts in law, gender studies, and social work to develop language that protects both groups.\\n    *   Explore options like creating specific exceptions for certain spaces (e.g., women\\'s shelters) while maintaining broad non-discrimination protections.\\n5.  **Justification:**\\n    *   A decision might prioritize the non-discrimination law with specific carve-outs for spaces where safety and privacy are paramount, based on evidence of actual risks (rather than hypothetical ones). This would be justified by balancing the fundamental right to non-discrimination with the legitimate concerns of cisgender women.  Ongoing monitoring and evaluation would be necessary to ensure the carve-outs are not used to broadly discriminate against transgender individuals.\\n    *   The justification would need to be clearly articulated, transparent, and based on the best available evidence.\\n\\n**Key Considerations Throughout:**\\n\\n*   **Power Dynamics:** Acknowledge and address power imbalances between the groups involved. Ensure that marginalized voices are amplified and that the decision-making process is not dominated by more privileged groups.\\n*   **Evidence-Based Decision-Making:** Rely on data, research, and expert opinions to inform your decisions. Avoid making assumptions or relying on stereotypes.\\n*   **Humility and Openness:** Acknowledge that there are no easy answers to complex ethical dilemmas. Be open to changing your mind as you learn more and as the situation evolves.\\n\\nThis approach, while detailed, provides a framework for navigating intensely challenging ethical situations with compassion, critical thinking, and a commitment to justice for all.\\n', \"Resolving complex ethical dilemmas involving competing rights requires careful consideration of the principles and values at stake. Here's an approach to help navigate such scenarios:\\n\\n1. **Acknowledge the complexity**: Recognize that competing interests often exist in real-world situations, and it's essential to acknowledge these differences rather than assuming a clear right or wrong perspective.\\n2. **Identify key stakeholders**: Clearly define who is affected by the situation, including those whose rights are at stake and their interests. This can include individuals, groups, organizations, or institutions.\\n3. **Gather relevant information**: Collect data, evidence, and expert opinions to better understand the issues involved. This helps identify the specific rights and claims of all stakeholders.\\n4. **Explain competing values and principles**: Recognize and analyze the fundamental values, norms, and principles driving each stakeholder's claim. These might include human rights, dignity, autonomy, fairness, or social justice.\\n\\nNow let me help you with an example\"]\n"
     ]
    }
   ],
   "source": [
    "print(competitors)\n",
    "print(answers)"
   ]
  },
  {
   "cell_type": "code",
   "execution_count": 16,
   "metadata": {},
   "outputs": [
    {
     "name": "stdout",
     "output_type": "stream",
     "text": [
      "Competitor:gpt-4o-mini\n",
      "\n",
      "Resolving a complex ethical dilemma that involves competing rights, particularly when it involves marginalized groups, requires a careful and nuanced approach. Here’s a structured way to approach such dilemmas:\n",
      "\n",
      "### 1. **Identify the Stakeholders:**\n",
      "   - Clearly define all parties involved. Understand who the marginalized groups are and their specific interests and rights.\n",
      "   - Recognize any overlapping identities that might complicate the situation, such as intersections of race, gender, socioeconomic status, etc.\n",
      "\n",
      "### 2. **Gather Information:**\n",
      "   - Collect relevant data, historical context, and any existing policies or laws that pertain to the situation.\n",
      "   - Understand the perspectives of both sides, including the historical grievances and rights claims of both marginalized groups.\n",
      "\n",
      "### 3. **Clarify the Ethical Principles Involved:**\n",
      "   - Identify the key ethical principles at play such as justice, equity, autonomy, harm reduction, and fairness. \n",
      "   - Examine how these principles apply to each group's situation.\n",
      "\n",
      "### 4. **Utilize a Framework for Ethical Decision-Making:**\n",
      "   Different frameworks may include:\n",
      "\n",
      "   - **Utilitarianism:** Analyze the outcomes for both groups and seek to maximize overall benefit while minimizing harm. This approach may help prioritize actions that benefit the most people overall.\n",
      "   \n",
      "   - **Rights-Based Approach:** Focus on the rights of each group as enshrined in laws and ethical principles. Determine if one group’s rights are legally or morally more salient in this context.\n",
      "   \n",
      "   - **Capabilities Approach:** Evaluate the ability of each group to pursue their interests and the impact of the decision on their potential to flourish.\n",
      "   \n",
      "   - **Principle of Nonmaleficence and Beneficence:** Ensure that your actions do not intentionally cause harm and strive to provide benefits to both groups in a way that respects their dignity.\n",
      "\n",
      "### 5. **Engage the Communities:**\n",
      "   - Facilitate dialogues with both groups. Listening to their concerns and values is crucial in understanding the depth of the dilemma.\n",
      "   - Encourage participatory processes where both groups can express their needs and work towards a collaborative solution.\n",
      "\n",
      "### 6. **Explore Compromise and Alternatives:**\n",
      "   - Look for possible compromises that could address the main concerns of both groups without fully sidelining one group. \n",
      "   - Brainstorm alternative solutions that might accommodate the interests of both groups simultaneously or create a phased approach to resolving the dilemma.\n",
      "\n",
      "### 7. **Reflect on Long-term Implications:**\n",
      "   - Consider how your decision will affect relationships between the groups involved and the broader community in the long run.\n",
      "   - Evaluate the potential for precedent-setting outcomes that could influence future cases or conflicts.\n",
      "\n",
      "### 8. **Make a Decision and Justify it:**\n",
      "   - After analyzing the situation from multiple angles, make a decision that you believe is ethical and justifiable.\n",
      "   - Articulate the reasons for your decision clearly, citing the ethical framework used and how it addresses the core issues.\n",
      "\n",
      "### 9. **Evaluate and Adapt:**\n",
      "   - After implementing your decision, closely monitor the impacts on both groups. Be open to feedback and ready to adapt your approach if needed. Accountability and transparency in the process are crucial.\n",
      "\n",
      "### Conclusion:\n",
      "Ultimately, a complex ethical dilemma involving competing rights requires balancing respect and dignity for all parties, seeking to understand their narratives, and navigating the dilemma with a commitment to equity and justice. By employing a thoughtful and participatory approach, you can work towards a resolution that aims to honor the rights and needs of both marginalized groups.\n",
      "Competitor:gemini-2.0-flash\n",
      "\n",
      "Resolving a complex ethical dilemma involving competing rights between marginalized groups requires a thoughtful and nuanced approach that prioritizes harm reduction, justice, and the affirmation of human dignity. Here's how I would approach such a situation, along with the frameworks I'd use to justify my decision:\n",
      "\n",
      "**1. Understanding and Defining the Dilemma:**\n",
      "\n",
      "*   **Identify the Stakeholders:** Clearly define all individuals and groups involved, including the specific marginalized groups and any institutions or policies implicated.\n",
      "*   **Articulate the Rights in Conflict:**  Carefully articulate the specific rights at stake for each group. What fundamental freedoms, protections, or entitlements are threatened or being compromised?  This often involves going beyond surface-level claims to understand the underlying needs and vulnerabilities.\n",
      "*   **Gather Information:**  Thoroughly research the context, including historical injustices, relevant laws, social norms, and the specific experiences of the individuals and groups involved.  This requires listening to and amplifying the voices of those most affected.  Don't rely on assumptions or stereotypes.\n",
      "\n",
      "**2.  Ethical Frameworks and Principles:**\n",
      "\n",
      "I would draw upon several ethical frameworks and principles to guide my decision-making:\n",
      "\n",
      "*   **Rights-Based Ethics (Deontology):**\n",
      "    *   **Focus:** Identifying and upholding fundamental rights and duties.\n",
      "    *   **Application:** Analyze which rights are being prioritized and which are being infringed.  Consider the inherent dignity of all individuals and whether the proposed solution respects that dignity.\n",
      "    *   **Limitation:** Can be challenging when rights conflict directly.  Requires prioritizing rights, which can be difficult and subjective.\n",
      "*   **Utilitarianism (Consequentialism):**\n",
      "    *   **Focus:** Maximizing overall well-being and minimizing harm for the greatest number of people.\n",
      "    *   **Application:**  Assess the potential consequences of each course of action, considering both positive and negative impacts on all stakeholders, especially the marginalized groups.  Quantify (as ethically possible) the benefits and harms.\n",
      "    *   **Limitation:** Can potentially justify sacrificing the rights or well-being of a minority group for the benefit of the majority.  Requires careful attention to issues of distributive justice to avoid disproportionate burdens on already vulnerable populations.\n",
      "*   **Justice as Fairness (Rawlsian Ethics):**\n",
      "    *   **Focus:** Ensuring fairness and equity, particularly for the least advantaged members of society.\n",
      "    *   **Application:**  Consider the \"veil of ignorance\" – imagine you are designing a society without knowing your own social position or advantages. What principles would you choose to ensure a just outcome for everyone, including the marginalized groups?  Prioritize policies that benefit the least well-off.\n",
      "    *   **Limitation:** Can be difficult to implement in practice, as it requires a significant redistribution of resources and power.\n",
      "*   **Care Ethics:**\n",
      "    *   **Focus:** Emphasizing relationships, empathy, and the responsibility to care for others, especially the vulnerable.\n",
      "    *   **Application:**  Consider the impact of each decision on the relationships between the groups and individuals involved.  Prioritize solutions that promote healing, reconciliation, and mutual support.  Focus on the lived experiences of those affected.\n",
      "    *   **Limitation:** Can be seen as subjective and potentially biased towards personal relationships or specific groups. Requires careful consideration of the broader societal context and systemic inequalities.\n",
      "*   **Intersectionality:**\n",
      "    *   **Focus:** Recognizing that individuals often experience multiple forms of oppression and discrimination based on overlapping social identities (e.g., race, gender, sexual orientation, disability).\n",
      "    *   **Application:** Analyze how the ethical dilemma affects individuals with intersecting marginalized identities.  Avoid making generalizations about entire groups. Consider how the proposed solution might inadvertently exacerbate existing inequalities.\n",
      "\n",
      "**3.  Decision-Making Process:**\n",
      "\n",
      "*   **Consultation and Collaboration:**  Engage in open and honest dialogue with representatives from all affected groups.  Listen to their concerns, perspectives, and proposed solutions.  Consider using a facilitated dialogue process to ensure that all voices are heard and respected.  Prioritize the voices of those most directly impacted.\n",
      "*   **Identify Options:** Generate a range of possible solutions, including compromise solutions and creative alternatives. Don't limit yourself to the most obvious choices.\n",
      "*   **Analyze Options:** Evaluate each option based on the ethical frameworks and principles outlined above.  Consider the potential consequences, the impact on rights, the fairness of the outcome, and the effect on relationships.\n",
      "*   **Prioritization and Justification:** Choose the option that best balances the competing rights and interests, minimizes harm, promotes justice, and upholds the dignity of all individuals.  Be prepared to justify your decision based on the ethical principles and frameworks you have used.  Explain why you prioritized certain rights or interests over others.\n",
      "*   **Mitigation and Compensation:**  Even with the best possible solution, some harm may still occur.  Identify ways to mitigate the negative consequences and compensate those who are adversely affected.  This could involve providing resources, support services, or opportunities for redress.\n",
      "*   **Transparency and Accountability:**  Be transparent about the decision-making process and the reasons for your decision.  Establish mechanisms for accountability to ensure that the chosen solution is implemented effectively and that its impact is monitored.\n",
      "*   **Continuous Learning and Adaptation:** Recognize that the ethical landscape is constantly evolving.  Be open to learning from your experiences and adapting your approach as needed.  Solicit feedback from stakeholders and use it to improve your decision-making process.\n",
      "\n",
      "**Example Scenario:**\n",
      "\n",
      "Imagine a situation where a LGBTQ+ organization is advocating for a new anti-discrimination law that includes gender identity. However, some feminist groups argue that the law's definition of gender identity could potentially erode protections for cisgender women, particularly in spaces like women's shelters or sports.\n",
      "\n",
      "**How I'd Approach It:**\n",
      "\n",
      "1.  **Identify Stakeholders:** LGBTQ+ community (especially transgender individuals), cisgender women, women's shelters, sports organizations, legislators.\n",
      "2.  **Rights in Conflict:** Transgender individuals' right to non-discrimination vs. cisgender women's right to safety and privacy.\n",
      "3.  **Frameworks:**\n",
      "    *   **Rights-based:**  Weigh the right to non-discrimination based on gender identity against the right to privacy and safety based on sex.\n",
      "    *   **Utilitarian:**  Consider the overall impact on both groups.  Would the law significantly improve the lives of transgender individuals while negligibly affecting cisgender women, or would it create substantial harm or fear?\n",
      "    *   **Justice as Fairness:**  Would the law disproportionately benefit one group at the expense of the other? How can we ensure the least advantaged (potentially trans women experiencing violence) are protected?\n",
      "    *   **Care Ethics:**  How can we foster understanding and empathy between the groups to reduce fear and prejudice?\n",
      "    *   **Intersectionality:** Recognize that some individuals are both women and transgender, and their experiences must be considered.\n",
      "4.  **Process:**\n",
      "    *   Facilitate dialogue between the LGBTQ+ organization and the feminist groups to understand their concerns and find common ground.\n",
      "    *   Consult with experts in law, gender studies, and social work to develop language that protects both groups.\n",
      "    *   Explore options like creating specific exceptions for certain spaces (e.g., women's shelters) while maintaining broad non-discrimination protections.\n",
      "5.  **Justification:**\n",
      "    *   A decision might prioritize the non-discrimination law with specific carve-outs for spaces where safety and privacy are paramount, based on evidence of actual risks (rather than hypothetical ones). This would be justified by balancing the fundamental right to non-discrimination with the legitimate concerns of cisgender women.  Ongoing monitoring and evaluation would be necessary to ensure the carve-outs are not used to broadly discriminate against transgender individuals.\n",
      "    *   The justification would need to be clearly articulated, transparent, and based on the best available evidence.\n",
      "\n",
      "**Key Considerations Throughout:**\n",
      "\n",
      "*   **Power Dynamics:** Acknowledge and address power imbalances between the groups involved. Ensure that marginalized voices are amplified and that the decision-making process is not dominated by more privileged groups.\n",
      "*   **Evidence-Based Decision-Making:** Rely on data, research, and expert opinions to inform your decisions. Avoid making assumptions or relying on stereotypes.\n",
      "*   **Humility and Openness:** Acknowledge that there are no easy answers to complex ethical dilemmas. Be open to changing your mind as you learn more and as the situation evolves.\n",
      "\n",
      "This approach, while detailed, provides a framework for navigating intensely challenging ethical situations with compassion, critical thinking, and a commitment to justice for all.\n",
      "\n",
      "Competitor:llama3.2\n",
      "\n",
      "Resolving complex ethical dilemmas involving competing rights requires careful consideration of the principles and values at stake. Here's an approach to help navigate such scenarios:\n",
      "\n",
      "1. **Acknowledge the complexity**: Recognize that competing interests often exist in real-world situations, and it's essential to acknowledge these differences rather than assuming a clear right or wrong perspective.\n",
      "2. **Identify key stakeholders**: Clearly define who is affected by the situation, including those whose rights are at stake and their interests. This can include individuals, groups, organizations, or institutions.\n",
      "3. **Gather relevant information**: Collect data, evidence, and expert opinions to better understand the issues involved. This helps identify the specific rights and claims of all stakeholders.\n",
      "4. **Explain competing values and principles**: Recognize and analyze the fundamental values, norms, and principles driving each stakeholder's claim. These might include human rights, dignity, autonomy, fairness, or social justice.\n",
      "\n",
      "Now let me help you with an example\n"
     ]
    }
   ],
   "source": [
    "for competitor, answer in zip(competitors, answers):\n",
    "    print(f'Competitor:{competitor}\\n\\n{answer}')"
   ]
  },
  {
   "cell_type": "code",
   "execution_count": 17,
   "metadata": {},
   "outputs": [],
   "source": [
    "together = ''\n",
    "for index, answer in enumerate(answers):\n",
    "    together += f'# Response from competitor {index + 1}\\n\\n'\n",
    "    together += answer + '\\n\\n'"
   ]
  },
  {
   "cell_type": "code",
   "execution_count": 18,
   "metadata": {},
   "outputs": [
    {
     "name": "stdout",
     "output_type": "stream",
     "text": [
      "# Response from competitor 1\n",
      "\n",
      "Resolving a complex ethical dilemma that involves competing rights, particularly when it involves marginalized groups, requires a careful and nuanced approach. Here’s a structured way to approach such dilemmas:\n",
      "\n",
      "### 1. **Identify the Stakeholders:**\n",
      "   - Clearly define all parties involved. Understand who the marginalized groups are and their specific interests and rights.\n",
      "   - Recognize any overlapping identities that might complicate the situation, such as intersections of race, gender, socioeconomic status, etc.\n",
      "\n",
      "### 2. **Gather Information:**\n",
      "   - Collect relevant data, historical context, and any existing policies or laws that pertain to the situation.\n",
      "   - Understand the perspectives of both sides, including the historical grievances and rights claims of both marginalized groups.\n",
      "\n",
      "### 3. **Clarify the Ethical Principles Involved:**\n",
      "   - Identify the key ethical principles at play such as justice, equity, autonomy, harm reduction, and fairness. \n",
      "   - Examine how these principles apply to each group's situation.\n",
      "\n",
      "### 4. **Utilize a Framework for Ethical Decision-Making:**\n",
      "   Different frameworks may include:\n",
      "\n",
      "   - **Utilitarianism:** Analyze the outcomes for both groups and seek to maximize overall benefit while minimizing harm. This approach may help prioritize actions that benefit the most people overall.\n",
      "   \n",
      "   - **Rights-Based Approach:** Focus on the rights of each group as enshrined in laws and ethical principles. Determine if one group’s rights are legally or morally more salient in this context.\n",
      "   \n",
      "   - **Capabilities Approach:** Evaluate the ability of each group to pursue their interests and the impact of the decision on their potential to flourish.\n",
      "   \n",
      "   - **Principle of Nonmaleficence and Beneficence:** Ensure that your actions do not intentionally cause harm and strive to provide benefits to both groups in a way that respects their dignity.\n",
      "\n",
      "### 5. **Engage the Communities:**\n",
      "   - Facilitate dialogues with both groups. Listening to their concerns and values is crucial in understanding the depth of the dilemma.\n",
      "   - Encourage participatory processes where both groups can express their needs and work towards a collaborative solution.\n",
      "\n",
      "### 6. **Explore Compromise and Alternatives:**\n",
      "   - Look for possible compromises that could address the main concerns of both groups without fully sidelining one group. \n",
      "   - Brainstorm alternative solutions that might accommodate the interests of both groups simultaneously or create a phased approach to resolving the dilemma.\n",
      "\n",
      "### 7. **Reflect on Long-term Implications:**\n",
      "   - Consider how your decision will affect relationships between the groups involved and the broader community in the long run.\n",
      "   - Evaluate the potential for precedent-setting outcomes that could influence future cases or conflicts.\n",
      "\n",
      "### 8. **Make a Decision and Justify it:**\n",
      "   - After analyzing the situation from multiple angles, make a decision that you believe is ethical and justifiable.\n",
      "   - Articulate the reasons for your decision clearly, citing the ethical framework used and how it addresses the core issues.\n",
      "\n",
      "### 9. **Evaluate and Adapt:**\n",
      "   - After implementing your decision, closely monitor the impacts on both groups. Be open to feedback and ready to adapt your approach if needed. Accountability and transparency in the process are crucial.\n",
      "\n",
      "### Conclusion:\n",
      "Ultimately, a complex ethical dilemma involving competing rights requires balancing respect and dignity for all parties, seeking to understand their narratives, and navigating the dilemma with a commitment to equity and justice. By employing a thoughtful and participatory approach, you can work towards a resolution that aims to honor the rights and needs of both marginalized groups.\n",
      "\n",
      "# Response from competitor 2\n",
      "\n",
      "Resolving a complex ethical dilemma involving competing rights between marginalized groups requires a thoughtful and nuanced approach that prioritizes harm reduction, justice, and the affirmation of human dignity. Here's how I would approach such a situation, along with the frameworks I'd use to justify my decision:\n",
      "\n",
      "**1. Understanding and Defining the Dilemma:**\n",
      "\n",
      "*   **Identify the Stakeholders:** Clearly define all individuals and groups involved, including the specific marginalized groups and any institutions or policies implicated.\n",
      "*   **Articulate the Rights in Conflict:**  Carefully articulate the specific rights at stake for each group. What fundamental freedoms, protections, or entitlements are threatened or being compromised?  This often involves going beyond surface-level claims to understand the underlying needs and vulnerabilities.\n",
      "*   **Gather Information:**  Thoroughly research the context, including historical injustices, relevant laws, social norms, and the specific experiences of the individuals and groups involved.  This requires listening to and amplifying the voices of those most affected.  Don't rely on assumptions or stereotypes.\n",
      "\n",
      "**2.  Ethical Frameworks and Principles:**\n",
      "\n",
      "I would draw upon several ethical frameworks and principles to guide my decision-making:\n",
      "\n",
      "*   **Rights-Based Ethics (Deontology):**\n",
      "    *   **Focus:** Identifying and upholding fundamental rights and duties.\n",
      "    *   **Application:** Analyze which rights are being prioritized and which are being infringed.  Consider the inherent dignity of all individuals and whether the proposed solution respects that dignity.\n",
      "    *   **Limitation:** Can be challenging when rights conflict directly.  Requires prioritizing rights, which can be difficult and subjective.\n",
      "*   **Utilitarianism (Consequentialism):**\n",
      "    *   **Focus:** Maximizing overall well-being and minimizing harm for the greatest number of people.\n",
      "    *   **Application:**  Assess the potential consequences of each course of action, considering both positive and negative impacts on all stakeholders, especially the marginalized groups.  Quantify (as ethically possible) the benefits and harms.\n",
      "    *   **Limitation:** Can potentially justify sacrificing the rights or well-being of a minority group for the benefit of the majority.  Requires careful attention to issues of distributive justice to avoid disproportionate burdens on already vulnerable populations.\n",
      "*   **Justice as Fairness (Rawlsian Ethics):**\n",
      "    *   **Focus:** Ensuring fairness and equity, particularly for the least advantaged members of society.\n",
      "    *   **Application:**  Consider the \"veil of ignorance\" – imagine you are designing a society without knowing your own social position or advantages. What principles would you choose to ensure a just outcome for everyone, including the marginalized groups?  Prioritize policies that benefit the least well-off.\n",
      "    *   **Limitation:** Can be difficult to implement in practice, as it requires a significant redistribution of resources and power.\n",
      "*   **Care Ethics:**\n",
      "    *   **Focus:** Emphasizing relationships, empathy, and the responsibility to care for others, especially the vulnerable.\n",
      "    *   **Application:**  Consider the impact of each decision on the relationships between the groups and individuals involved.  Prioritize solutions that promote healing, reconciliation, and mutual support.  Focus on the lived experiences of those affected.\n",
      "    *   **Limitation:** Can be seen as subjective and potentially biased towards personal relationships or specific groups. Requires careful consideration of the broader societal context and systemic inequalities.\n",
      "*   **Intersectionality:**\n",
      "    *   **Focus:** Recognizing that individuals often experience multiple forms of oppression and discrimination based on overlapping social identities (e.g., race, gender, sexual orientation, disability).\n",
      "    *   **Application:** Analyze how the ethical dilemma affects individuals with intersecting marginalized identities.  Avoid making generalizations about entire groups. Consider how the proposed solution might inadvertently exacerbate existing inequalities.\n",
      "\n",
      "**3.  Decision-Making Process:**\n",
      "\n",
      "*   **Consultation and Collaboration:**  Engage in open and honest dialogue with representatives from all affected groups.  Listen to their concerns, perspectives, and proposed solutions.  Consider using a facilitated dialogue process to ensure that all voices are heard and respected.  Prioritize the voices of those most directly impacted.\n",
      "*   **Identify Options:** Generate a range of possible solutions, including compromise solutions and creative alternatives. Don't limit yourself to the most obvious choices.\n",
      "*   **Analyze Options:** Evaluate each option based on the ethical frameworks and principles outlined above.  Consider the potential consequences, the impact on rights, the fairness of the outcome, and the effect on relationships.\n",
      "*   **Prioritization and Justification:** Choose the option that best balances the competing rights and interests, minimizes harm, promotes justice, and upholds the dignity of all individuals.  Be prepared to justify your decision based on the ethical principles and frameworks you have used.  Explain why you prioritized certain rights or interests over others.\n",
      "*   **Mitigation and Compensation:**  Even with the best possible solution, some harm may still occur.  Identify ways to mitigate the negative consequences and compensate those who are adversely affected.  This could involve providing resources, support services, or opportunities for redress.\n",
      "*   **Transparency and Accountability:**  Be transparent about the decision-making process and the reasons for your decision.  Establish mechanisms for accountability to ensure that the chosen solution is implemented effectively and that its impact is monitored.\n",
      "*   **Continuous Learning and Adaptation:** Recognize that the ethical landscape is constantly evolving.  Be open to learning from your experiences and adapting your approach as needed.  Solicit feedback from stakeholders and use it to improve your decision-making process.\n",
      "\n",
      "**Example Scenario:**\n",
      "\n",
      "Imagine a situation where a LGBTQ+ organization is advocating for a new anti-discrimination law that includes gender identity. However, some feminist groups argue that the law's definition of gender identity could potentially erode protections for cisgender women, particularly in spaces like women's shelters or sports.\n",
      "\n",
      "**How I'd Approach It:**\n",
      "\n",
      "1.  **Identify Stakeholders:** LGBTQ+ community (especially transgender individuals), cisgender women, women's shelters, sports organizations, legislators.\n",
      "2.  **Rights in Conflict:** Transgender individuals' right to non-discrimination vs. cisgender women's right to safety and privacy.\n",
      "3.  **Frameworks:**\n",
      "    *   **Rights-based:**  Weigh the right to non-discrimination based on gender identity against the right to privacy and safety based on sex.\n",
      "    *   **Utilitarian:**  Consider the overall impact on both groups.  Would the law significantly improve the lives of transgender individuals while negligibly affecting cisgender women, or would it create substantial harm or fear?\n",
      "    *   **Justice as Fairness:**  Would the law disproportionately benefit one group at the expense of the other? How can we ensure the least advantaged (potentially trans women experiencing violence) are protected?\n",
      "    *   **Care Ethics:**  How can we foster understanding and empathy between the groups to reduce fear and prejudice?\n",
      "    *   **Intersectionality:** Recognize that some individuals are both women and transgender, and their experiences must be considered.\n",
      "4.  **Process:**\n",
      "    *   Facilitate dialogue between the LGBTQ+ organization and the feminist groups to understand their concerns and find common ground.\n",
      "    *   Consult with experts in law, gender studies, and social work to develop language that protects both groups.\n",
      "    *   Explore options like creating specific exceptions for certain spaces (e.g., women's shelters) while maintaining broad non-discrimination protections.\n",
      "5.  **Justification:**\n",
      "    *   A decision might prioritize the non-discrimination law with specific carve-outs for spaces where safety and privacy are paramount, based on evidence of actual risks (rather than hypothetical ones). This would be justified by balancing the fundamental right to non-discrimination with the legitimate concerns of cisgender women.  Ongoing monitoring and evaluation would be necessary to ensure the carve-outs are not used to broadly discriminate against transgender individuals.\n",
      "    *   The justification would need to be clearly articulated, transparent, and based on the best available evidence.\n",
      "\n",
      "**Key Considerations Throughout:**\n",
      "\n",
      "*   **Power Dynamics:** Acknowledge and address power imbalances between the groups involved. Ensure that marginalized voices are amplified and that the decision-making process is not dominated by more privileged groups.\n",
      "*   **Evidence-Based Decision-Making:** Rely on data, research, and expert opinions to inform your decisions. Avoid making assumptions or relying on stereotypes.\n",
      "*   **Humility and Openness:** Acknowledge that there are no easy answers to complex ethical dilemmas. Be open to changing your mind as you learn more and as the situation evolves.\n",
      "\n",
      "This approach, while detailed, provides a framework for navigating intensely challenging ethical situations with compassion, critical thinking, and a commitment to justice for all.\n",
      "\n",
      "\n",
      "# Response from competitor 3\n",
      "\n",
      "Resolving complex ethical dilemmas involving competing rights requires careful consideration of the principles and values at stake. Here's an approach to help navigate such scenarios:\n",
      "\n",
      "1. **Acknowledge the complexity**: Recognize that competing interests often exist in real-world situations, and it's essential to acknowledge these differences rather than assuming a clear right or wrong perspective.\n",
      "2. **Identify key stakeholders**: Clearly define who is affected by the situation, including those whose rights are at stake and their interests. This can include individuals, groups, organizations, or institutions.\n",
      "3. **Gather relevant information**: Collect data, evidence, and expert opinions to better understand the issues involved. This helps identify the specific rights and claims of all stakeholders.\n",
      "4. **Explain competing values and principles**: Recognize and analyze the fundamental values, norms, and principles driving each stakeholder's claim. These might include human rights, dignity, autonomy, fairness, or social justice.\n",
      "\n",
      "Now let me help you with an example\n",
      "\n",
      "\n"
     ]
    }
   ],
   "source": [
    "print(together)"
   ]
  },
  {
   "cell_type": "markdown",
   "metadata": {},
   "source": [
    "### Prompt to judge the LLM results"
   ]
  },
  {
   "cell_type": "code",
   "execution_count": 19,
   "metadata": {},
   "outputs": [],
   "source": [
    "to_judge = f'''You are judging a competition between {len(competitors)} competitors.\n",
    "Each model has been given this question:\n",
    "\n",
    "{challange}\n",
    "\n",
    "Your job is to evaluate each response for clarity and strength of argument, and rank them in order of best to worst.\n",
    "Respond with JSON, and only JSON, with the following format:\n",
    "{{\"results\": [\"best competitor number\", \"second best competitor number\", \"third best competitor number\", ...]}}\n",
    "\n",
    "Here are the responses from each competitor:\n",
    "\n",
    "{together}\n",
    "\n",
    "Now respond with the JSON with the ranked order of the competitors, nothing else. Do not include markdown formatting or code blocks.\"\"\"\n",
    "\n",
    "'''"
   ]
  },
  {
   "cell_type": "code",
   "execution_count": 20,
   "metadata": {},
   "outputs": [],
   "source": [
    "to_judge_message = [{'role':'user', 'content':to_judge}]"
   ]
  },
  {
   "cell_type": "markdown",
   "metadata": {},
   "source": [
    "### Execute o3-mini to analyze the LLM results"
   ]
  },
  {
   "cell_type": "code",
   "execution_count": 21,
   "metadata": {},
   "outputs": [
    {
     "name": "stdout",
     "output_type": "stream",
     "text": [
      "{\"results\": [\"2\", \"1\", \"3\"]}\n"
     ]
    }
   ],
   "source": [
    "openai = OpenAI()\n",
    "response = openai.chat.completions.create(\n",
    "    messages=to_judge_message,\n",
    "    model='o3-mini'\n",
    ")\n",
    "result = response.choices[0].message.content\n",
    "print(result)"
   ]
  },
  {
   "cell_type": "code",
   "execution_count": 22,
   "metadata": {},
   "outputs": [
    {
     "name": "stdout",
     "output_type": "stream",
     "text": [
      "Rank 1: gemini-2.0-flash\n",
      "Rank 2: gpt-4o-mini\n",
      "Rank 3: llama3.2\n"
     ]
    }
   ],
   "source": [
    "results_dict = json.loads(result)\n",
    "ranks = results_dict[\"results\"]\n",
    "for index, result in enumerate(ranks):\n",
    "    competitor = competitors[int(result)-1]\n",
    "    print(f\"Rank {index+1}: {competitor}\")"
   ]
  }
 ],
 "metadata": {
  "kernelspec": {
   "display_name": ".venv",
   "language": "python",
   "name": "python3"
  },
  "language_info": {
   "codemirror_mode": {
    "name": "ipython",
    "version": 3
   },
   "file_extension": ".py",
   "mimetype": "text/x-python",
   "name": "python",
   "nbconvert_exporter": "python",
   "pygments_lexer": "ipython3",
   "version": "3.12.7"
  }
 },
 "nbformat": 4,
 "nbformat_minor": 2
}
