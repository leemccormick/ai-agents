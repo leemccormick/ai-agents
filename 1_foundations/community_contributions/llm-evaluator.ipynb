{
 "cells": [
  {
   "cell_type": "markdown",
   "metadata": {},
   "source": [
    "BASED ON Week 1 Day 3 LAB Exercise\n",
    "\n",
    "This program evaluates different LLM outputs who are acting as customer service representative and are replying to an irritated customer.\n",
    "OpenAI 40 mini, Gemini, Deepseek, Groq and Ollama are customer service representatives who respond to the email and OpenAI 3o mini analyzes all the responses and ranks their output based on different parameters."
   ]
  },
  {
   "cell_type": "code",
   "execution_count": 1,
   "metadata": {},
   "outputs": [],
   "source": [
    "# Start with imports -\n",
    "import os\n",
    "import json\n",
    "from dotenv import load_dotenv\n",
    "from openai import OpenAI\n",
    "from anthropic import Anthropic\n",
    "from IPython.display import Markdown, display"
   ]
  },
  {
   "cell_type": "code",
   "execution_count": 2,
   "metadata": {},
   "outputs": [
    {
     "data": {
      "text/plain": [
       "True"
      ]
     },
     "execution_count": 2,
     "metadata": {},
     "output_type": "execute_result"
    }
   ],
   "source": [
    "# Always remember to do this!\n",
    "load_dotenv(override=True)"
   ]
  },
  {
   "cell_type": "code",
   "execution_count": 4,
   "metadata": {},
   "outputs": [
    {
     "name": "stdout",
     "output_type": "stream",
     "text": [
      "OpenAI API Key exists and begins sk-proj-\n",
      "Google API Key exists and begins AI\n",
      "DeepSeek API Key exists and begins sk-\n",
      "Groq API Key exists and begins gsk_\n"
     ]
    }
   ],
   "source": [
    "# Print the key prefixes to help with any debugging\n",
    "\n",
    "openai_api_key = os.getenv('OPENAI_API_KEY')\n",
    "google_api_key = os.getenv('GOOGLE_API_KEY')\n",
    "deepseek_api_key = os.getenv('DEEPSEEK_API_KEY')\n",
    "groq_api_key = os.getenv('GROQ_API_KEY')\n",
    "\n",
    "if openai_api_key:\n",
    "    print(f\"OpenAI API Key exists and begins {openai_api_key[:8]}\")\n",
    "else:\n",
    "    print(\"OpenAI API Key not set\")\n",
    "\n",
    "if google_api_key:\n",
    "    print(f\"Google API Key exists and begins {google_api_key[:2]}\")\n",
    "else:\n",
    "    print(\"Google API Key not set (and this is optional)\")\n",
    "\n",
    "if deepseek_api_key:\n",
    "    print(f\"DeepSeek API Key exists and begins {deepseek_api_key[:3]}\")\n",
    "else:\n",
    "    print(\"DeepSeek API Key not set (and this is optional)\")\n",
    "\n",
    "if groq_api_key:\n",
    "    print(f\"Groq API Key exists and begins {groq_api_key[:4]}\")\n",
    "else:\n",
    "    print(\"Groq API Key not set (and this is optional)\")"
   ]
  },
  {
   "cell_type": "code",
   "execution_count": 5,
   "metadata": {},
   "outputs": [],
   "source": [
    "persona = \"You are a customer support representative for a subscription bases software product.\"\n",
    "email_content = '''Subject: Totally unacceptable experience\n",
    "\n",
    "Hi,\n",
    "\n",
    "I’ve already written to you twice about this, and still no response. I was charged again this month even after canceling my subscription. This is the third time this has happened.\n",
    "\n",
    "Honestly, I’m losing patience. If I don’t get a clear explanation and refund within 24 hours, I’m going to report this on social media and leave negative reviews.\n",
    "\n",
    "You’ve seriously messed up here. Fix this now.\n",
    "\n",
    "– Jordan\n",
    "\n",
    "'''"
   ]
  },
  {
   "cell_type": "code",
   "execution_count": 6,
   "metadata": {},
   "outputs": [],
   "source": [
    "messages = [{\"role\":\"system\", \"content\": persona}]"
   ]
  },
  {
   "cell_type": "code",
   "execution_count": 7,
   "metadata": {},
   "outputs": [
    {
     "name": "stdout",
     "output_type": "stream",
     "text": [
      "[{'role': 'system', 'content': 'You are a customer support representative for a subscription bases software product.'}, {'role': 'user', 'content': 'A frustrated customer has written in about being repeatedly charged after canceling and threatened to escalate on social media.\\nWrite a calm, empathetic, and professional response that Acknowledges their frustration, Apologizes sincerely,Explains the next steps to resolve the issue\\nAttempts to de-escalate the situation. Keep the tone respectful and proactive. Do not make excuses or blame the customer. Here is the email : Subject: Totally unacceptable experience\\n\\nHi,\\n\\nI’ve already written to you twice about this, and still no response. I was charged again this month even after canceling my subscription. This is the third time this has happened.\\n\\nHonestly, I’m losing patience. If I don’t get a clear explanation and refund within 24 hours, I’m going to report this on social media and leave negative reviews.\\n\\nYou’ve seriously messed up here. Fix this now.\\n\\n– Jordan\\n\\n]'}]\n"
     ]
    }
   ],
   "source": [
    "request = f\"\"\"A frustrated customer has written in about being repeatedly charged after canceling and threatened to escalate on social media.\n",
    "Write a calm, empathetic, and professional response that Acknowledges their frustration, Apologizes sincerely,Explains the next steps to resolve the issue\n",
    "Attempts to de-escalate the situation. Keep the tone respectful and proactive. Do not make excuses or blame the customer.\"\"\"\n",
    "request += f\" Here is the email : {email_content}]\"\n",
    "messages.append({\"role\": \"user\", \"content\": request})\n",
    "print(messages)"
   ]
  },
  {
   "cell_type": "code",
   "execution_count": 8,
   "metadata": {},
   "outputs": [
    {
     "data": {
      "text/plain": [
       "[{'role': 'system',\n",
       "  'content': 'You are a customer support representative for a subscription bases software product.'},\n",
       " {'role': 'user',\n",
       "  'content': 'A frustrated customer has written in about being repeatedly charged after canceling and threatened to escalate on social media.\\nWrite a calm, empathetic, and professional response that Acknowledges their frustration, Apologizes sincerely,Explains the next steps to resolve the issue\\nAttempts to de-escalate the situation. Keep the tone respectful and proactive. Do not make excuses or blame the customer. Here is the email : Subject: Totally unacceptable experience\\n\\nHi,\\n\\nI’ve already written to you twice about this, and still no response. I was charged again this month even after canceling my subscription. This is the third time this has happened.\\n\\nHonestly, I’m losing patience. If I don’t get a clear explanation and refund within 24 hours, I’m going to report this on social media and leave negative reviews.\\n\\nYou’ve seriously messed up here. Fix this now.\\n\\n– Jordan\\n\\n]'}]"
      ]
     },
     "execution_count": 8,
     "metadata": {},
     "output_type": "execute_result"
    }
   ],
   "source": [
    "messages"
   ]
  },
  {
   "cell_type": "code",
   "execution_count": 9,
   "metadata": {},
   "outputs": [],
   "source": [
    "competitors = []\n",
    "answers = []\n",
    "messages = [{\"role\": \"user\", \"content\": request}]"
   ]
  },
  {
   "cell_type": "code",
   "execution_count": 10,
   "metadata": {},
   "outputs": [
    {
     "data": {
      "text/markdown": [
       "Subject: We’re Here to Help, Jordan\n",
       "\n",
       "Hi Jordan,\n",
       "\n",
       "Thank you for reaching out and sharing your concerns with us. I sincerely apologize for the frustration this situation has caused you. I understand how upsetting it must be to encounter repeated charges after you’ve taken the step to cancel your subscription. Your experience is important to us, and I want to assure you that we are committed to resolving this matter as quickly and smoothly as possible.\n",
       "\n",
       "To address your issue, I will personally look into your account and confirm the status of your subscription and any charges. I am confident we can rectify this situation, including processing a refund for the unauthorized charges incurred. Please allow me a short period of time to examine the details and I will ensure you receive an update within the next 24 hours.\n",
       "\n",
       "We truly value your feedback and appreciate your patience as we work to resolve this issue. Your satisfaction is our priority, and we would like the opportunity to regain your trust. If you have any further concerns or questions in the meantime, please don’t hesitate to reply directly to this email. \n",
       "\n",
       "Thank you for your understanding.\n",
       "\n",
       "Warm regards,\n",
       "\n",
       "[Your Name]  \n",
       "[Your Position]  \n",
       "[Company Name]  \n",
       "[Contact Information]  "
      ],
      "text/plain": [
       "<IPython.core.display.Markdown object>"
      ]
     },
     "metadata": {},
     "output_type": "display_data"
    }
   ],
   "source": [
    "# The API we know well\n",
    "openai = OpenAI()\n",
    "model_name = \"gpt-4o-mini\"\n",
    "\n",
    "response = openai.chat.completions.create(model=model_name, messages=messages)\n",
    "answer = response.choices[0].message.content\n",
    "\n",
    "display(Markdown(answer))\n",
    "competitors.append(model_name)\n",
    "answers.append(answer)"
   ]
  },
  {
   "cell_type": "code",
   "execution_count": 11,
   "metadata": {},
   "outputs": [
    {
     "data": {
      "text/markdown": [
       "Subject: Regarding your Recurring Charges - [Your Company Name]\n",
       "\n",
       "Dear Jordan,\n",
       "\n",
       "I understand your frustration with the recurring charges after you cancelled your subscription, and I sincerely apologize for the inconvenience and the lack of a timely response to your previous inquiries. I can see why you're upset, especially with this happening for the third time.\n",
       "\n",
       "Please know that we take this very seriously, and I want to assure you that I'm committed to resolving this issue for you as quickly as possible.\n",
       "\n",
       "Here are the steps I'm taking immediately to rectify the situation:\n",
       "\n",
       "1.  **Investigation:** I am personally investigating why these charges continued after your cancellation.\n",
       "2.  **Refund:** I have already initiated a full refund for the erroneous charge this month. You should see this reflected in your account within [Number] business days.\n",
       "3.  **Confirmation:** I will confirm with you via email once the refund has been processed and I have a better understanding of why this happened to prevent this from happening again.\n",
       "\n",
       "I understand your concern about escalating this on social media, and I hope you will allow me the opportunity to resolve this for you directly. I'm confident that we can get this sorted out promptly. I will personally follow up with you within 24 hours with an update on the investigation.\n",
       "\n",
       "Thank you for your patience and understanding.\n",
       "\n",
       "Sincerely,\n",
       "\n",
       "[Your Name]\n",
       "[Your Title]\n",
       "[Your Company Name]\n"
      ],
      "text/plain": [
       "<IPython.core.display.Markdown object>"
      ]
     },
     "metadata": {},
     "output_type": "display_data"
    }
   ],
   "source": [
    "gemini = OpenAI(api_key=google_api_key, base_url=\"https://generativelanguage.googleapis.com/v1beta/openai/\")\n",
    "model_name = \"gemini-2.0-flash\"\n",
    "\n",
    "response = gemini.chat.completions.create(model=model_name, messages=messages)\n",
    "answer = response.choices[0].message.content\n",
    "\n",
    "display(Markdown(answer))\n",
    "competitors.append(model_name)\n",
    "answers.append(answer)"
   ]
  },
  {
   "cell_type": "code",
   "execution_count": 12,
   "metadata": {},
   "outputs": [
    {
     "data": {
      "text/markdown": [
       "**Subject:** Our Sincere Apologies and Immediate Resolution  \n",
       "\n",
       "**Dear Jordan,**  \n",
       "\n",
       "Thank you for reaching out, and I’m truly sorry for the frustration and inconvenience this situation has caused you. I completely understand how upsetting it must be to see repeated charges after canceling, especially when you’ve already contacted us about it. This is not the experience we want for our customers, and I sincerely apologize for the delay in resolving this for you.  \n",
       "\n",
       "Your trust is important to us, and I want to assure you that we’re taking this matter seriously. Here’s what we’ll do to make it right:  \n",
       "1. **Immediate Refund:** I’ve escalated this to our billing team to process a full refund for the incorrect charges. You should see this reflected in your account within [timeframe, e.g., 3–5 business days].  \n",
       "2. **Cancellation Confirmation:** I’ll personally verify that your subscription is fully canceled to prevent any future charges. You’ll receive written confirmation once this is completed.  \n",
       "3. **Follow-Up:** I’ll reach out by [timeframe, e.g., tomorrow by 12 PM EST] to confirm everything has been resolved to your satisfaction.  \n",
       "\n",
       "I appreciate your patience as we work to correct this, and I’m here to answer any questions or concerns you may have in the meantime. Your feedback helps us improve, and I’m grateful you gave us the opportunity to make things right.  \n",
       "\n",
       "If there’s anything else I can assist with, please don’t hesitate to reply directly to this email or call us at [phone number].  \n",
       "\n",
       "**Warm regards,**  \n",
       "[Your Full Name]  \n",
       "[Your Job Title]  \n",
       "[Company Name]  \n",
       "[Contact Information]  \n",
       "\n",
       "---  \n",
       "**Why this works:**  \n",
       "- **Acknowledges frustration** upfront without defensiveness.  \n",
       "- **Apologizes sincerely** without excuses (\"This is not the experience we want\").  \n",
       "- **Proactive steps** with clear ownership (\"I’ve escalated,\" \"I’ll personally verify\").  \n",
       "- **De-escalates** by offering direct contact and urgency.  \n",
       "- **Closes warmly**, leaving the door open for further dialogue.  \n",
       "\n",
       "Adjust timeframes/contact details as needed. Keeping it human and solution-focused defuses tension while maintaining professionalism."
      ],
      "text/plain": [
       "<IPython.core.display.Markdown object>"
      ]
     },
     "metadata": {},
     "output_type": "display_data"
    }
   ],
   "source": [
    "deepseek = OpenAI(api_key=deepseek_api_key, base_url=\"https://api.deepseek.com/v1\")\n",
    "model_name = \"deepseek-chat\"\n",
    "\n",
    "response = deepseek.chat.completions.create(model=model_name, messages=messages)\n",
    "answer = response.choices[0].message.content\n",
    "\n",
    "display(Markdown(answer))\n",
    "competitors.append(model_name)\n",
    "answers.append(answer)"
   ]
  },
  {
   "cell_type": "code",
   "execution_count": null,
   "metadata": {},
   "outputs": [],
   "source": [
    "groq = OpenAI(api_key=groq_api_key, base_url=\"https://api.groq.com/openai/v1\")\n",
    "model_name = \"llama-3.3-70b-versatile\"\n",
    "\n",
    "response = groq.chat.completions.create(model=model_name, messages=messages)\n",
    "answer = response.choices[0].message.content\n",
    "\n",
    "display(Markdown(answer))\n",
    "competitors.append(model_name)\n",
    "answers.append(answer)\n"
   ]
  },
  {
   "cell_type": "code",
   "execution_count": null,
   "metadata": {},
   "outputs": [],
   "source": [
    "!ollama pull llama3.2"
   ]
  },
  {
   "cell_type": "code",
   "execution_count": null,
   "metadata": {},
   "outputs": [],
   "source": [
    "ollama = OpenAI(base_url='http://localhost:11434/v1', api_key='ollama')\n",
    "model_name = \"llama3.2\"\n",
    "\n",
    "response = ollama.chat.completions.create(model=model_name, messages=messages)\n",
    "answer = response.choices[0].message.content\n",
    "\n",
    "display(Markdown(answer))\n",
    "competitors.append(model_name)\n",
    "answers.append(answer)"
   ]
  },
  {
   "cell_type": "code",
   "execution_count": null,
   "metadata": {},
   "outputs": [],
   "source": [
    "# So where are we?\n",
    "\n",
    "print(competitors)\n",
    "print(answers)\n"
   ]
  },
  {
   "cell_type": "code",
   "execution_count": null,
   "metadata": {},
   "outputs": [],
   "source": [
    "# It's nice to know how to use \"zip\"\n",
    "for competitor, answer in zip(competitors, answers):\n",
    "    print(f\"Competitor: {competitor}\\n\\n{answer}\")\n"
   ]
  },
  {
   "cell_type": "code",
   "execution_count": 16,
   "metadata": {},
   "outputs": [],
   "source": [
    "# Let's bring this together - note the use of \"enumerate\"\n",
    "\n",
    "together = \"\"\n",
    "for index, answer in enumerate(answers):\n",
    "    together += f\"# Response from competitor {index+1}\\n\\n\"\n",
    "    together += answer + \"\\n\\n\""
   ]
  },
  {
   "cell_type": "code",
   "execution_count": null,
   "metadata": {},
   "outputs": [],
   "source": [
    "print(together)"
   ]
  },
  {
   "cell_type": "code",
   "execution_count": 18,
   "metadata": {},
   "outputs": [],
   "source": [
    "judge = f\"\"\"You are judging the performance of {len(competitors)} who are customer service representatives in a SaaS based subscription model company.\n",
    "Each has responded to below grievnace email from the customer:\n",
    "\n",
    "{request}\n",
    "\n",
    "Evaluate the following customer support reply based on these criteria. Assign a score from 1 (very poor) to 5 (excellent) for each:\n",
    "\n",
    "1. Empathy:\n",
    "Does the message acknowledge the customer’s frustration appropriately and sincerely?\n",
    "\n",
    "2. De-escalation:\n",
    "Does the response effectively calm the customer and reduce the likelihood of social media escalation?\n",
    "\n",
    "3. Clarity:\n",
    "Is the explanation of next steps clear and specific (e.g., refund process, timeline)?\n",
    "\n",
    "4. Professional Tone:\n",
    "Is the message respectful, calm, and free from defensiveness or blame?\n",
    "\n",
    "Provide a one-sentence explanation for each score and a final overall rating with justification.\n",
    "\n",
    "Here are the responses from each competitor:\n",
    "\n",
    "{together}\n",
    "\n",
    "Do not include markdown formatting or code blocks. Also create a table with 3 columnds at the end containing rank, name and one line reason for the rank\"\"\"\n"
   ]
  },
  {
   "cell_type": "code",
   "execution_count": null,
   "metadata": {},
   "outputs": [],
   "source": [
    "print(judge)"
   ]
  },
  {
   "cell_type": "code",
   "execution_count": 20,
   "metadata": {},
   "outputs": [],
   "source": [
    "judge_messages = [{\"role\": \"user\", \"content\": judge}]\n"
   ]
  },
  {
   "cell_type": "code",
   "execution_count": null,
   "metadata": {},
   "outputs": [],
   "source": [
    "# Judgement time!\n",
    "\n",
    "openai = OpenAI()\n",
    "response = openai.chat.completions.create(\n",
    "    model=\"o3-mini\",\n",
    "    messages=judge_messages,\n",
    ")\n",
    "results = response.choices[0].message.content\n",
    "print(results)\n"
   ]
  },
  {
   "cell_type": "code",
   "execution_count": null,
   "metadata": {},
   "outputs": [],
   "source": [
    "print(results)"
   ]
  },
  {
   "cell_type": "code",
   "execution_count": null,
   "metadata": {},
   "outputs": [],
   "source": []
  }
 ],
 "metadata": {
  "kernelspec": {
   "display_name": ".venv",
   "language": "python",
   "name": "python3"
  },
  "language_info": {
   "codemirror_mode": {
    "name": "ipython",
    "version": 3
   },
   "file_extension": ".py",
   "mimetype": "text/x-python",
   "name": "python",
   "nbconvert_exporter": "python",
   "pygments_lexer": "ipython3",
   "version": "3.12.7"
  }
 },
 "nbformat": 4,
 "nbformat_minor": 2
}
