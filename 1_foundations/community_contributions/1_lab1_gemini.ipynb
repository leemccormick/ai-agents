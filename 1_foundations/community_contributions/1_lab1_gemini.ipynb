{
 "cells": [
  {
   "cell_type": "markdown",
   "metadata": {},
   "source": [
    "# Welcome to the start of your adventure in Agentic AI"
   ]
  },
  {
   "cell_type": "markdown",
   "metadata": {},
   "source": [
    "<table style=\"margin: 0; text-align: left; width:100%\">\n",
    "    <tr>\n",
    "        <td style=\"width: 150px; height: 150px; vertical-align: middle;\">\n",
    "            <img src=\"../../assets/stop.png\" width=\"150\" height=\"150\" style=\"display: block;\" />\n",
    "        </td>\n",
    "        <td>\n",
    "            <h2 style=\"color:#ff7800;\">Are you ready for action??</h2>\n",
    "            <span style=\"color:#ff7800;\">Have you completed all the setup steps in the <a href=\"../setup/\">setup</a> folder?<br/>\n",
    "            Have you checked out the guides in the <a href=\"../guides/01_intro.ipynb\">guides</a> folder?<br/>\n",
    "            Well in that case, you're ready!!\n",
    "            </span>\n",
    "        </td>\n",
    "    </tr>\n",
    "</table>"
   ]
  },
  {
   "cell_type": "markdown",
   "metadata": {},
   "source": [
    "<table style=\"margin: 0; text-align: left; width:100%\">\n",
    "    <tr>\n",
    "        <td style=\"width: 150px; height: 150px; vertical-align: middle;\">\n",
    "            <img src=\"../../assets/tools.png\" width=\"150\" height=\"150\" style=\"display: block;\" />\n",
    "        </td>\n",
    "        <td>\n",
    "            <h2 style=\"color:#00bfff;\">Treat these labs as a resource</h2>\n",
    "            <span style=\"color:#00bfff;\">I push updates to the code regularly. When people ask questions or have problems, I incorporate it in the code, adding more examples or improved commentary. As a result, you'll notice that the code below isn't identical to the videos. Everything from the videos is here; but in addition, I've added more steps and better explanations. Consider this like an interactive book that accompanies the lectures.\n",
    "            </span>\n",
    "        </td>\n",
    "    </tr>\n",
    "</table>"
   ]
  },
  {
   "cell_type": "markdown",
   "metadata": {},
   "source": [
    "### And please do remember to contact me if I can help\n",
    "\n",
    "And I love to connect: https://www.linkedin.com/in/eddonner/\n",
    "\n",
    "\n",
    "### New to Notebooks like this one? Head over to the guides folder!\n",
    "\n",
    "Just to check you've already added the Python and Jupyter extensions to Cursor, if not already installed:\n",
    "- Open extensions (View >> extensions)\n",
    "- Search for python, and when the results show, click on the ms-python one, and Install it if not already installed\n",
    "- Search for jupyter, and when the results show, click on the Microsoft one, and Install it if not already installed  \n",
    "Then View >> Explorer to bring back the File Explorer.\n",
    "\n",
    "And then:\n",
    "1. Run `uv add google-genai` to install the Google Gemini library. (If you had started your environment before running this command, you will need to restart your environment in the Jupyter notebook.)\n",
    "2. Click where it says \"Select Kernel\" near the top right, and select the option called `.venv (Python 3.12.9)` or similar, which should be the first choice or the most prominent choice. You may need to choose \"Python Environments\" first.\n",
    "3. Click in each \"cell\" below, starting with the cell immediately below this text, and press Shift+Enter to run\n",
    "4. Enjoy!\n",
    "\n",
    "After you click \"Select Kernel\", if there is no option like `.venv (Python 3.12.9)` then please do the following:  \n",
    "1. From the Cursor menu, choose Settings >> VSCode Settings (NOTE: be sure to select `VSCode Settings` not `Cursor Settings`)  \n",
    "2. In the Settings search bar, type \"venv\"  \n",
    "3. In the field \"Path to folder with a list of Virtual Environments\" put the path to the project root, like C:\\Users\\username\\projects\\agents (on a Windows PC) or /Users/username/projects/agents (on Mac or Linux).  \n",
    "And then try again.\n",
    "\n",
    "Having problems with missing Python versions in that list? Have you ever used Anaconda before? It might be interferring. Quit Cursor, bring up a new command line, and make sure that your Anaconda environment is deactivated:    \n",
    "`conda deactivate`  \n",
    "And if you still have any problems with conda and python versions, it's possible that you will need to run this too:  \n",
    "`conda config --set auto_activate_base false`  \n",
    "and then from within the Agents directory, you should be able to run `uv python list` and see the Python 3.12 version."
   ]
  },
  {
   "cell_type": "code",
   "execution_count": 18,
   "metadata": {},
   "outputs": [],
   "source": [
    "# First let's do an import\n",
    "from dotenv import load_dotenv\n"
   ]
  },
  {
   "cell_type": "code",
   "execution_count": 19,
   "metadata": {},
   "outputs": [
    {
     "data": {
      "text/plain": [
       "True"
      ]
     },
     "execution_count": 19,
     "metadata": {},
     "output_type": "execute_result"
    }
   ],
   "source": [
    "# Next it's time to load the API keys into environment variables\n",
    "\n",
    "load_dotenv(override=True)"
   ]
  },
  {
   "cell_type": "code",
   "execution_count": 20,
   "metadata": {},
   "outputs": [
    {
     "name": "stdout",
     "output_type": "stream",
     "text": [
      "Gemini API Key exists and begins AIzaSyDL\n"
     ]
    }
   ],
   "source": [
    "# Check the keys\n",
    "\n",
    "import os\n",
    "gemini_api_key = os.getenv('GEMINI_API_KEY')\n",
    "openai_api_key = os.getenv('OPENAI_API_KEY')\n",
    "\n",
    "if gemini_api_key:\n",
    "    print(f\"Gemini API Key exists and begins {gemini_api_key[:8]}\")\n",
    "else:\n",
    "    print(\"Gemini API Key not set - please head to the troubleshooting guide in the guides folder\")\n",
    "    \n",
    "if openai_api_key:\n",
    "    print(f\"OPEN AI API Key exists and begins {openai_api_key[:8]}\")\n",
    "else:\n",
    "    print(\"OPEN AI API Key not set - please head to the troubleshooting guide in the guides folder\")\n"
   ]
  },
  {
   "cell_type": "code",
   "execution_count": 21,
   "metadata": {},
   "outputs": [],
   "source": [
    "# And now - the all important import statement\n",
    "# If you get an import error - head over to troubleshooting guide\n",
    "\n",
    "from google import genai\n"
   ]
  },
  {
   "cell_type": "code",
   "execution_count": 22,
   "metadata": {},
   "outputs": [
    {
     "name": "stderr",
     "output_type": "stream",
     "text": [
      "Both GOOGLE_API_KEY and GEMINI_API_KEY are set. Using GOOGLE_API_KEY.\n"
     ]
    }
   ],
   "source": [
    "# And now we'll create an instance of the Gemini GenAI class\n",
    "# If you're not sure what it means to create an instance of a class - head over to the guides folder!\n",
    "# If you get a NameError - head over to the guides folder to learn about NameErrors\n",
    "\n",
    "gemini_client = genai.Client(api_key=gemini_api_key)"
   ]
  },
  {
   "cell_type": "code",
   "execution_count": 23,
   "metadata": {},
   "outputs": [],
   "source": [
    "# Create a list of messages in the familiar Gemini GenAI format\n",
    "\n",
    "messages = [\"What is 2+2?\"]"
   ]
  },
  {
   "cell_type": "code",
   "execution_count": null,
   "metadata": {},
   "outputs": [
    {
     "name": "stdout",
     "output_type": "stream",
     "text": [
      "2 + 2 = 4\n",
      "\n"
     ]
    }
   ],
   "source": [
    "# And now call it! Any problems, head to the troubleshooting guide\n",
    "\n",
    "response = gemini_client.models.generate_content(\n",
    "    model=\"gemini-2.0-flash\", contents=messages\n",
    ")\n",
    "\n",
    "print(response.text)\n"
   ]
  },
  {
   "cell_type": "code",
   "execution_count": null,
   "metadata": {},
   "outputs": [
    {
     "name": "stdout",
     "output_type": "stream",
     "text": [
      "Imagine a perfectly smooth, rigid, hollow sphere with an inner diameter of 1 meter. Inside, there are three identical perfectly smooth, rigid, solid spheres, each with a diameter of 0.4 meters. The hollow sphere is sealed. What is the minimum possible distance from the center of the hollow sphere to the center of any of the solid spheres? Explain your reasoning.\n",
      "\n"
     ]
    }
   ],
   "source": [
    "\n",
    "# Lets no create a challenging question\n",
    "question = \"Please propose a hard, challenging question to assess someone's IQ. Respond only with the question.\"\n",
    "\n",
    "# Ask the the model\n",
    "response = gemini_client.models.generate_content(\n",
    "    model=\"gemini-2.0-flash\", contents=question\n",
    ")\n",
    "\n",
    "question = response.text\n",
    "\n",
    "print(question)\n"
   ]
  },
  {
   "cell_type": "code",
   "execution_count": null,
   "metadata": {},
   "outputs": [
    {
     "name": "stdout",
     "output_type": "stream",
     "text": [
      "Here's the reasoning to determine the minimum possible distance from the center of the hollow sphere to the center of any of the solid spheres:\n",
      "\n",
      "**Understanding the Constraints**\n",
      "\n",
      "*   **Hollow Sphere:** Radius = 0.5 meters. This defines the limit within which the centers of the solid spheres must reside.\n",
      "*   **Solid Spheres:** Radius = 0.2 meters. They cannot overlap (they are rigid) and can freely move within the hollow sphere.\n",
      "*   **Goal:** Minimize the distance between the center of the hollow sphere and the center of *any* one of the solid spheres.\n",
      "\n",
      "**Optimal Configuration**\n",
      "\n",
      "The minimum distance will be achieved when the three solid spheres are arranged in a way that maximizes the distance from the center of the hollow sphere to the center of gravity of the three solid spheres. This is best achieved by creating a planar triangular configuration centered inside the hollow sphere.\n",
      "\n",
      "Imagine the centers of the three small spheres forming an equilateral triangle. For this arrangement to be stable, the center of the large sphere must be at the center of the equilateral triangle.\n",
      "\n",
      "**Calculating the Distances**\n",
      "\n",
      "1.  **Distance between centers of two touching small spheres:** 2 \\* radius of a small sphere = 2 \\* 0.2 meters = 0.4 meters.\n",
      "\n",
      "2.  **Side length of the equilateral triangle:** This is equal to the distance between the centers of any two touching small spheres. Thus, the side length = 0.4 meters.\n",
      "\n",
      "3.  **Distance from the centroid (center) of the equilateral triangle to one of its vertices:** This distance is (side length / sqrt(3)) = (0.4 meters / sqrt(3)) ≈ 0.2309 meters. This is also the distance from the center of the hollow sphere to the center of each small sphere.\n",
      "\n",
      "**Consideration of the outer Sphere Radius**\n",
      "\n",
      "The distance from the center of a small sphere to the edge of the outer sphere must be large enough to contain the radius of the small sphere (0.2 meters).\n",
      "\n",
      "Radius of outer sphere - distance from center of outer sphere to center of small sphere must be larger than or equal to radius of small sphere:\n",
      "0.5 - x >= 0.2\n",
      "\n",
      "x <= 0.3\n",
      "In other words, we cannot go farther than 0.3 meters from the center.\n",
      "\n",
      "**Therefore, the minimum possible distance from the center of the hollow sphere to the center of any of the solid spheres is approximately 0.2309 meters.**\n",
      "\n"
     ]
    }
   ],
   "source": [
    "# Ask the models generated question to the model\n",
    "response = gemini_client.models.generate_content(\n",
    "    model=\"gemini-2.0-flash\", contents=question\n",
    ")\n",
    "\n",
    "# Extract the answer from the response\n",
    "answer = response.text\n",
    "\n",
    "# Debug log the answer\n",
    "print(answer)\n"
   ]
  },
  {
   "cell_type": "code",
   "execution_count": 27,
   "metadata": {},
   "outputs": [
    {
     "data": {
      "text/markdown": [
       "Here's the reasoning to determine the minimum possible distance from the center of the hollow sphere to the center of any of the solid spheres:\n",
       "\n",
       "**Understanding the Constraints**\n",
       "\n",
       "*   **Hollow Sphere:** Radius = 0.5 meters. This defines the limit within which the centers of the solid spheres must reside.\n",
       "*   **Solid Spheres:** Radius = 0.2 meters. They cannot overlap (they are rigid) and can freely move within the hollow sphere.\n",
       "*   **Goal:** Minimize the distance between the center of the hollow sphere and the center of *any* one of the solid spheres.\n",
       "\n",
       "**Optimal Configuration**\n",
       "\n",
       "The minimum distance will be achieved when the three solid spheres are arranged in a way that maximizes the distance from the center of the hollow sphere to the center of gravity of the three solid spheres. This is best achieved by creating a planar triangular configuration centered inside the hollow sphere.\n",
       "\n",
       "Imagine the centers of the three small spheres forming an equilateral triangle. For this arrangement to be stable, the center of the large sphere must be at the center of the equilateral triangle.\n",
       "\n",
       "**Calculating the Distances**\n",
       "\n",
       "1.  **Distance between centers of two touching small spheres:** 2 \\* radius of a small sphere = 2 \\* 0.2 meters = 0.4 meters.\n",
       "\n",
       "2.  **Side length of the equilateral triangle:** This is equal to the distance between the centers of any two touching small spheres. Thus, the side length = 0.4 meters.\n",
       "\n",
       "3.  **Distance from the centroid (center) of the equilateral triangle to one of its vertices:** This distance is (side length / sqrt(3)) = (0.4 meters / sqrt(3)) ≈ 0.2309 meters. This is also the distance from the center of the hollow sphere to the center of each small sphere.\n",
       "\n",
       "**Consideration of the outer Sphere Radius**\n",
       "\n",
       "The distance from the center of a small sphere to the edge of the outer sphere must be large enough to contain the radius of the small sphere (0.2 meters).\n",
       "\n",
       "Radius of outer sphere - distance from center of outer sphere to center of small sphere must be larger than or equal to radius of small sphere:\n",
       "0.5 - x >= 0.2\n",
       "\n",
       "x <= 0.3\n",
       "In other words, we cannot go farther than 0.3 meters from the center.\n",
       "\n",
       "**Therefore, the minimum possible distance from the center of the hollow sphere to the center of any of the solid spheres is approximately 0.2309 meters.**\n"
      ],
      "text/plain": [
       "<IPython.core.display.Markdown object>"
      ]
     },
     "metadata": {},
     "output_type": "display_data"
    }
   ],
   "source": [
    "from IPython.display import Markdown, display\n",
    "\n",
    "# Nicely format the answer using Markdown\n",
    "display(Markdown(answer))\n",
    "\n"
   ]
  },
  {
   "cell_type": "markdown",
   "metadata": {},
   "source": [
    "# Congratulations!\n",
    "\n",
    "That was a small, simple step in the direction of Agentic AI, with your new environment!\n",
    "\n",
    "Next time things get more interesting..."
   ]
  },
  {
   "cell_type": "markdown",
   "metadata": {},
   "source": [
    "<table style=\"margin: 0; text-align: left; width:100%\">\n",
    "    <tr>\n",
    "        <td style=\"width: 150px; height: 150px; vertical-align: middle;\">\n",
    "            <img src=\"../assets/exercise.png\" width=\"150\" height=\"150\" style=\"display: block;\" />\n",
    "        </td>\n",
    "        <td>\n",
    "            <h2 style=\"color:#ff7800;\">Exercise</h2>\n",
    "            <span style=\"color:#ff7800;\">Now try this commercial application:<br/>\n",
    "            First ask the LLM to pick a business area that might be worth exploring for an Agentic AI opportunity.<br/>\n",
    "            Then ask the LLM to present a pain-point in that industry - something challenging that might be ripe for an Agentic solution.<br/>\n",
    "            Finally have 3 third LLM call propose the Agentic AI solution.\n",
    "            </span>\n",
    "        </td>\n",
    "    </tr>\n",
    "</table>"
   ]
  },
  {
   "cell_type": "code",
   "execution_count": 31,
   "metadata": {},
   "outputs": [
    {
     "name": "stderr",
     "output_type": "stream",
     "text": [
      "Both GOOGLE_API_KEY and GEMINI_API_KEY are set. Using GOOGLE_API_KEY.\n"
     ]
    },
    {
     "name": "stdout",
     "output_type": "stream",
     "text": [
      "Gemini API Key exists and begins AIzaSyDL\n",
      "OPEN AI API Key exists and begins sk-proj-\n"
     ]
    },
    {
     "data": {
      "text/markdown": [
       "###Business Idea: "
      ],
      "text/plain": [
       "<IPython.core.display.Markdown object>"
      ]
     },
     "metadata": {},
     "output_type": "display_data"
    },
    {
     "data": {
      "text/markdown": [
       "**Clinical Trial Management**\n",
       "\n",
       "Here's why clinical trial management is a great area for a proactive, autonomous AI agent:\n",
       "\n",
       "*   **Repetitive Decision-Making:** Clinical trials involve numerous repetitive decisions, such as patient eligibility checks, risk assessment monitoring, and safety signal detection.\n",
       "\n",
       "*   **Multi-Step Workflows:** Each phase of a trial (initiation, planning, execution, closeout) involves complex workflows with multiple steps, dependencies, and stakeholders.\n",
       "\n",
       "*   **Complex Coordination:** Coordination between researchers, investigators, ethics review boards, sponsors, data managers, and regulatory agencies is crucial and often fraught with delays.\n",
       "\n",
       "*   **Clear Goals:** The goals are well-defined: demonstrate safety and efficacy of a new drug or treatment, adhere to regulatory guidelines, and complete the trial within budget and timeframe.\n",
       "\n",
       "*   **Measurable Outcomes:** Outcomes are readily measurable: patient enrollment rates, adverse event incidence, data quality, protocol deviations, cost per patient, and time to completion.\n",
       "\n",
       "*   **Automation Potential:** Many tasks are amenable to automation, including:\n",
       "    *   Patient screening and recruitment\n",
       "    *   Adverse event reporting and analysis\n",
       "    *   Data validation and cleaning\n",
       "    *   Protocol adherence monitoring\n",
       "    *   Site performance tracking\n",
       "    *   Regulatory submissions\n",
       "\n",
       "**How a Proactive, Autonomous AI Agent Could Help:**\n",
       "\n",
       "An AI agent in this space could:\n",
       "\n",
       "*   **Proactively identify potential issues:** Monitor data for anomalies, predict potential protocol deviations, and flag slow-recruiting sites.\n",
       "*   **Automate routine tasks:** Schedule patient appointments, generate reports, automate data entry, and track communication with regulatory agencies.\n",
       "*   **Augment human decision-making:** Provide insights and recommendations based on data analysis, help optimize trial designs, and suggest risk mitigation strategies.\n",
       "*   **Improve patient safety:** Quickly identify and escalate safety signals based on real-time data analysis.\n",
       "*   **Accelerate trial timelines:** Streamline workflows, reduce administrative burden, and improve communication between stakeholders.\n",
       "*   **Reduce costs:** Optimize resource allocation, minimize errors, and improve efficiency.\n",
       "*   **Enhance data quality:** Ensure data integrity and accuracy through automated validation and cleaning.\n",
       "\n",
       "**Example Scenario:**\n",
       "\n",
       "Imagine an AI agent continuously monitoring patient data during a clinical trial. If it detects a statistically significant increase in a specific adverse event in a particular treatment arm, it could automatically:\n",
       "\n",
       "1.  Alert the lead investigator and safety officer.\n",
       "2.  Gather relevant patient data and medical history.\n",
       "3.  Generate a report summarizing the potential safety signal.\n",
       "4.  Initiate a workflow for further investigation and potential protocol modification.\n",
       "5.  Document all actions taken for regulatory purposes.\n",
       "\n",
       "This proactive intervention could potentially prevent serious harm to patients and accelerate the identification of important safety signals, ultimately leading to better patient outcomes.\n",
       "\n",
       "Clinical trial management is burdened by a high administrative burden, numerous opportunities for error, and slow-moving processes. The intelligent agent would be a valuable tool to proactively identify challenges, improve decision-making, and automate time-consuming tasks. This would potentially reduce costs, accelerate time to market, and improve patient outcomes.\n"
      ],
      "text/plain": [
       "<IPython.core.display.Markdown object>"
      ]
     },
     "metadata": {},
     "output_type": "display_data"
    },
    {
     "data": {
      "text/markdown": [
       "###Pain Point: "
      ],
      "text/plain": [
       "<IPython.core.display.Markdown object>"
      ]
     },
     "metadata": {},
     "output_type": "display_data"
    },
    {
     "data": {
      "text/markdown": [
       "**High Protocol Amendment Burden and Inefficient Implementation**\n",
       "\n",
       "This is a significant and persistent pain point in clinical trial management. Here's why:\n",
       "\n",
       "*   **Common:** Protocol amendments are extremely frequent, often occurring multiple times during a single trial. This can be due to unforeseen safety events, recruitment challenges, changes in standard of care, or even simple errors discovered after the trial has started.\n",
       "*   **Significant:** Each amendment requires a complex and time-consuming process:\n",
       "    *   Drafting the amendment.\n",
       "    *   Review and approval by multiple stakeholders (investigators, sponsors, ethics committees, regulatory agencies).\n",
       "    *   Communication and training for all participating sites and personnel.\n",
       "    *   Updating trial documents and systems.\n",
       "    *   Tracking implementation to ensure consistent adherence.\n",
       "*   **Impactful:** Amendments lead to:\n",
       "    *   **Increased costs:** Rework, retraining, and delays all contribute to budget overruns.\n",
       "    *   **Delayed timelines:** The amendment process can significantly extend the duration of the trial.\n",
       "    *   **Increased complexity:** Managing different versions of the protocol across multiple sites increases the risk of errors and inconsistencies.\n",
       "    *   **Patient safety concerns:** If amendments are not implemented correctly, patient safety could be compromised.\n",
       "*   **Improvement Opportunity:** An AI agent could significantly improve the efficiency and effectiveness of protocol amendment management by:\n",
       "    *   **Predictive Analytics:** Analyzing historical trial data to identify factors that commonly lead to amendments, allowing for proactive mitigation strategies during the initial protocol design.\n",
       "    *   **Automated Impact Assessment:**  Upon a proposed amendment, the AI could automatically assess the impact on various aspects of the trial (budget, timeline, data collection, site training) and generate a report for decision-makers.\n",
       "    *   **Streamlined Communication:** Automatically generate and distribute amendment-related documents (e.g., training materials, updated consent forms) to relevant stakeholders, tracking receipt and acknowledgement.\n",
       "    *   **Protocol Adherence Monitoring:** Continuously monitor patient data and site activities to identify deviations from the amended protocol, flagging potential issues for immediate attention.\n",
       "    *   **Automated Regulatory Submissions:**  Generate required amendment documentation for submission to regulatory bodies based on data already within the system.\n",
       "\n",
       "In conclusion, the high protocol amendment burden and inefficient implementation is a significant and persistent pain point in clinical trial management and a great opportunity to introduce an autonomous AI agent to improve efficiency and effectiveness.\n"
      ],
      "text/plain": [
       "<IPython.core.display.Markdown object>"
      ]
     },
     "metadata": {},
     "output_type": "display_data"
    },
    {
     "data": {
      "text/markdown": [
       "###Proposed Agentic AI Solution: "
      ],
      "text/plain": [
       "<IPython.core.display.Markdown object>"
      ]
     },
     "metadata": {},
     "output_type": "display_data"
    },
    {
     "data": {
      "text/markdown": [
       "**Agentic AI Solution for High Protocol Amendment Burden and Inefficient Implementation in Clinical Trials**\n",
       "\n",
       "### Overview\n",
       "The proposed AI Agent, named **Protocol AmendBot**, is designed to significantly streamline and enhance the efficiency of managing protocol amendments in clinical trials. Through a combination of predictive analytics, automated impact assessment, and real-time monitoring, Protocol AmendBot aims to address the challenges associated with the frequent need for protocol amendments, reducing administrative burdens, improving compliance, and ensuring patient safety.\n",
       "\n",
       "### Agent's Role\n",
       "**Protocol AmendBot** will serve as an intelligent assistant to clinical trial managers, site coordinators, and regulatory teams. Its primary functions will include:\n",
       "\n",
       "1. **Predictive Analytics for Amendment Identification:**\n",
       "   - Analyze historical data from previous trials to identify common triggers that lead to protocol amendments (e.g., safety events, recruitment issues).\n",
       "   - Provide insights during the initial protocol design phase to mitigate potential risks that may necessitate future amendments.\n",
       "\n",
       "2. **Automated Impact Assessment:**\n",
       "   - Upon drafting a proposed amendment, the AI will evaluate its effects on various parameters (budget, timelines, data collection, site training) and generate a comprehensive impact report.\n",
       "   - Facilitate quantification of potential risks and costs associated with the amendment before it is finalized.\n",
       "\n",
       "3. **Streamlined Communication and Documentation:**\n",
       "   - Automatically generate and distribute necessary training materials, updated consent forms, and other amendment-related documentation to relevant stakeholders.\n",
       "   - Track the distribution status to ensure that all necessary personnel have acknowledged and understood the amendments.\n",
       "\n",
       "4. **Protocol Adherence Monitoring:**\n",
       "   - Continuously monitor compliance with the amended protocol through real-time data analysis and reporting, identifying deviations across sites.\n",
       "   - Alert trial managers to any inconsistencies or non-compliance to ensure immediate corrective actions can be taken.\n",
       "\n",
       "5. **Automated Regulatory Submissions:**\n",
       "   - Generate all required documentation for regulatory bodies, compiling data and previously submitted materials to facilitate efficient submission of amendments.\n",
       "\n",
       "### Tools and Technologies\n",
       "To achieve its objectives, Protocol AmendBot will utilize a suite of advanced tools and technologies, including:\n",
       "\n",
       "- **Data Analytics and Machine Learning:**\n",
       "  Using historical clinical trial data, predictive modeling algorithms will identify common factors leading to protocol changes, assisting in proactive trial design.\n",
       "\n",
       "- **Natural Language Processing (NLP):**\n",
       "  To streamline document generation and communication, NLP techniques will facilitate the drafting of protocol amendments and training materials, ensuring clarity and compliance with regulatory standards.\n",
       "\n",
       "- **Real-Time Monitoring Dashboards:**\n",
       "  A user-friendly interface will visualize ongoing trial progress, adherence to the protocol, and the implementation of amendments, providing actionable insights at a glance.\n",
       "\n",
       "- **Integration with Existing Clinical Trial Management Systems (CTMS):**\n",
       "  Protocol AmendBot will seamlessly connect with existing CTMS and electronic data capture systems to ensure consistency and reduce data entry errors.\n",
       "\n",
       "### Expected Benefits\n",
       "1. **Reduced Administrative Burden:**\n",
       "   - By automating repetitive tasks associated with protocol amendment management, Protocol AmendBot will free up researchers and coordinators to focus on higher-level decision-making and patient care.\n",
       "\n",
       "2. **Minimized Costs:**\n",
       "   - Improved efficiency in managing protocol amendments will lead to reduced budget overruns from rework and retraining, which are common due to ineffective implementation.\n",
       "\n",
       "3. **Accelerated Timelines:**\n",
       "   - The automation of key processes will shorten the time required to implement amendments, leading to quicker adjustments in ongoing trials and minimizing delays.\n",
       "\n",
       "4. **Increased Compliance and Safety:**\n",
       "   - Continuous monitoring of protocol adherence will enhance patient safety and ensure consistent implementation across all trial sites, mitigating risks associated with miscommunication or errors.\n",
       "\n",
       "5. **Enhanced Data Quality and Integrity:**\n",
       "   - The automated documentation and regulatory submission processes will improve data accuracy and compliance with regulatory standards, reducing the likelihood of audit findings or compliance issues.\n",
       "\n",
       "6. **Improved Stakeholder Communication:**\n",
       "   - By streamlining communication among all parties involved in the trial, Protocol AmendBot will facilitate collaboration and transparency, enhancing overall trial efficiency.\n",
       "\n",
       "### Conclusion\n",
       "In summary, the **Protocol AmendBot** AI solution presents an innovative approach to addressing the significant pain points associated with high protocol amendment burdens in clinical trial management. By leveraging predictive analytics, automation, and real-time monitoring, the AI agent enhances the efficiency and effectiveness of amendment processes, ultimately leading to improved patient outcomes and faster clinical trial timelines."
      ],
      "text/plain": [
       "<IPython.core.display.Markdown object>"
      ]
     },
     "metadata": {},
     "output_type": "display_data"
    },
    {
     "data": {
      "text/markdown": [
       "**************************************************"
      ],
      "text/plain": [
       "<IPython.core.display.Markdown object>"
      ]
     },
     "metadata": {},
     "output_type": "display_data"
    }
   ],
   "source": [
    "# Exercise by Lee McCormick\n",
    "import os\n",
    "import json\n",
    "from dotenv import load_dotenv\n",
    "from IPython.display import Markdown, display\n",
    "from google import genai\n",
    "from openai import OpenAI\n",
    "\n",
    "# Always remember to do this!\n",
    "load_dotenv(override=True)\n",
    "\n",
    "# Check the keys\n",
    "gemini_api_key = os.getenv('GEMINI_API_KEY')\n",
    "openai_api_key = os.getenv('OPENAI_API_KEY')\n",
    "\n",
    "if gemini_api_key:\n",
    "    print(f\"Gemini API Key exists and begins {gemini_api_key[:8]}\")\n",
    "else:\n",
    "    print(\"Gemini API Key not set - please head to the troubleshooting guide in the guides folder\")\n",
    "    \n",
    "if openai_api_key:\n",
    "    print(f\"OPEN AI API Key exists and begins {openai_api_key[:8]}\")\n",
    "else:\n",
    "    print(\"OPEN AI API Key not set - please head to the troubleshooting guide in the guides folder\")\n",
    "\n",
    "# Create the clients\n",
    "gemini_client = genai.Client(api_key=gemini_api_key)\n",
    "openai_client = OpenAI()\n",
    "\n",
    "# First create the messages:\n",
    "messages = [\"Think of a specific business area or industry that involves repetitive decision-making, multi-step workflows, or complex coordination between tools and people. The ideal area should have clear goals, measurable outcomes, and potential for automation or augmentation with intelligent agents. What’s a domain where a proactive, autonomous AI agent could significantly save time, reduce error, or unlock new value? Answer with a business area.\"]\n",
    "\n",
    "# Then make the first call:\n",
    "response = gemini_client.models.generate_content(\n",
    "    model=\"gemini-2.0-flash\", contents=messages\n",
    ")\n",
    "\n",
    "# Then read the business idea:\n",
    "business_idea = response.text\n",
    "display(Markdown(\"###Business Idea: \"))\n",
    "display(Markdown(business_idea))\n",
    "\n",
    "# And repeat by asking the pain point with the business idea!\n",
    "messages = [f\"Now, think of a specific pain point or challenge in the {business_idea} industry. This should be a problem that is common, significant, and could be improved through automation or AI assistance. What’s a pain point that consistently affects the {business_idea} industry? Answer with a specific problem or issue.\"]\n",
    "response = gemini_client.models.generate_content(\n",
    "    model=\"gemini-2.0-flash\", contents=messages\n",
    ")\n",
    "\n",
    "# Then read the pain point:\n",
    "pain_point = response.text\n",
    "display(Markdown(\"###Pain Point: \"))\n",
    "display(Markdown(pain_point))\n",
    "\n",
    "# And repeat by asking the 3rd LLM to propose the Agentic AI solution!\n",
    "messages = [\n",
    "    {\n",
    "        \"role\": \"user\", \n",
    "        \"content\": f\"The {business_idea} industry has the following pain point: {pain_point}. Please propose an Agentic AI solution to this problem. Respond with a detailed description of the solution, including the agent's role, the tools it will use, and the expected benefits.\"\n",
    "    }\n",
    "]\n",
    "openai = OpenAI(api_key=os.getenv('OPENAI_API_KEY'))\n",
    "response = openai_client.chat.completions.create(\n",
    "    model=\"gpt-4o-mini\",\n",
    "    messages=messages,\n",
    ")\n",
    "\n",
    "# Then read the Agentic AI solution:\n",
    "result = response.choices[0].message.content\n",
    "display(Markdown(\"###Proposed Agentic AI Solution: \"))\n",
    "display(Markdown(result))\n",
    "display(Markdown(\"**************************************************\"))"
   ]
  },
  {
   "cell_type": "markdown",
   "metadata": {},
   "source": [
    "### And please do remember to contact me if I can help\n",
    "\n",
    "And I love to connect: https://www.linkedin.com/in/eddonner/\n",
    "\n",
    "\n",
    "### New to Notebooks like this one? Head over to the guides folder!\n",
    "\n",
    "Just to check you've already added the Python and Jupyter extensions to Cursor, if not already installed:\n",
    "- Open extensions (View >> extensions)\n",
    "- Search for python, and when the results show, click on the ms-python one, and Install it if not already installed\n",
    "- Search for jupyter, and when the results show, click on the Microsoft one, and Install it if not already installed  \n",
    "Then View >> Explorer to bring back the File Explorer.\n",
    "\n",
    "And then:\n",
    "1. Run `uv add google-genai` to install the Google Gemini library. (If you had started your environment before running this command, you will need to restart your environment in the Jupyter notebook.)\n",
    "2. Click where it says \"Select Kernel\" near the top right, and select the option called `.venv (Python 3.12.9)` or similar, which should be the first choice or the most prominent choice. You may need to choose \"Python Environments\" first.\n",
    "3. Click in each \"cell\" below, starting with the cell immediately below this text, and press Shift+Enter to run\n",
    "4. Enjoy!\n",
    "\n",
    "After you click \"Select Kernel\", if there is no option like `.venv (Python 3.12.9)` then please do the following:  \n",
    "1. From the Cursor menu, choose Settings >> VSCode Settings (NOTE: be sure to select `VSCode Settings` not `Cursor Settings`)  \n",
    "2. In the Settings search bar, type \"venv\"  \n",
    "3. In the field \"Path to folder with a list of Virtual Environments\" put the path to the project root, like C:\\Users\\username\\projects\\agents (on a Windows PC) or /Users/username/projects/agents (on Mac or Linux).  \n",
    "And then try again.\n",
    "\n",
    "Having problems with missing Python versions in that list? Have you ever used Anaconda before? It might be interferring. Quit Cursor, bring up a new command line, and make sure that your Anaconda environment is deactivated:    \n",
    "`conda deactivate`  \n",
    "And if you still have any problems with conda and python versions, it's possible that you will need to run this too:  \n",
    "`conda config --set auto_activate_base false`  \n",
    "and then from within the Agents directory, you should be able to run `uv python list` and see the Python 3.12 version."
   ]
  },
  {
   "cell_type": "markdown",
   "metadata": {},
   "source": [
    "### And please do remember to contact me if I can help\n",
    "\n",
    "And I love to connect: https://www.linkedin.com/in/eddonner/\n",
    "\n",
    "\n",
    "### New to Notebooks like this one? Head over to the guides folder!\n",
    "\n",
    "Just to check you've already added the Python and Jupyter extensions to Cursor, if not already installed:\n",
    "- Open extensions (View >> extensions)\n",
    "- Search for python, and when the results show, click on the ms-python one, and Install it if not already installed\n",
    "- Search for jupyter, and when the results show, click on the Microsoft one, and Install it if not already installed  \n",
    "Then View >> Explorer to bring back the File Explorer.\n",
    "\n",
    "And then:\n",
    "1. Run `uv add google-genai` to install the Google Gemini library. (If you had started your environment before running this command, you will need to restart your environment in the Jupyter notebook.)\n",
    "2. Click where it says \"Select Kernel\" near the top right, and select the option called `.venv (Python 3.12.9)` or similar, which should be the first choice or the most prominent choice. You may need to choose \"Python Environments\" first.\n",
    "3. Click in each \"cell\" below, starting with the cell immediately below this text, and press Shift+Enter to run\n",
    "4. Enjoy!\n",
    "\n",
    "After you click \"Select Kernel\", if there is no option like `.venv (Python 3.12.9)` then please do the following:  \n",
    "1. From the Cursor menu, choose Settings >> VSCode Settings (NOTE: be sure to select `VSCode Settings` not `Cursor Settings`)  \n",
    "2. In the Settings search bar, type \"venv\"  \n",
    "3. In the field \"Path to folder with a list of Virtual Environments\" put the path to the project root, like C:\\Users\\username\\projects\\agents (on a Windows PC) or /Users/username/projects/agents (on Mac or Linux).  \n",
    "And then try again.\n",
    "\n",
    "Having problems with missing Python versions in that list? Have you ever used Anaconda before? It might be interferring. Quit Cursor, bring up a new command line, and make sure that your Anaconda environment is deactivated:    \n",
    "`conda deactivate`  \n",
    "And if you still have any problems with conda and python versions, it's possible that you will need to run this too:  \n",
    "`conda config --set auto_activate_base false`  \n",
    "and then from within the Agents directory, you should be able to run `uv python list` and see the Python 3.12 version."
   ]
  },
  {
   "cell_type": "markdown",
   "metadata": {},
   "source": [
    "### And please do remember to contact me if I can help\n",
    "\n",
    "And I love to connect: https://www.linkedin.com/in/eddonner/\n",
    "\n",
    "\n",
    "### New to Notebooks like this one? Head over to the guides folder!\n",
    "\n",
    "Just to check you've already added the Python and Jupyter extensions to Cursor, if not already installed:\n",
    "- Open extensions (View >> extensions)\n",
    "- Search for python, and when the results show, click on the ms-python one, and Install it if not already installed\n",
    "- Search for jupyter, and when the results show, click on the Microsoft one, and Install it if not already installed  \n",
    "Then View >> Explorer to bring back the File Explorer.\n",
    "\n",
    "And then:\n",
    "1. Run `uv add google-genai` to install the Google Gemini library. (If you had started your environment before running this command, you will need to restart your environment in the Jupyter notebook.)\n",
    "2. Click where it says \"Select Kernel\" near the top right, and select the option called `.venv (Python 3.12.9)` or similar, which should be the first choice or the most prominent choice. You may need to choose \"Python Environments\" first.\n",
    "3. Click in each \"cell\" below, starting with the cell immediately below this text, and press Shift+Enter to run\n",
    "4. Enjoy!\n",
    "\n",
    "After you click \"Select Kernel\", if there is no option like `.venv (Python 3.12.9)` then please do the following:  \n",
    "1. From the Cursor menu, choose Settings >> VSCode Settings (NOTE: be sure to select `VSCode Settings` not `Cursor Settings`)  \n",
    "2. In the Settings search bar, type \"venv\"  \n",
    "3. In the field \"Path to folder with a list of Virtual Environments\" put the path to the project root, like C:\\Users\\username\\projects\\agents (on a Windows PC) or /Users/username/projects/agents (on Mac or Linux).  \n",
    "And then try again.\n",
    "\n",
    "Having problems with missing Python versions in that list? Have you ever used Anaconda before? It might be interferring. Quit Cursor, bring up a new command line, and make sure that your Anaconda environment is deactivated:    \n",
    "`conda deactivate`  \n",
    "And if you still have any problems with conda and python versions, it's possible that you will need to run this too:  \n",
    "`conda config --set auto_activate_base false`  \n",
    "and then from within the Agents directory, you should be able to run `uv python list` and see the Python 3.12 version."
   ]
  },
  {
   "cell_type": "markdown",
   "metadata": {},
   "source": []
  }
 ],
 "metadata": {
  "kernelspec": {
   "display_name": ".venv",
   "language": "python",
   "name": "python3"
  },
  "language_info": {
   "codemirror_mode": {
    "name": "ipython",
    "version": 3
   },
   "file_extension": ".py",
   "mimetype": "text/x-python",
   "name": "python",
   "nbconvert_exporter": "python",
   "pygments_lexer": "ipython3",
   "version": "3.12.7"
  }
 },
 "nbformat": 4,
 "nbformat_minor": 2
}
